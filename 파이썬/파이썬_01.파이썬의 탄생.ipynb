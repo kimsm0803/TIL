{
 "cells": [
  {
   "cell_type": "markdown",
   "id": "ed7ba385",
   "metadata": {},
   "source": [
    "# 파이썬의 탄생"
   ]
  },
  {
   "cell_type": "code",
   "execution_count": 1,
   "id": "7ba27b45",
   "metadata": {},
   "outputs": [
    {
     "name": "stdout",
     "output_type": "stream",
     "text": [
      "7\n"
     ]
    }
   ],
   "source": [
    "a = 3\n",
    "b = 4\n",
    "print(a + b)"
   ]
  },
  {
   "cell_type": "markdown",
   "id": "d0f45465",
   "metadata": {},
   "source": [
    "- 파이썬에서는 파일화 시킬 때 반드시 print() 함수를 써줘야 함\n",
    "- ex) print(a +b)  O\n",
    "- ex) a + b X"
   ]
  },
  {
   "cell_type": "markdown",
   "id": "e94a1e64",
   "metadata": {},
   "source": [
    "## print()"
   ]
  },
  {
   "cell_type": "markdown",
   "id": "9b6ecee8",
   "metadata": {},
   "source": [
    "- 함수 안에 있는 내용을 출력해 줌"
   ]
  },
  {
   "cell_type": "code",
   "execution_count": 3,
   "id": "5a88d9d0",
   "metadata": {},
   "outputs": [
    {
     "name": "stdout",
     "output_type": "stream",
     "text": [
      "lifeis\n",
      "life is short\n",
      "life is short\n"
     ]
    }
   ],
   "source": [
    "print(\"life\" \"is\" \"\")\n",
    "\n",
    "print(\"life\", \"is\", \"short\")\n",
    "\n",
    "print(\"life is short\")"
   ]
  },
  {
   "cell_type": "markdown",
   "id": "d0983c7f",
   "metadata": {},
   "source": [
    "# input()\n",
    "- 입력값을 받음"
   ]
  },
  {
   "cell_type": "code",
   "execution_count": 4,
   "id": "cdd0e5cd",
   "metadata": {},
   "outputs": [
    {
     "name": "stdout",
     "output_type": "stream",
     "text": [
      "a 값을 입력해주세요 : 20\n"
     ]
    }
   ],
   "source": [
    "a = input(\"a 값을 입력해주세요 : \")"
   ]
  },
  {
   "cell_type": "code",
   "execution_count": 5,
   "id": "269eb9ee",
   "metadata": {},
   "outputs": [
    {
     "name": "stdout",
     "output_type": "stream",
     "text": [
      "20\n"
     ]
    }
   ],
   "source": [
    "print(a)"
   ]
  },
  {
   "cell_type": "code",
   "execution_count": 6,
   "id": "ef0ba116",
   "metadata": {},
   "outputs": [
    {
     "name": "stdout",
     "output_type": "stream",
     "text": [
      "2030\n"
     ]
    }
   ],
   "source": [
    "b = input(a)"
   ]
  },
  {
   "cell_type": "code",
   "execution_count": 7,
   "id": "1f343549",
   "metadata": {},
   "outputs": [
    {
     "name": "stdout",
     "output_type": "stream",
     "text": [
      "30\n"
     ]
    }
   ],
   "source": [
    "print(b)"
   ]
  },
  {
   "cell_type": "markdown",
   "id": "7cb521b4",
   "metadata": {},
   "source": [
    "## 주석 예제\n",
    "- 한 줄 주석 처리는 # 을 사용"
   ]
  },
  {
   "cell_type": "code",
   "execution_count": 8,
   "id": "299f5456",
   "metadata": {},
   "outputs": [
    {
     "name": "stdout",
     "output_type": "stream",
     "text": [
      "지구인\n",
      "10\n",
      "안녕\n"
     ]
    }
   ],
   "source": [
    "identity = \"지구인\" # 정체1\n",
    "number_of_legs = 10 # 다리의 수\n",
    "print(identity)\n",
    "print(number_of_legs)\n",
    "print(\"안녕\")\n",
    "#print(\"너는 누구니?\")"
   ]
  },
  {
   "cell_type": "markdown",
   "id": "8912bd11",
   "metadata": {},
   "source": [
    "- 여러 줄 주석 처리는 ( \"\"\" ) or ( ''' ) 사용"
   ]
  },
  {
   "cell_type": "code",
   "execution_count": 11,
   "id": "43d26b1b",
   "metadata": {},
   "outputs": [
    {
     "name": "stdout",
     "output_type": "stream",
     "text": [
      "hello\n"
     ]
    }
   ],
   "source": [
    "\"\"\"\n",
    "주석 내용입니다.\n",
    "\"\"\"\n",
    "print(\"hello\")"
   ]
  },
  {
   "cell_type": "markdown",
   "id": "c119ab2c",
   "metadata": {},
   "source": [
    "## 변수\n",
    "- 똑같은 이름의 변수에 새로운 값을 저장할 경우 변수의 값이 변경 X, 새로운 변수 생성 O\n",
    "  - 기존 변수의 값을 불러올 수는 없음"
   ]
  },
  {
   "cell_type": "code",
   "execution_count": 12,
   "id": "3c537f68",
   "metadata": {},
   "outputs": [
    {
     "name": "stdout",
     "output_type": "stream",
     "text": [
      "외계인\n"
     ]
    }
   ],
   "source": [
    "identity = \"지구인\"\n",
    "identity = \"외계인\"\n",
    "print(identity)"
   ]
  },
  {
   "cell_type": "markdown",
   "id": "37077256",
   "metadata": {},
   "source": [
    "### **변수 생성 시 특징**\n",
    "- 변수 명의 첫 문자는 영문자 또는 언더바( _ )로 시작\n",
    "- 예약어 사용 불가"
   ]
  },
  {
   "cell_type": "code",
   "execution_count": 13,
   "id": "6135c514",
   "metadata": {},
   "outputs": [
    {
     "ename": "SyntaxError",
     "evalue": "invalid decimal literal (Temp/ipykernel_68924/105985597.py, line 1)",
     "output_type": "error",
     "traceback": [
      "\u001b[1;36m  File \u001b[1;32m\"C:\\Users\\vjkim\\AppData\\Local\\Temp/ipykernel_68924/105985597.py\"\u001b[1;36m, line \u001b[1;32m1\u001b[0m\n\u001b[1;33m    1_unit = 1 # 변수명이 숫자로 시작하는 경우\u001b[0m\n\u001b[1;37m     ^\u001b[0m\n\u001b[1;31mSyntaxError\u001b[0m\u001b[1;31m:\u001b[0m invalid decimal literal\n"
     ]
    }
   ],
   "source": [
    "1_unit = 1 # 변수명이 숫자로 시작하는 경우"
   ]
  },
  {
   "cell_type": "markdown",
   "id": "28f5c791",
   "metadata": {},
   "source": [
    "### 변수 생성 특징 예제"
   ]
  },
  {
   "cell_type": "code",
   "execution_count": 15,
   "id": "5af384c4",
   "metadata": {},
   "outputs": [
    {
     "ename": "SyntaxError",
     "evalue": "invalid decimal literal (Temp/ipykernel_68924/105985597.py, line 1)",
     "output_type": "error",
     "traceback": [
      "\u001b[1;36m  File \u001b[1;32m\"C:\\Users\\vjkim\\AppData\\Local\\Temp/ipykernel_68924/105985597.py\"\u001b[1;36m, line \u001b[1;32m1\u001b[0m\n\u001b[1;33m    1_unit = 1 # 변수명이 숫자로 시작하는 경우\u001b[0m\n\u001b[1;37m     ^\u001b[0m\n\u001b[1;31mSyntaxError\u001b[0m\u001b[1;31m:\u001b[0m invalid decimal literal\n"
     ]
    }
   ],
   "source": [
    "1_unit = 1 # 변수명이 숫자로 시작하는 경우"
   ]
  },
  {
   "cell_type": "code",
   "execution_count": 16,
   "id": "ee146cb1",
   "metadata": {},
   "outputs": [
    {
     "ename": "SyntaxError",
     "evalue": "invalid syntax (Temp/ipykernel_68924/353338086.py, line 2)",
     "output_type": "error",
     "traceback": [
      "\u001b[1;36m  File \u001b[1;32m\"C:\\Users\\vjkim\\AppData\\Local\\Temp/ipykernel_68924/353338086.py\"\u001b[1;36m, line \u001b[1;32m2\u001b[0m\n\u001b[1;33m    @unit = 1 # 변수명이 특수문자로 시작하는 경우\u001b[0m\n\u001b[1;37m          ^\u001b[0m\n\u001b[1;31mSyntaxError\u001b[0m\u001b[1;31m:\u001b[0m invalid syntax\n"
     ]
    }
   ],
   "source": [
    "_unit = 1 # 변수명이 언더바로 시작하는 경우\n",
    "@unit = 1 # 변수명이 특수문자로 시작하는 경우\n",
    "and = 1 # 변수명 예약어 사용 불가\n",
    "for = 1 # 변수명 예약어 사용 불가"
   ]
  },
  {
   "cell_type": "markdown",
   "id": "df6637eb",
   "metadata": {},
   "source": [
    "### 변수 제거 예제"
   ]
  },
  {
   "cell_type": "code",
   "execution_count": 17,
   "id": "93a36947",
   "metadata": {},
   "outputs": [
    {
     "name": "stdout",
     "output_type": "stream",
     "text": [
      "3\n",
      "4\n"
     ]
    }
   ],
   "source": [
    "a = 3\n",
    "b = 4\n",
    "\n",
    "print(a)\n",
    "print(b)"
   ]
  },
  {
   "cell_type": "code",
   "execution_count": 18,
   "id": "abaf1ad1",
   "metadata": {},
   "outputs": [
    {
     "ename": "NameError",
     "evalue": "name 'a' is not defined",
     "output_type": "error",
     "traceback": [
      "\u001b[1;31m---------------------------------------------------------------------------\u001b[0m",
      "\u001b[1;31mNameError\u001b[0m                                 Traceback (most recent call last)",
      "\u001b[1;32m~\\AppData\\Local\\Temp/ipykernel_68924/1996242481.py\u001b[0m in \u001b[0;36m<module>\u001b[1;34m\u001b[0m\n\u001b[0;32m      2\u001b[0m \u001b[1;32mdel\u001b[0m\u001b[1;33m(\u001b[0m\u001b[0mb\u001b[0m\u001b[1;33m)\u001b[0m\u001b[1;33m\u001b[0m\u001b[1;33m\u001b[0m\u001b[0m\n\u001b[0;32m      3\u001b[0m \u001b[1;33m\u001b[0m\u001b[0m\n\u001b[1;32m----> 4\u001b[1;33m \u001b[0mprint\u001b[0m\u001b[1;33m(\u001b[0m\u001b[0ma\u001b[0m\u001b[1;33m)\u001b[0m\u001b[1;33m\u001b[0m\u001b[1;33m\u001b[0m\u001b[0m\n\u001b[0m\u001b[0;32m      5\u001b[0m \u001b[0mprint\u001b[0m\u001b[1;33m(\u001b[0m\u001b[0mb\u001b[0m\u001b[1;33m)\u001b[0m\u001b[1;33m\u001b[0m\u001b[1;33m\u001b[0m\u001b[0m\n",
      "\u001b[1;31mNameError\u001b[0m: name 'a' is not defined"
     ]
    }
   ],
   "source": [
    "del(a)\n",
    "del(b)\n",
    "\n",
    "print(a)\n",
    "print(b)"
   ]
  },
  {
   "cell_type": "markdown",
   "id": "3c43dd5f",
   "metadata": {},
   "source": [
    "- 변수 a를 제거했기 때문에 print() 함수로 출력되지 않음"
   ]
  },
  {
   "cell_type": "markdown",
   "id": "366963cd",
   "metadata": {},
   "source": [
    "## 파이썬 대소문자 구분 예제"
   ]
  },
  {
   "cell_type": "code",
   "execution_count": 20,
   "id": "aa5931b2",
   "metadata": {},
   "outputs": [
    {
     "name": "stdout",
     "output_type": "stream",
     "text": [
      "python\n"
     ]
    }
   ],
   "source": [
    "a = \"python\"\n",
    "print(a)"
   ]
  },
  {
   "cell_type": "code",
   "execution_count": 21,
   "id": "722c4f19",
   "metadata": {},
   "outputs": [
    {
     "ename": "NameError",
     "evalue": "name 'PRINT' is not defined",
     "output_type": "error",
     "traceback": [
      "\u001b[1;31m---------------------------------------------------------------------------\u001b[0m",
      "\u001b[1;31mNameError\u001b[0m                                 Traceback (most recent call last)",
      "\u001b[1;32m~\\AppData\\Local\\Temp/ipykernel_68924/1884753074.py\u001b[0m in \u001b[0;36m<module>\u001b[1;34m\u001b[0m\n\u001b[1;32m----> 1\u001b[1;33m \u001b[0mPRINT\u001b[0m\u001b[1;33m(\u001b[0m\u001b[0ma\u001b[0m\u001b[1;33m)\u001b[0m\u001b[1;33m\u001b[0m\u001b[1;33m\u001b[0m\u001b[0m\n\u001b[0m",
      "\u001b[1;31mNameError\u001b[0m: name 'PRINT' is not defined"
     ]
    }
   ],
   "source": [
    "PRINT(a)"
   ]
  },
  {
   "cell_type": "markdown",
   "id": "f4357cd2",
   "metadata": {},
   "source": [
    "## 비교 연산자 예제"
   ]
  },
  {
   "cell_type": "code",
   "execution_count": 22,
   "id": "7b119783",
   "metadata": {},
   "outputs": [
    {
     "name": "stdout",
     "output_type": "stream",
     "text": [
      "True\n",
      "False\n"
     ]
    }
   ],
   "source": [
    "X = 3\n",
    "Y = 4\n",
    "print(X < Y)\n",
    "print(X > Y)"
   ]
  },
  {
   "cell_type": "markdown",
   "id": "88a15ab7",
   "metadata": {},
   "source": [
    "X = 3 Y = 4 Z = 5\n",
    "\n",
    "X < Y or Z < Y <br>\n",
    "true or false\n",
    "=> 참"
   ]
  },
  {
   "cell_type": "markdown",
   "id": "457283a7",
   "metadata": {},
   "source": [
    "## in, not in 예제"
   ]
  },
  {
   "cell_type": "code",
   "execution_count": 24,
   "id": "ad43289b",
   "metadata": {},
   "outputs": [
    {
     "name": "stdout",
     "output_type": "stream",
     "text": [
      "True\n"
     ]
    }
   ],
   "source": [
    "print(1 in [1, 2, 3])"
   ]
  },
  {
   "cell_type": "code",
   "execution_count": 25,
   "id": "948c9b9c",
   "metadata": {},
   "outputs": [
    {
     "name": "stdout",
     "output_type": "stream",
     "text": [
      "False\n"
     ]
    }
   ],
   "source": [
    "print(1 not in [1, 2, 3])"
   ]
  },
  {
   "cell_type": "code",
   "execution_count": 26,
   "id": "f5870e7b",
   "metadata": {},
   "outputs": [
    {
     "name": "stdout",
     "output_type": "stream",
     "text": [
      "True\n"
     ]
    }
   ],
   "source": [
    "print('a' in ('a', 'b', 'c'))"
   ]
  },
  {
   "cell_type": "code",
   "execution_count": 27,
   "id": "17232188",
   "metadata": {},
   "outputs": [
    {
     "name": "stdout",
     "output_type": "stream",
     "text": [
      "False\n"
     ]
    }
   ],
   "source": [
    "print('j' in 'python')"
   ]
  },
  {
   "cell_type": "markdown",
   "id": "38a4d328",
   "metadata": {},
   "source": [
    "## IF 문 예제\n",
    "\n",
    "- 조건문이 참일 경우에만 하위 코드 실행"
   ]
  },
  {
   "cell_type": "code",
   "execution_count": 28,
   "id": "d38c66c0",
   "metadata": {},
   "outputs": [
    {
     "name": "stdout",
     "output_type": "stream",
     "text": [
      "a is greater than 1\n"
     ]
    }
   ],
   "source": [
    "a = 3\n",
    "if a > 1:\n",
    "    print(\"a is greater than 1\")"
   ]
  },
  {
   "cell_type": "code",
   "execution_count": 29,
   "id": "0bcff510",
   "metadata": {},
   "outputs": [],
   "source": [
    "a = 0\n",
    "if a > 1:\n",
    "    print(\"a is greater than 1\")"
   ]
  },
  {
   "cell_type": "markdown",
   "id": "c96bb605",
   "metadata": {},
   "source": [
    "## FOR 문 예제\n",
    "\n",
    "- 리스트, 튜플, 문자열과 함께 쓰이는 반복문"
   ]
  },
  {
   "cell_type": "code",
   "execution_count": 30,
   "id": "d5a56a57",
   "metadata": {},
   "outputs": [
    {
     "name": "stdout",
     "output_type": "stream",
     "text": [
      "1\n",
      "2\n",
      "3\n"
     ]
    }
   ],
   "source": [
    "for apple in [1, 2, 3]:\n",
    "    print(apple)"
   ]
  },
  {
   "cell_type": "markdown",
   "id": "4262de8f",
   "metadata": {},
   "source": [
    "## WHILE 문 예제\n",
    "\n",
    "- 조건문과 함께 쓰이는 반복문"
   ]
  },
  {
   "cell_type": "code",
   "execution_count": 32,
   "id": "3749584a",
   "metadata": {},
   "outputs": [
    {
     "name": "stdout",
     "output_type": "stream",
     "text": [
      "나무를 1번 찍었습니다.\n",
      "나무를 2번 찍었습니다.\n",
      "나무를 3번 찍었습니다.\n",
      "나무를 4번 찍었습니다.\n",
      "나무를 5번 찍었습니다.\n",
      "나무를 6번 찍었습니다.\n",
      "나무를 7번 찍었습니다.\n",
      "나무를 8번 찍었습니다.\n",
      "나무를 9번 찍었습니다.\n",
      "나무를 10번 찍었습니다.\n",
      "나무 넘어갑니다.\n"
     ]
    }
   ],
   "source": [
    "treeHit = 0\n",
    "while treeHit < 10:\n",
    "    treeHit = treeHit + 1\n",
    "    print(\"나무를 %d번 찍었습니다.\" % treeHit)\n",
    "    if treeHit == 10:\n",
    "        print(\"나무 넘어갑니다.\")"
   ]
  },
  {
   "cell_type": "code",
   "execution_count": 33,
   "id": "b0e1a6ec",
   "metadata": {},
   "outputs": [
    {
     "name": "stdout",
     "output_type": "stream",
     "text": [
      "나무가지가 10개 남았습니다.\n",
      "나무를 1번 찍었습니다.\n",
      "나무가지가 9개 남았습니다.\n",
      "나무를 2번 찍었습니다.\n",
      "나무가지가 8개 남았습니다.\n",
      "나무를 3번 찍었습니다.\n",
      "나무가지가 7개 남았습니다.\n",
      "나무를 4번 찍었습니다.\n",
      "나무가지가 6개 남았습니다.\n",
      "나무를 5번 찍었습니다.\n",
      "나무가지가 5개 남았습니다.\n",
      "나무를 6번 찍었습니다.\n",
      "나무가지가 4개 남았습니다.\n",
      "나무를 7번 찍었습니다.\n",
      "나무가지가 3개 남았습니다.\n",
      "나무를 8번 찍었습니다.\n",
      "나무가지가 2개 남았습니다.\n",
      "나무를 9번 찍었습니다.\n",
      "나무가지가 1개 남았습니다.\n",
      "나무를 10번 찍었습니다.\n",
      "나무가지가 0개 남았습니다.\n",
      "Success\n",
      "Success\n"
     ]
    }
   ],
   "source": [
    "TreeHit = 0\n",
    "TreeBranch = 10\n",
    "print(\"나무가지가 %d개 남았습니다.\" % TreeBranch)\n",
    "while TreeHit < 10:\n",
    "    TreeHit = TreeHit + 1\n",
    "    TreeBranch = TreeBranch - 1\n",
    "    print(\"나무를 %d번 찍었습니다.\" % TreeHit)\n",
    "    print(\"나무가지가 %d개 남았습니다.\" % TreeBranch)\n",
    "    if TreeHit == 10:\n",
    "        print(\"Success\")\n",
    "    if TreeBranch == 0:\n",
    "        print(\"Success\")"
   ]
  },
  {
   "cell_type": "markdown",
   "id": "ce36be38",
   "metadata": {},
   "source": [
    "## 함수\n",
    "\n",
    "- 함수는 인자를 입력받아 결과를 도출하는 목적으로 사용\n",
    "- 사용자가 편리하게 사용하기 위해 만드는 목적도 있음"
   ]
  },
  {
   "cell_type": "code",
   "execution_count": 34,
   "id": "c16bd478",
   "metadata": {},
   "outputs": [
    {
     "name": "stdout",
     "output_type": "stream",
     "text": [
      "7\n"
     ]
    }
   ],
   "source": [
    "def add(a, b):\n",
    "    return a + b\n",
    "print(add(3, 4))"
   ]
  },
  {
   "cell_type": "markdown",
   "id": "9224d566",
   "metadata": {},
   "source": [
    "## 파이썬이 객체 지향이라고 불리는 이유"
   ]
  },
  {
   "cell_type": "code",
   "execution_count": 35,
   "id": "20db356b",
   "metadata": {},
   "outputs": [
    {
     "name": "stdout",
     "output_type": "stream",
     "text": [
      "1661099010640\n"
     ]
    }
   ],
   "source": [
    "a = 10\n",
    "print(id(a)) # a 변수 메모리 주소 확인"
   ]
  },
  {
   "cell_type": "code",
   "execution_count": 36,
   "id": "d3f7e98d",
   "metadata": {},
   "outputs": [
    {
     "name": "stdout",
     "output_type": "stream",
     "text": [
      "1661099010640\n"
     ]
    }
   ],
   "source": [
    "b = 10\n",
    "print(id(b)) # b 변수 메모리 주소 확인"
   ]
  }
 ],
 "metadata": {
  "kernelspec": {
   "display_name": "Python 3 (ipykernel)",
   "language": "python",
   "name": "python3"
  },
  "language_info": {
   "codemirror_mode": {
    "name": "ipython",
    "version": 3
   },
   "file_extension": ".py",
   "mimetype": "text/x-python",
   "name": "python",
   "nbconvert_exporter": "python",
   "pygments_lexer": "ipython3",
   "version": "3.9.7"
  }
 },
 "nbformat": 4,
 "nbformat_minor": 5
}
