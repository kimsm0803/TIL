{
 "cells": [
  {
   "cell_type": "markdown",
   "id": "67eac1e1",
   "metadata": {},
   "source": [
    "## 숫자형"
   ]
  },
  {
   "cell_type": "markdown",
   "id": "4607a262",
   "metadata": {},
   "source": [
    "### 정수\n",
    "- 정수는 int로 나타냄\n",
    "- 파이썬 정수의 크기는 32bit(=4byte)\n",
    "- 정수 확인 예제"
   ]
  },
  {
   "cell_type": "code",
   "execution_count": 1,
   "id": "da8b006c",
   "metadata": {},
   "outputs": [
    {
     "name": "stdout",
     "output_type": "stream",
     "text": [
      "<class 'int'>\n"
     ]
    }
   ],
   "source": [
    "a = 123\n",
    "print(type(a))"
   ]
  },
  {
   "cell_type": "code",
   "execution_count": 2,
   "id": "eced00ab",
   "metadata": {},
   "outputs": [
    {
     "name": "stdout",
     "output_type": "stream",
     "text": [
      "4\n"
     ]
    }
   ],
   "source": [
    "print((9).bit_length())"
   ]
  },
  {
   "cell_type": "markdown",
   "id": "aa24484a",
   "metadata": {},
   "source": [
    "### 부동소수점(실수)\n",
    "\n",
    "- 부동소수점(실수)은 float으로 나타냄\n",
    "- 부동소수점(실수) 확인 예제"
   ]
  },
  {
   "cell_type": "code",
   "execution_count": 3,
   "id": "2baec435",
   "metadata": {},
   "outputs": [
    {
     "name": "stdout",
     "output_type": "stream",
     "text": [
      "<class 'float'>\n"
     ]
    }
   ],
   "source": [
    "b = -1.23\n",
    "print(type(b))"
   ]
  },
  {
   "cell_type": "markdown",
   "id": "33cf6ae9",
   "metadata": {},
   "source": [
    "\n"
   ]
  },
  {
   "cell_type": "markdown",
   "id": "6d4fd99e",
   "metadata": {},
   "source": [
    "### 2진수, 8진수, 16진수"
   ]
  },
  {
   "cell_type": "code",
   "execution_count": 4,
   "id": "5fd2d2e1",
   "metadata": {},
   "outputs": [
    {
     "name": "stdout",
     "output_type": "stream",
     "text": [
      "0b11111111\n"
     ]
    }
   ],
   "source": [
    "print(bin(255)) # 2진수"
   ]
  },
  {
   "cell_type": "code",
   "execution_count": 5,
   "id": "1225aa18",
   "metadata": {},
   "outputs": [
    {
     "name": "stdout",
     "output_type": "stream",
     "text": [
      "0o377\n"
     ]
    }
   ],
   "source": [
    "print(oct(255)) # 8진수"
   ]
  },
  {
   "cell_type": "code",
   "execution_count": 6,
   "id": "0905cdb9",
   "metadata": {},
   "outputs": [
    {
     "name": "stdout",
     "output_type": "stream",
     "text": [
      "0xff\n"
     ]
    }
   ],
   "source": [
    "print(hex(255)) # 16진수"
   ]
  },
  {
   "cell_type": "markdown",
   "id": "24ea6e00",
   "metadata": {},
   "source": [
    "### 사칙연산"
   ]
  },
  {
   "cell_type": "code",
   "execution_count": 7,
   "id": "396db059",
   "metadata": {},
   "outputs": [
    {
     "name": "stdout",
     "output_type": "stream",
     "text": [
      "7\n",
      "-1\n",
      "12\n",
      "0.75\n"
     ]
    }
   ],
   "source": [
    "a = 3\n",
    "b = 4\n",
    "\n",
    "print(a+b)\n",
    "print(a-b)\n",
    "print(a*b)\n",
    "print(a/b)"
   ]
  },
  {
   "cell_type": "markdown",
   "id": "f44ed545",
   "metadata": {},
   "source": [
    "### x의 y제곱을 나타내는 ** 연산자"
   ]
  },
  {
   "cell_type": "code",
   "execution_count": 8,
   "id": "72fde403",
   "metadata": {},
   "outputs": [
    {
     "name": "stdout",
     "output_type": "stream",
     "text": [
      "81\n"
     ]
    }
   ],
   "source": [
    "a = 3\n",
    "b = 4\n",
    "print(a**b)"
   ]
  },
  {
   "cell_type": "markdown",
   "id": "0a4316e7",
   "metadata": {},
   "source": [
    "### 나눗셈 후 몫을 반환하는 // 연산자"
   ]
  },
  {
   "cell_type": "code",
   "execution_count": 9,
   "id": "2323da2f",
   "metadata": {},
   "outputs": [
    {
     "name": "stdout",
     "output_type": "stream",
     "text": [
      "2\n"
     ]
    }
   ],
   "source": [
    "a = 7\n",
    "b = 3\n",
    "print(a//b)"
   ]
  },
  {
   "cell_type": "markdown",
   "id": "761316b5",
   "metadata": {},
   "source": [
    "### 나눗셈 후 나머지를 반환하는 % 연산자"
   ]
  },
  {
   "cell_type": "code",
   "execution_count": 10,
   "id": "db4ff23b",
   "metadata": {},
   "outputs": [
    {
     "name": "stdout",
     "output_type": "stream",
     "text": [
      "1\n"
     ]
    }
   ],
   "source": [
    "a = 7\n",
    "b = 3\n",
    "print(a%b)"
   ]
  },
  {
   "cell_type": "markdown",
   "id": "8393ac3b",
   "metadata": {},
   "source": [
    "## 문자열 자료형\n",
    "- 문자열 자체를 표현할 때 ( ' ' ), ( \" \") 차이점 없음 (사용자 마음)"
   ]
  },
  {
   "cell_type": "code",
   "execution_count": 11,
   "id": "34bc4d48",
   "metadata": {},
   "outputs": [
    {
     "ename": "SyntaxError",
     "evalue": "invalid syntax (Temp/ipykernel_68520/1385750172.py, line 1)",
     "output_type": "error",
     "traceback": [
      "\u001b[1;36m  File \u001b[1;32m\"C:\\Users\\vjkim\\AppData\\Local\\Temp/ipykernel_68520/1385750172.py\"\u001b[1;36m, line \u001b[1;32m1\u001b[0m\n\u001b[1;33m    say = \"\"Python is very easy.\" he says\" # 따옴표 중복 사용 불가\u001b[0m\n\u001b[1;37m            ^\u001b[0m\n\u001b[1;31mSyntaxError\u001b[0m\u001b[1;31m:\u001b[0m invalid syntax\n"
     ]
    }
   ],
   "source": [
    "say = \"\"Python is very easy.\" he says\" # 따옴표 중복 사용 불가"
   ]
  },
  {
   "cell_type": "code",
   "execution_count": 12,
   "id": "99375de1",
   "metadata": {},
   "outputs": [
    {
     "name": "stdout",
     "output_type": "stream",
     "text": [
      "\"Python is very easy.\" he says\n"
     ]
    }
   ],
   "source": [
    "say2 = '\"Python is very easy.\" he says'\n",
    "print(say2)"
   ]
  },
  {
   "cell_type": "markdown",
   "id": "7f5118b1",
   "metadata": {},
   "source": [
    "### 특수기호 표기\n",
    "\n",
    "- 특수 기호의 역할을 하지 못하게 하고 싶을 때 ￦ 를 앞에 붙여줌"
   ]
  },
  {
   "cell_type": "code",
   "execution_count": 13,
   "id": "637c35c3",
   "metadata": {},
   "outputs": [
    {
     "ename": "SyntaxError",
     "evalue": "EOL while scanning string literal (Temp/ipykernel_68520/3501535323.py, line 1)",
     "output_type": "error",
     "traceback": [
      "\u001b[1;36m  File \u001b[1;32m\"C:\\Users\\vjkim\\AppData\\Local\\Temp/ipykernel_68520/3501535323.py\"\u001b[1;36m, line \u001b[1;32m1\u001b[0m\n\u001b[1;33m    money = \"10000\\\"\u001b[0m\n\u001b[1;37m                    ^\u001b[0m\n\u001b[1;31mSyntaxError\u001b[0m\u001b[1;31m:\u001b[0m EOL while scanning string literal\n"
     ]
    }
   ],
   "source": [
    "money = \"10000\\\""
   ]
  },
  {
   "cell_type": "code",
   "execution_count": 14,
   "id": "10b4e723",
   "metadata": {},
   "outputs": [
    {
     "name": "stdout",
     "output_type": "stream",
     "text": [
      "10000\\\n"
     ]
    }
   ],
   "source": [
    "money = \"10000\\\\\"\n",
    "print(money)"
   ]
  },
  {
   "cell_type": "markdown",
   "id": "44282f1e",
   "metadata": {},
   "source": [
    "- 특수 기호의 역할을 하지 못하게 하고 싶을 때 ￦ 를 앞에 붙여줌"
   ]
  },
  {
   "cell_type": "markdown",
   "id": "9fb8f0c3",
   "metadata": {},
   "source": [
    "### 줄 바꿈\n",
    "- 이스케이프 문자 사용"
   ]
  },
  {
   "cell_type": "code",
   "execution_count": 15,
   "id": "8fb3ae68",
   "metadata": {},
   "outputs": [],
   "source": [
    "multiline = \"Life is short\\nYou need python\" # 읽기가 불편하고 줄이 길어짐"
   ]
  },
  {
   "cell_type": "code",
   "execution_count": 16,
   "id": "6c5d4b35",
   "metadata": {},
   "outputs": [
    {
     "name": "stdout",
     "output_type": "stream",
     "text": [
      "Life is short\n",
      "You need python\n"
     ]
    }
   ],
   "source": [
    "print(multiline) "
   ]
  },
  {
   "cell_type": "markdown",
   "id": "e8d26a22",
   "metadata": {},
   "source": [
    "- 연속된 작은 따옴표 세 개(''') or 큰 따옴표 세 개(\"\"\") 사용"
   ]
  },
  {
   "cell_type": "code",
   "execution_count": 17,
   "id": "88bcf3dd",
   "metadata": {},
   "outputs": [],
   "source": [
    "multiline=\"\"\"\n",
    "Life is short\n",
    "You need python\n",
    "\"\"\""
   ]
  },
  {
   "cell_type": "code",
   "execution_count": 18,
   "id": "28c51e63",
   "metadata": {},
   "outputs": [
    {
     "name": "stdout",
     "output_type": "stream",
     "text": [
      "\n",
      "Life is short\n",
      "You need python\n",
      "\n"
     ]
    }
   ],
   "source": [
    "print(multiline)"
   ]
  },
  {
   "cell_type": "markdown",
   "id": "48a0d3d7",
   "metadata": {},
   "source": [
    "### 문자열 합치기, 곱하기"
   ]
  },
  {
   "cell_type": "code",
   "execution_count": 19,
   "id": "e278b7f1",
   "metadata": {},
   "outputs": [
    {
     "name": "stdout",
     "output_type": "stream",
     "text": [
      "Python is fun!\n"
     ]
    }
   ],
   "source": [
    "head = \"Python\"\n",
    "tail = \" is fun!\"\n",
    "print(head + tail)"
   ]
  },
  {
   "cell_type": "code",
   "execution_count": 20,
   "id": "b39b63ee",
   "metadata": {},
   "outputs": [
    {
     "name": "stdout",
     "output_type": "stream",
     "text": [
      "PythonPython\n"
     ]
    }
   ],
   "source": [
    "a = \"Python\"\n",
    "print(a*2)"
   ]
  },
  {
   "cell_type": "code",
   "execution_count": 21,
   "id": "fd070aea",
   "metadata": {},
   "outputs": [
    {
     "name": "stdout",
     "output_type": "stream",
     "text": [
      "==============================\n",
      "My Program\n",
      "==============================\n"
     ]
    }
   ],
   "source": [
    "print(\"=\" * 30)\n",
    "print(\"My Program\")\n",
    "print(\"=\" * 30)"
   ]
  },
  {
   "cell_type": "markdown",
   "id": "766780fc",
   "metadata": {},
   "source": [
    "### 문자열 길이 구하기"
   ]
  },
  {
   "cell_type": "code",
   "execution_count": 22,
   "id": "4f9ba062",
   "metadata": {},
   "outputs": [
    {
     "name": "stdout",
     "output_type": "stream",
     "text": [
      "17\n"
     ]
    }
   ],
   "source": [
    "a = \"Life is too short\"\n",
    "print(len(a))"
   ]
  },
  {
   "cell_type": "markdown",
   "id": "f5ebd5ba",
   "metadata": {},
   "source": [
    "### 문자열 인덱싱"
   ]
  },
  {
   "cell_type": "code",
   "execution_count": 23,
   "id": "cf739a41",
   "metadata": {},
   "outputs": [],
   "source": [
    "a = \"Life is too short, You need Python\""
   ]
  },
  {
   "cell_type": "code",
   "execution_count": 24,
   "id": "a68644d0",
   "metadata": {},
   "outputs": [
    {
     "name": "stdout",
     "output_type": "stream",
     "text": [
      "o\n"
     ]
    }
   ],
   "source": [
    "print(a[10])"
   ]
  },
  {
   "cell_type": "code",
   "execution_count": 25,
   "id": "bb251a8a",
   "metadata": {},
   "outputs": [
    {
     "name": "stdout",
     "output_type": "stream",
     "text": [
      "e\n"
     ]
    }
   ],
   "source": [
    "print(a[-10])"
   ]
  },
  {
   "cell_type": "markdown",
   "id": "6692f1a1",
   "metadata": {},
   "source": [
    "### 문자열 슬라이싱"
   ]
  },
  {
   "cell_type": "code",
   "execution_count": 26,
   "id": "265c73d5",
   "metadata": {},
   "outputs": [],
   "source": [
    "a = \"Life is too short, You need Python\""
   ]
  },
  {
   "cell_type": "code",
   "execution_count": 27,
   "id": "c90d878a",
   "metadata": {},
   "outputs": [
    {
     "name": "stdout",
     "output_type": "stream",
     "text": [
      "Life\n"
     ]
    }
   ],
   "source": [
    "print(a[0:4])"
   ]
  },
  {
   "cell_type": "code",
   "execution_count": 28,
   "id": "7729809f",
   "metadata": {},
   "outputs": [
    {
     "name": "stdout",
     "output_type": "stream",
     "text": [
      "Life\n"
     ]
    }
   ],
   "source": [
    "print(a[:4])"
   ]
  },
  {
   "cell_type": "code",
   "execution_count": 29,
   "id": "49e5c630",
   "metadata": {},
   "outputs": [
    {
     "name": "stdout",
     "output_type": "stream",
     "text": [
      "o short, You need Python\n"
     ]
    }
   ],
   "source": [
    "print(a[10:])"
   ]
  },
  {
   "cell_type": "markdown",
   "id": "1608c6a3",
   "metadata": {},
   "source": [
    "### 문자열 수정"
   ]
  },
  {
   "cell_type": "code",
   "execution_count": 30,
   "id": "e50e3d74",
   "metadata": {},
   "outputs": [],
   "source": [
    "a = \"Pithon\""
   ]
  },
  {
   "cell_type": "code",
   "execution_count": 31,
   "id": "8aa3e4b5",
   "metadata": {},
   "outputs": [
    {
     "ename": "TypeError",
     "evalue": "'str' object does not support item assignment",
     "output_type": "error",
     "traceback": [
      "\u001b[1;31m---------------------------------------------------------------------------\u001b[0m",
      "\u001b[1;31mTypeError\u001b[0m                                 Traceback (most recent call last)",
      "\u001b[1;32m~\\AppData\\Local\\Temp/ipykernel_68520/2631417332.py\u001b[0m in \u001b[0;36m<module>\u001b[1;34m\u001b[0m\n\u001b[1;32m----> 1\u001b[1;33m \u001b[0ma\u001b[0m\u001b[1;33m[\u001b[0m\u001b[1;36m1\u001b[0m\u001b[1;33m]\u001b[0m \u001b[1;33m=\u001b[0m \u001b[1;34m\"y\"\u001b[0m\u001b[1;33m\u001b[0m\u001b[1;33m\u001b[0m\u001b[0m\n\u001b[0m",
      "\u001b[1;31mTypeError\u001b[0m: 'str' object does not support item assignment"
     ]
    }
   ],
   "source": [
    "a[1] = \"y\""
   ]
  },
  {
   "cell_type": "code",
   "execution_count": 32,
   "id": "60f79f92",
   "metadata": {},
   "outputs": [
    {
     "data": {
      "text/plain": [
       "'Python'"
      ]
     },
     "execution_count": 32,
     "metadata": {},
     "output_type": "execute_result"
    }
   ],
   "source": [
    "a[:1] + \"y\" + a[2:]"
   ]
  },
  {
   "cell_type": "markdown",
   "id": "cc928eb9",
   "metadata": {},
   "source": [
    "### 문자열 포매팅"
   ]
  },
  {
   "cell_type": "markdown",
   "id": "795f8343",
   "metadata": {},
   "source": [
    "1. 숫자 바로 대입"
   ]
  },
  {
   "cell_type": "code",
   "execution_count": 34,
   "id": "c019dea0",
   "metadata": {},
   "outputs": [
    {
     "name": "stdout",
     "output_type": "stream",
     "text": [
      "I eat 3 apples\n"
     ]
    }
   ],
   "source": [
    "print(\"I eat %d apples\" % 3)"
   ]
  },
  {
   "cell_type": "markdown",
   "id": "6a8be497",
   "metadata": {},
   "source": [
    "2. 문자열 바로 대입"
   ]
  },
  {
   "cell_type": "code",
   "execution_count": 36,
   "id": "eeacdb4e",
   "metadata": {},
   "outputs": [
    {
     "name": "stdout",
     "output_type": "stream",
     "text": [
      "I eat three apples\n"
     ]
    }
   ],
   "source": [
    "print(\"I eat %s apples\" %\"three\")"
   ]
  },
  {
   "cell_type": "markdown",
   "id": "3b06a142",
   "metadata": {},
   "source": [
    "3. 숫자 값을 나타내는 변수로 대입"
   ]
  },
  {
   "cell_type": "code",
   "execution_count": 37,
   "id": "ef670818",
   "metadata": {},
   "outputs": [
    {
     "name": "stdout",
     "output_type": "stream",
     "text": [
      "I eat 3 apples\n"
     ]
    }
   ],
   "source": [
    "number = 3\n",
    "print(\"I eat %d apples\" % number)"
   ]
  },
  {
   "cell_type": "markdown",
   "id": "77240cf0",
   "metadata": {},
   "source": [
    "4. 2개 이상의 값을 대입"
   ]
  },
  {
   "cell_type": "code",
   "execution_count": 38,
   "id": "108d4254",
   "metadata": {},
   "outputs": [
    {
     "name": "stdout",
     "output_type": "stream",
     "text": [
      "I eat 3 apples, so I was sick for three days\n"
     ]
    }
   ],
   "source": [
    "number = 3\n",
    "day = \"three\"\n",
    "print(\"I eat %d apples, so I was sick for %s days\" % (number,day))"
   ]
  },
  {
   "cell_type": "markdown",
   "id": "6bf4a4a0",
   "metadata": {},
   "source": [
    "5. %d 와 %를 같이 사용"
   ]
  },
  {
   "cell_type": "code",
   "execution_count": 39,
   "id": "804cd1fb",
   "metadata": {},
   "outputs": [
    {
     "name": "stdout",
     "output_type": "stream",
     "text": [
      "Error is 98%\n"
     ]
    }
   ],
   "source": [
    "print(\"Error is %d%%\" %98)"
   ]
  },
  {
   "cell_type": "markdown",
   "id": "9939c873",
   "metadata": {},
   "source": [
    "### 정렬과 공백"
   ]
  },
  {
   "cell_type": "code",
   "execution_count": 40,
   "id": "bcd08f28",
   "metadata": {},
   "outputs": [
    {
     "name": "stdout",
     "output_type": "stream",
     "text": [
      "hi\n"
     ]
    }
   ],
   "source": [
    "print(\"%s\" %\"hi\")"
   ]
  },
  {
   "cell_type": "code",
   "execution_count": 41,
   "id": "7d2f45d3",
   "metadata": {},
   "outputs": [
    {
     "name": "stdout",
     "output_type": "stream",
     "text": [
      "        hi\n"
     ]
    }
   ],
   "source": [
    "print(\"%10s\" %\"hi\")"
   ]
  },
  {
   "cell_type": "code",
   "execution_count": 42,
   "id": "733fde90",
   "metadata": {},
   "outputs": [
    {
     "name": "stdout",
     "output_type": "stream",
     "text": [
      "hi        \n"
     ]
    }
   ],
   "source": [
    "print(\"%-10s\" %\"hi\")"
   ]
  },
  {
   "cell_type": "markdown",
   "id": "a0b9dd48",
   "metadata": {},
   "source": [
    "### 소수점 표현하기"
   ]
  },
  {
   "cell_type": "code",
   "execution_count": 43,
   "id": "db24af16",
   "metadata": {},
   "outputs": [
    {
     "name": "stdout",
     "output_type": "stream",
     "text": [
      "3.421342\n"
     ]
    }
   ],
   "source": [
    "print(\"%f\" % 3.42134234)"
   ]
  },
  {
   "cell_type": "code",
   "execution_count": 44,
   "id": "feef4d13",
   "metadata": {},
   "outputs": [
    {
     "name": "stdout",
     "output_type": "stream",
     "text": [
      "3.4213\n"
     ]
    }
   ],
   "source": [
    "print(\"%0.4f\" % 3.42134234)"
   ]
  },
  {
   "cell_type": "code",
   "execution_count": 45,
   "id": "48772071",
   "metadata": {},
   "outputs": [
    {
     "name": "stdout",
     "output_type": "stream",
     "text": [
      "    3.4213\n"
     ]
    }
   ],
   "source": [
    "print(\"%10.4f\" % 3.42134234)"
   ]
  },
  {
   "cell_type": "markdown",
   "id": "14535b48",
   "metadata": {},
   "source": [
    "### format() 함수를 이용한 포매팅"
   ]
  },
  {
   "cell_type": "code",
   "execution_count": 46,
   "id": "ef482344",
   "metadata": {},
   "outputs": [
    {
     "name": "stdout",
     "output_type": "stream",
     "text": [
      "11 22 33\n"
     ]
    }
   ],
   "source": [
    "print(\"{} {} {}\".format(11,22,33))"
   ]
  },
  {
   "cell_type": "markdown",
   "id": "455cc33e",
   "metadata": {},
   "source": [
    "- 순서를 이용하여 포매팅 가능"
   ]
  },
  {
   "cell_type": "code",
   "execution_count": 54,
   "id": "7adcb8ea",
   "metadata": {},
   "outputs": [
    {
     "name": "stdout",
     "output_type": "stream",
     "text": [
      "I eat three apples, so I was sick for 3 days\n"
     ]
    }
   ],
   "source": [
    "number = 3\n",
    "day = \"three\"\n",
    "print(\"I eat {1} apples, so I was sick for {0} days\".format(number, day))"
   ]
  },
  {
   "cell_type": "markdown",
   "id": "ca548411",
   "metadata": {},
   "source": [
    "- 변수 이름을 이용하여 포매팅 가능"
   ]
  },
  {
   "cell_type": "code",
   "execution_count": 52,
   "id": "a7b6b141",
   "metadata": {},
   "outputs": [
    {
     "name": "stdout",
     "output_type": "stream",
     "text": [
      "I eat 10 apples, so I was sick for 3 days\n"
     ]
    }
   ],
   "source": [
    "print(\"I eat {number} apples, so I was sick for {day} days\".format(number=10, day=3))"
   ]
  },
  {
   "cell_type": "markdown",
   "id": "671813eb",
   "metadata": {},
   "source": [
    "### f 문자열 포매팅"
   ]
  },
  {
   "cell_type": "code",
   "execution_count": 57,
   "id": "e56407cb",
   "metadata": {},
   "outputs": [
    {
     "name": "stdout",
     "output_type": "stream",
     "text": [
      "나의 이름은 홍길동입니다. 나이는 19입니다.\n"
     ]
    }
   ],
   "source": [
    "name = \"홍길동\"\n",
    "age = 19\n",
    "print(f'나의 이름은 {name}입니다. 나이는 {age}입니다.')"
   ]
  },
  {
   "cell_type": "code",
   "execution_count": 58,
   "id": "1c6578d5",
   "metadata": {},
   "outputs": [
    {
     "name": "stdout",
     "output_type": "stream",
     "text": [
      "나의 이름은 홍길동입니다. 나이는 20입니다.\n"
     ]
    }
   ],
   "source": [
    "name = \"홍길동\"\n",
    "age = 19\n",
    "print(f'나의 이름은 {name}입니다. 나이는 {age+1}입니다.')"
   ]
  },
  {
   "cell_type": "markdown",
   "id": "9d323e7c",
   "metadata": {},
   "source": [
    "### 문자열 갯수 세기(count)"
   ]
  },
  {
   "cell_type": "code",
   "execution_count": 60,
   "id": "e631227f",
   "metadata": {},
   "outputs": [
    {
     "name": "stdout",
     "output_type": "stream",
     "text": [
      "2\n"
     ]
    }
   ],
   "source": [
    "a = \"hobby\"\n",
    "print(a.count(\"b\"))"
   ]
  },
  {
   "cell_type": "markdown",
   "id": "f5fa4f73",
   "metadata": {},
   "source": [
    "### 문자열 위치 알려주기 예제1 (fine)\n",
    "- 문자열 b 가 처음 나온 위치를 반환, 찾는 문자나 문자열이 없을 경우 -1을 반환"
   ]
  },
  {
   "cell_type": "code",
   "execution_count": 62,
   "id": "6ac713e9",
   "metadata": {},
   "outputs": [
    {
     "name": "stdout",
     "output_type": "stream",
     "text": [
      "14\n"
     ]
    }
   ],
   "source": [
    "a = \"Python is the best choice\"\n",
    "print(a.find(\"b\"))"
   ]
  },
  {
   "cell_type": "code",
   "execution_count": 63,
   "id": "53fc5552",
   "metadata": {},
   "outputs": [
    {
     "name": "stdout",
     "output_type": "stream",
     "text": [
      "-1\n"
     ]
    }
   ],
   "source": [
    "a = \"Python is the best choice\"\n",
    "print(a.find(\"j\"))"
   ]
  },
  {
   "cell_type": "markdown",
   "id": "469274a0",
   "metadata": {},
   "source": [
    "### 문자열 위치 알려주기 예제2 (index)\n",
    "- 문자열 중 문자 t가 처음 나온 위치를 반환, 찾는 문자열이 없을 경우 에러를 반환"
   ]
  },
  {
   "cell_type": "code",
   "execution_count": 64,
   "id": "fdbd0d99",
   "metadata": {},
   "outputs": [
    {
     "name": "stdout",
     "output_type": "stream",
     "text": [
      "8\n"
     ]
    }
   ],
   "source": [
    "a = \"Life is too short\"\n",
    "print(a.index(\"t\"))"
   ]
  },
  {
   "cell_type": "code",
   "execution_count": 65,
   "id": "24d660a1",
   "metadata": {},
   "outputs": [
    {
     "ename": "ValueError",
     "evalue": "substring not found",
     "output_type": "error",
     "traceback": [
      "\u001b[1;31m---------------------------------------------------------------------------\u001b[0m",
      "\u001b[1;31mValueError\u001b[0m                                Traceback (most recent call last)",
      "\u001b[1;32m~\\AppData\\Local\\Temp/ipykernel_68520/2331082524.py\u001b[0m in \u001b[0;36m<module>\u001b[1;34m\u001b[0m\n\u001b[0;32m      1\u001b[0m \u001b[0ma\u001b[0m \u001b[1;33m=\u001b[0m \u001b[1;34m\"Life is too short\"\u001b[0m\u001b[1;33m\u001b[0m\u001b[1;33m\u001b[0m\u001b[0m\n\u001b[1;32m----> 2\u001b[1;33m \u001b[0mprint\u001b[0m\u001b[1;33m(\u001b[0m\u001b[0ma\u001b[0m\u001b[1;33m.\u001b[0m\u001b[0mindex\u001b[0m\u001b[1;33m(\u001b[0m\u001b[1;34m\"j\"\u001b[0m\u001b[1;33m)\u001b[0m\u001b[1;33m)\u001b[0m\u001b[1;33m\u001b[0m\u001b[1;33m\u001b[0m\u001b[0m\n\u001b[0m",
      "\u001b[1;31mValueError\u001b[0m: substring not found"
     ]
    }
   ],
   "source": [
    "a = \"Life is too short\"\n",
    "print(a.index(\"j\"))"
   ]
  },
  {
   "cell_type": "markdown",
   "id": "59305dca",
   "metadata": {},
   "source": [
    "### 문자열 삽입 예제(join)"
   ]
  },
  {
   "cell_type": "code",
   "execution_count": 66,
   "id": "abb3cacc",
   "metadata": {},
   "outputs": [
    {
     "name": "stdout",
     "output_type": "stream",
     "text": [
      "a,b,c,d\n"
     ]
    }
   ],
   "source": [
    "a = \",\"\n",
    "print(a.join('abcd'))"
   ]
  },
  {
   "cell_type": "markdown",
   "id": "9a035cb9",
   "metadata": {},
   "source": [
    "- join() 함수의 입력으로 리스트 사용 가능"
   ]
  },
  {
   "cell_type": "code",
   "execution_count": 69,
   "id": "6fac5280",
   "metadata": {},
   "outputs": [
    {
     "name": "stdout",
     "output_type": "stream",
     "text": [
      "a:b:c:d\n"
     ]
    }
   ],
   "source": [
    "a = \":\"\n",
    "print(a.join([\"a\",\"b\",\"c\",\"d\"]))"
   ]
  },
  {
   "cell_type": "markdown",
   "id": "4729b4c3",
   "metadata": {},
   "source": [
    "### 소문자, 대문자 전환(upper, lower)"
   ]
  },
  {
   "cell_type": "code",
   "execution_count": 70,
   "id": "7db6d25f",
   "metadata": {},
   "outputs": [
    {
     "name": "stdout",
     "output_type": "stream",
     "text": [
      "HI\n"
     ]
    }
   ],
   "source": [
    "a = \"hi\"\n",
    "print(a.upper())"
   ]
  },
  {
   "cell_type": "code",
   "execution_count": 71,
   "id": "f487e291",
   "metadata": {},
   "outputs": [
    {
     "name": "stdout",
     "output_type": "stream",
     "text": [
      "hi\n"
     ]
    }
   ],
   "source": [
    "a = \"HI\"\n",
    "print(a.lower())"
   ]
  },
  {
   "cell_type": "markdown",
   "id": "df541885",
   "metadata": {},
   "source": [
    "### 공백 지우기(lstrip, rstrip, strip)"
   ]
  },
  {
   "cell_type": "code",
   "execution_count": 72,
   "id": "e5673d2d",
   "metadata": {},
   "outputs": [
    {
     "name": "stdout",
     "output_type": "stream",
     "text": [
      "hi \n"
     ]
    }
   ],
   "source": [
    "a = \" hi \"\n",
    "print(a.lstrip()) # 왼쪽 공백 지우기"
   ]
  },
  {
   "cell_type": "code",
   "execution_count": 73,
   "id": "9c116f75",
   "metadata": {},
   "outputs": [
    {
     "name": "stdout",
     "output_type": "stream",
     "text": [
      " hi\n"
     ]
    }
   ],
   "source": [
    "a = \" hi \"\n",
    "print(a.rstrip()) # 오른쪽 공백 지우기"
   ]
  },
  {
   "cell_type": "code",
   "execution_count": 74,
   "id": "24f47835",
   "metadata": {},
   "outputs": [
    {
     "name": "stdout",
     "output_type": "stream",
     "text": [
      "hi\n"
     ]
    }
   ],
   "source": [
    "a = \" hi \"\n",
    "print(a.strip()) # 양쪽 공백 지우기"
   ]
  },
  {
   "cell_type": "markdown",
   "id": "00e2eeca",
   "metadata": {},
   "source": [
    "### 문자열 바꾸기 (replace)"
   ]
  },
  {
   "cell_type": "code",
   "execution_count": 75,
   "id": "c9c617cf",
   "metadata": {},
   "outputs": [
    {
     "name": "stdout",
     "output_type": "stream",
     "text": [
      "Your leg is too short\n"
     ]
    }
   ],
   "source": [
    "a = \"Life is too short\"\n",
    "print(a.replace(\"Life\",\"Your leg\"))"
   ]
  },
  {
   "cell_type": "markdown",
   "id": "7c56a0de",
   "metadata": {},
   "source": [
    "### 문자열 나누기 예제 (split)\n",
    "- split() 함수는 괄호 안에 아무것도 넣어 주지 않을 경우 공백을 기준으로 나눔\n",
    "- split() 함수의 괄호 안에 특정 값이 있는 경우 특정 값을 기준으로 나눔"
   ]
  },
  {
   "cell_type": "code",
   "execution_count": 76,
   "id": "965aae20",
   "metadata": {},
   "outputs": [
    {
     "name": "stdout",
     "output_type": "stream",
     "text": [
      "['Life', 'is', 'too', 'short']\n"
     ]
    }
   ],
   "source": [
    "a = \"Life is too short\"\n",
    "print(a.split())"
   ]
  },
  {
   "cell_type": "code",
   "execution_count": 77,
   "id": "44513c02",
   "metadata": {},
   "outputs": [
    {
     "name": "stdout",
     "output_type": "stream",
     "text": [
      "['a', 'b', 'c', 'd']\n"
     ]
    }
   ],
   "source": [
    "b = \"a:b:c:d\"\n",
    "print(b.split(\":\"))"
   ]
  }
 ],
 "metadata": {
  "kernelspec": {
   "display_name": "Python 3 (ipykernel)",
   "language": "python",
   "name": "python3"
  },
  "language_info": {
   "codemirror_mode": {
    "name": "ipython",
    "version": 3
   },
   "file_extension": ".py",
   "mimetype": "text/x-python",
   "name": "python",
   "nbconvert_exporter": "python",
   "pygments_lexer": "ipython3",
   "version": "3.9.7"
  }
 },
 "nbformat": 4,
 "nbformat_minor": 5
}
