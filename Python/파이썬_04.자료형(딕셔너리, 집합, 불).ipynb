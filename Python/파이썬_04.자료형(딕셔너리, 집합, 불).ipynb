{
 "cells": [
  {
   "cell_type": "markdown",
   "id": "e1df4e4d",
   "metadata": {},
   "source": [
    "# 딕셔너리\n",
    "- 사전\n",
    "- key:value 형식으로 이루어진 자료형\n",
    "\n",
    "### 딕셔너리 생성 예제"
   ]
  },
  {
   "cell_type": "code",
   "execution_count": 11,
   "id": "23b3821d",
   "metadata": {},
   "outputs": [],
   "source": [
    "dic = {'name':'pey', 'phone':'0119993323', 'birth':'1118'}"
   ]
  },
  {
   "cell_type": "code",
   "execution_count": 12,
   "id": "5a3a4aea",
   "metadata": {},
   "outputs": [
    {
     "name": "stdout",
     "output_type": "stream",
     "text": [
      "{'name': 'pey', 'phone': '0119993323', 'birth': '1118'}\n"
     ]
    }
   ],
   "source": [
    "print(dic)"
   ]
  },
  {
   "cell_type": "code",
   "execution_count": 13,
   "id": "24c09b57",
   "metadata": {},
   "outputs": [],
   "source": [
    "a = {1:'hi'}"
   ]
  },
  {
   "cell_type": "code",
   "execution_count": 14,
   "id": "ea5853a3",
   "metadata": {},
   "outputs": [
    {
     "name": "stdout",
     "output_type": "stream",
     "text": [
      "{1: 'hi'}\n"
     ]
    }
   ],
   "source": [
    "print(a)"
   ]
  },
  {
   "cell_type": "code",
   "execution_count": 15,
   "id": "e27b106c",
   "metadata": {},
   "outputs": [],
   "source": [
    "a = {'a':[1, 2, 3]}"
   ]
  },
  {
   "cell_type": "code",
   "execution_count": 16,
   "id": "1bf99c32",
   "metadata": {},
   "outputs": [
    {
     "name": "stdout",
     "output_type": "stream",
     "text": [
      "{'a': [1, 2, 3]}\n"
     ]
    }
   ],
   "source": [
    "print(a)"
   ]
  },
  {
   "cell_type": "markdown",
   "id": "7b3b8404",
   "metadata": {},
   "source": [
    "### 딕셔너리 키,값 추가 예제"
   ]
  },
  {
   "cell_type": "code",
   "execution_count": 17,
   "id": "ad4014f8",
   "metadata": {},
   "outputs": [],
   "source": [
    "a = {1:'a'}"
   ]
  },
  {
   "cell_type": "code",
   "execution_count": 18,
   "id": "defa445a",
   "metadata": {},
   "outputs": [],
   "source": [
    "a[2] = 'b'"
   ]
  },
  {
   "cell_type": "code",
   "execution_count": 19,
   "id": "852eb015",
   "metadata": {},
   "outputs": [
    {
     "name": "stdout",
     "output_type": "stream",
     "text": [
      "{1: 'a', 2: 'b'}\n"
     ]
    }
   ],
   "source": [
    "print(a)"
   ]
  },
  {
   "cell_type": "code",
   "execution_count": 20,
   "id": "4a82efdc",
   "metadata": {},
   "outputs": [],
   "source": [
    "a['name'] = 'pey'"
   ]
  },
  {
   "cell_type": "code",
   "execution_count": 21,
   "id": "3ebc65a5",
   "metadata": {},
   "outputs": [
    {
     "name": "stdout",
     "output_type": "stream",
     "text": [
      "{1: 'a', 2: 'b', 'name': 'pey'}\n"
     ]
    }
   ],
   "source": [
    "print(a)"
   ]
  },
  {
   "cell_type": "code",
   "execution_count": 22,
   "id": "b9f490ec",
   "metadata": {},
   "outputs": [],
   "source": [
    "a[3] = [1, 2, 3]"
   ]
  },
  {
   "cell_type": "code",
   "execution_count": 23,
   "id": "6627fb56",
   "metadata": {},
   "outputs": [
    {
     "name": "stdout",
     "output_type": "stream",
     "text": [
      "{1: 'a', 2: 'b', 'name': 'pey', 3: [1, 2, 3]}\n"
     ]
    }
   ],
   "source": [
    "print(a)"
   ]
  },
  {
   "cell_type": "markdown",
   "id": "3d79e98c",
   "metadata": {},
   "source": [
    "### 함수를 만들어서 키와 값으로 활용하기 예제"
   ]
  },
  {
   "cell_type": "code",
   "execution_count": 24,
   "id": "7f41d903",
   "metadata": {},
   "outputs": [],
   "source": [
    "def add(a, b):\n",
    "    return a+b\n",
    "def sub(a, b):\n",
    "    return a-b\n",
    "\n",
    "action = {0:add, 1:sub}"
   ]
  },
  {
   "cell_type": "code",
   "execution_count": 25,
   "id": "cae75f23",
   "metadata": {},
   "outputs": [
    {
     "data": {
      "text/plain": [
       "9"
      ]
     },
     "execution_count": 25,
     "metadata": {},
     "output_type": "execute_result"
    }
   ],
   "source": [
    "action[0](4,5)"
   ]
  },
  {
   "cell_type": "markdown",
   "id": "e8cae42b",
   "metadata": {},
   "source": [
    "- 0번 키를 호출, 값에 4, 5를 대입한 결과 출력 "
   ]
  },
  {
   "cell_type": "markdown",
   "id": "94d085a7",
   "metadata": {},
   "source": [
    "### 딕셔너리를 만드는 다른 방법(함수)"
   ]
  },
  {
   "cell_type": "code",
   "execution_count": 26,
   "id": "0e7df18e",
   "metadata": {},
   "outputs": [],
   "source": [
    "a = dict(one=1, two=2)"
   ]
  },
  {
   "cell_type": "code",
   "execution_count": 27,
   "id": "7d540c3d",
   "metadata": {},
   "outputs": [
    {
     "name": "stdout",
     "output_type": "stream",
     "text": [
      "{'one': 1, 'two': 2}\n"
     ]
    }
   ],
   "source": [
    "print(a)"
   ]
  },
  {
   "cell_type": "code",
   "execution_count": 28,
   "id": "a8532ae9",
   "metadata": {},
   "outputs": [
    {
     "ename": "SyntaxError",
     "evalue": "expression cannot contain assignment, perhaps you meant \"==\"? (Temp/ipykernel_85992/567782305.py, line 1)",
     "output_type": "error",
     "traceback": [
      "\u001b[1;36m  File \u001b[1;32m\"C:\\Users\\vjkim\\AppData\\Local\\Temp/ipykernel_85992/567782305.py\"\u001b[1;36m, line \u001b[1;32m1\u001b[0m\n\u001b[1;33m    a1 = dict(1=one, two=2)\u001b[0m\n\u001b[1;37m              ^\u001b[0m\n\u001b[1;31mSyntaxError\u001b[0m\u001b[1;31m:\u001b[0m expression cannot contain assignment, perhaps you meant \"==\"?\n"
     ]
    }
   ],
   "source": [
    "a1 = dict(1=one, two=2)"
   ]
  },
  {
   "cell_type": "markdown",
   "id": "e751887b",
   "metadata": {},
   "source": [
    "- dict() 함수는 '키워드 인수'를 사용하기 때문에 키가 문자열일 경우 동작"
   ]
  },
  {
   "cell_type": "code",
   "execution_count": 29,
   "id": "ef5da728",
   "metadata": {},
   "outputs": [],
   "source": [
    "b = dict([('one',1),('two',2)])"
   ]
  },
  {
   "cell_type": "code",
   "execution_count": 30,
   "id": "9614de6d",
   "metadata": {},
   "outputs": [
    {
     "name": "stdout",
     "output_type": "stream",
     "text": [
      "{'one': 1, 'two': 2}\n"
     ]
    }
   ],
   "source": [
    "print(b)"
   ]
  },
  {
   "cell_type": "code",
   "execution_count": 31,
   "id": "ea892264",
   "metadata": {},
   "outputs": [],
   "source": [
    "c = dict([['one',1],['two',2]])"
   ]
  },
  {
   "cell_type": "code",
   "execution_count": 32,
   "id": "a63f6c7d",
   "metadata": {},
   "outputs": [
    {
     "name": "stdout",
     "output_type": "stream",
     "text": [
      "{'one': 1, 'two': 2}\n"
     ]
    }
   ],
   "source": [
    "print(c)"
   ]
  },
  {
   "cell_type": "code",
   "execution_count": 33,
   "id": "2acd44b4",
   "metadata": {},
   "outputs": [],
   "source": [
    "keys = ['one', 'two', 'three']\n",
    "values = (1, 2, 3)\n",
    "zip(keys, values)\n",
    "d = dict(zip(keys, values))"
   ]
  },
  {
   "cell_type": "code",
   "execution_count": 34,
   "id": "3faec0af",
   "metadata": {},
   "outputs": [
    {
     "name": "stdout",
     "output_type": "stream",
     "text": [
      "{'one': 1, 'two': 2, 'three': 3}\n"
     ]
    }
   ],
   "source": [
    "print(d)"
   ]
  },
  {
   "cell_type": "markdown",
   "id": "af72ac28",
   "metadata": {},
   "source": [
    "### 딕셔너리에서 키 제거 예제"
   ]
  },
  {
   "cell_type": "code",
   "execution_count": 35,
   "id": "0051e815",
   "metadata": {},
   "outputs": [],
   "source": [
    "a = {1:'a', 2:'b', 'name':'pey', 3:[1, 2, 3]}"
   ]
  },
  {
   "cell_type": "code",
   "execution_count": 36,
   "id": "a1cc255a",
   "metadata": {},
   "outputs": [
    {
     "name": "stdout",
     "output_type": "stream",
     "text": [
      "{1: 'a', 2: 'b', 'name': 'pey', 3: [1, 2, 3]}\n"
     ]
    }
   ],
   "source": [
    "print(a)"
   ]
  },
  {
   "cell_type": "code",
   "execution_count": 37,
   "id": "606062f1",
   "metadata": {},
   "outputs": [],
   "source": [
    "del a[1]"
   ]
  },
  {
   "cell_type": "code",
   "execution_count": 38,
   "id": "f0bf48cd",
   "metadata": {},
   "outputs": [
    {
     "name": "stdout",
     "output_type": "stream",
     "text": [
      "{2: 'b', 'name': 'pey', 3: [1, 2, 3]}\n"
     ]
    }
   ],
   "source": [
    "print(a)"
   ]
  },
  {
   "cell_type": "markdown",
   "id": "33f53609",
   "metadata": {},
   "source": [
    "### 딕셔너리에서 키를 이용하여 값을 얻기 예제"
   ]
  },
  {
   "cell_type": "code",
   "execution_count": 39,
   "id": "2b001291",
   "metadata": {},
   "outputs": [],
   "source": [
    "a = {1:'a', 2:'b'}"
   ]
  },
  {
   "cell_type": "code",
   "execution_count": 40,
   "id": "e8ee9d71",
   "metadata": {},
   "outputs": [
    {
     "name": "stdout",
     "output_type": "stream",
     "text": [
      "a\n"
     ]
    }
   ],
   "source": [
    "print(a[1])"
   ]
  },
  {
   "cell_type": "code",
   "execution_count": 41,
   "id": "2f577caa",
   "metadata": {},
   "outputs": [
    {
     "name": "stdout",
     "output_type": "stream",
     "text": [
      "b\n"
     ]
    }
   ],
   "source": [
    "print(a[2])"
   ]
  },
  {
   "cell_type": "markdown",
   "id": "c4846128",
   "metadata": {},
   "source": [
    "### 키 리스트 만들기 예제"
   ]
  },
  {
   "cell_type": "code",
   "execution_count": 42,
   "id": "cb995917",
   "metadata": {},
   "outputs": [],
   "source": [
    "a = {'name':'pey', 'phone':'0119993323', 'birth':'1118'}"
   ]
  },
  {
   "cell_type": "code",
   "execution_count": 43,
   "id": "938123bb",
   "metadata": {},
   "outputs": [
    {
     "name": "stdout",
     "output_type": "stream",
     "text": [
      "dict_keys(['name', 'phone', 'birth'])\n"
     ]
    }
   ],
   "source": [
    "print(a.keys())"
   ]
  },
  {
   "cell_type": "code",
   "execution_count": 44,
   "id": "5d1bb5cb",
   "metadata": {},
   "outputs": [
    {
     "name": "stdout",
     "output_type": "stream",
     "text": [
      "<class 'dict_keys'>\n"
     ]
    }
   ],
   "source": [
    "print(type(a.keys()))"
   ]
  },
  {
   "cell_type": "code",
   "execution_count": 65,
   "id": "dccbdc53",
   "metadata": {},
   "outputs": [],
   "source": [
    "b = list(a.keys())"
   ]
  },
  {
   "cell_type": "code",
   "execution_count": 66,
   "id": "11c3a4cb",
   "metadata": {},
   "outputs": [
    {
     "name": "stdout",
     "output_type": "stream",
     "text": [
      "['name', 'phone', 'birth']\n"
     ]
    }
   ],
   "source": [
    "print(b)"
   ]
  },
  {
   "cell_type": "code",
   "execution_count": 46,
   "id": "224f1378",
   "metadata": {},
   "outputs": [
    {
     "name": "stdout",
     "output_type": "stream",
     "text": [
      "name\n",
      "phone\n",
      "birth\n"
     ]
    }
   ],
   "source": [
    "for k in a.keys():\n",
    "    print(k)"
   ]
  },
  {
   "cell_type": "markdown",
   "id": "acb688e7",
   "metadata": {},
   "source": [
    "### 값 리스트 만들기 예제"
   ]
  },
  {
   "cell_type": "code",
   "execution_count": 49,
   "id": "7ce8ce44",
   "metadata": {},
   "outputs": [],
   "source": [
    "a = {'name':'pey', 'phone':'0119993323', 'birth':'1118'}"
   ]
  },
  {
   "cell_type": "code",
   "execution_count": 50,
   "id": "faef6397",
   "metadata": {},
   "outputs": [
    {
     "name": "stdout",
     "output_type": "stream",
     "text": [
      "dict_values(['pey', '0119993323', '1118'])\n"
     ]
    }
   ],
   "source": [
    "print(a.values())"
   ]
  },
  {
   "cell_type": "code",
   "execution_count": 63,
   "id": "9b562a9d",
   "metadata": {},
   "outputs": [],
   "source": [
    "b = list(a.values())"
   ]
  },
  {
   "cell_type": "code",
   "execution_count": 64,
   "id": "09cd6eba",
   "metadata": {},
   "outputs": [
    {
     "name": "stdout",
     "output_type": "stream",
     "text": [
      "['pey', '0119993323', '1118']\n"
     ]
    }
   ],
   "source": [
    "print(b)"
   ]
  },
  {
   "cell_type": "markdown",
   "id": "6c8cd96b",
   "metadata": {},
   "source": [
    "### 키, 값 쌍 얻기 예제"
   ]
  },
  {
   "cell_type": "code",
   "execution_count": 51,
   "id": "ec7dd6f6",
   "metadata": {},
   "outputs": [],
   "source": [
    "a = {'name':'pey', 'phone':'0119993323', 'birth':'1118'}"
   ]
  },
  {
   "cell_type": "code",
   "execution_count": 62,
   "id": "e5aed9c8",
   "metadata": {},
   "outputs": [
    {
     "name": "stdout",
     "output_type": "stream",
     "text": [
      "dict_items([('name', 'pey'), ('phone', '0119993323'), ('birth', '1118')])\n"
     ]
    }
   ],
   "source": [
    "print(a.items())"
   ]
  },
  {
   "cell_type": "markdown",
   "id": "cf72c1e9",
   "metadata": {},
   "source": [
    "### 딕셔너리 모두 지우기 예제 (clear)"
   ]
  },
  {
   "cell_type": "code",
   "execution_count": 70,
   "id": "9350f03f",
   "metadata": {},
   "outputs": [],
   "source": [
    "a = {'name':'pey', 'phone':'0119993323', 'birth':'1118'}"
   ]
  },
  {
   "cell_type": "code",
   "execution_count": 71,
   "id": "e0126727",
   "metadata": {},
   "outputs": [],
   "source": [
    "a.clear()"
   ]
  },
  {
   "cell_type": "code",
   "execution_count": 72,
   "id": "7d31e0e0",
   "metadata": {},
   "outputs": [
    {
     "name": "stdout",
     "output_type": "stream",
     "text": [
      "{}\n"
     ]
    }
   ],
   "source": [
    "print(a)"
   ]
  },
  {
   "cell_type": "markdown",
   "id": "a205772f",
   "metadata": {},
   "source": [
    "### 키를 이용하여 값 출력하기 예제(get)"
   ]
  },
  {
   "cell_type": "code",
   "execution_count": 67,
   "id": "a33a8a5a",
   "metadata": {},
   "outputs": [],
   "source": [
    "a = {'name':'pey', 'phone':'0119993323', 'birth':'1118'}"
   ]
  },
  {
   "cell_type": "code",
   "execution_count": 68,
   "id": "c2c1d74e",
   "metadata": {},
   "outputs": [
    {
     "name": "stdout",
     "output_type": "stream",
     "text": [
      "pey\n"
     ]
    }
   ],
   "source": [
    "print(a.get('name'))"
   ]
  },
  {
   "cell_type": "code",
   "execution_count": 69,
   "id": "df75d446",
   "metadata": {},
   "outputs": [
    {
     "name": "stdout",
     "output_type": "stream",
     "text": [
      "0119993323\n"
     ]
    }
   ],
   "source": [
    "print(a.get('phone'))"
   ]
  },
  {
   "cell_type": "markdown",
   "id": "59a88923",
   "metadata": {},
   "source": [
    "### get 함수 사용과 미사용 차이 예제"
   ]
  },
  {
   "cell_type": "code",
   "execution_count": 73,
   "id": "a38fd592",
   "metadata": {},
   "outputs": [],
   "source": [
    "a = {'name':'pey', 'phone':'0119993323', 'birth':'1118'}"
   ]
  },
  {
   "cell_type": "code",
   "execution_count": 74,
   "id": "4ba5bec4",
   "metadata": {},
   "outputs": [
    {
     "name": "stdout",
     "output_type": "stream",
     "text": [
      "None\n"
     ]
    }
   ],
   "source": [
    "print(a.get('nokey'))"
   ]
  },
  {
   "cell_type": "code",
   "execution_count": 75,
   "id": "e6002253",
   "metadata": {},
   "outputs": [
    {
     "ename": "KeyError",
     "evalue": "'nokey'",
     "output_type": "error",
     "traceback": [
      "\u001b[1;31m---------------------------------------------------------------------------\u001b[0m",
      "\u001b[1;31mKeyError\u001b[0m                                  Traceback (most recent call last)",
      "\u001b[1;32m~\\AppData\\Local\\Temp/ipykernel_85992/3724398629.py\u001b[0m in \u001b[0;36m<module>\u001b[1;34m\u001b[0m\n\u001b[1;32m----> 1\u001b[1;33m \u001b[0mprint\u001b[0m\u001b[1;33m(\u001b[0m\u001b[0ma\u001b[0m\u001b[1;33m[\u001b[0m\u001b[1;34m'nokey'\u001b[0m\u001b[1;33m]\u001b[0m\u001b[1;33m)\u001b[0m\u001b[1;33m\u001b[0m\u001b[1;33m\u001b[0m\u001b[0m\n\u001b[0m",
      "\u001b[1;31mKeyError\u001b[0m: 'nokey'"
     ]
    }
   ],
   "source": [
    "print(a['nokey'])"
   ]
  },
  {
   "cell_type": "markdown",
   "id": "b6af1579",
   "metadata": {},
   "source": [
    "### 딕셔너리 안에 키가 없는 경우 정해둔 값을 가져오기 예제"
   ]
  },
  {
   "cell_type": "code",
   "execution_count": 76,
   "id": "a2ea8791",
   "metadata": {},
   "outputs": [],
   "source": [
    "a = {'name':'pey', 'phone':'0119993323', 'birth':'1118'}"
   ]
  },
  {
   "cell_type": "code",
   "execution_count": 77,
   "id": "84f6a793",
   "metadata": {},
   "outputs": [
    {
     "name": "stdout",
     "output_type": "stream",
     "text": [
      "None\n"
     ]
    }
   ],
   "source": [
    "print(a.get('foo'))"
   ]
  },
  {
   "cell_type": "code",
   "execution_count": 78,
   "id": "4fb46b2b",
   "metadata": {},
   "outputs": [
    {
     "name": "stdout",
     "output_type": "stream",
     "text": [
      "bar\n"
     ]
    }
   ],
   "source": [
    "print(a.get('foo', 'bar'))"
   ]
  },
  {
   "cell_type": "markdown",
   "id": "8c8de78f",
   "metadata": {},
   "source": [
    "### 해당 키의 존재 유무 예제"
   ]
  },
  {
   "cell_type": "code",
   "execution_count": 79,
   "id": "53727b71",
   "metadata": {},
   "outputs": [],
   "source": [
    "a = {'name':'pey', 'phone':'0119993323', 'birth':'1118'}"
   ]
  },
  {
   "cell_type": "code",
   "execution_count": 80,
   "id": "759c0fcd",
   "metadata": {},
   "outputs": [
    {
     "name": "stdout",
     "output_type": "stream",
     "text": [
      "True\n"
     ]
    }
   ],
   "source": [
    "print('name' in a)"
   ]
  },
  {
   "cell_type": "code",
   "execution_count": 81,
   "id": "3bd112d2",
   "metadata": {},
   "outputs": [
    {
     "name": "stdout",
     "output_type": "stream",
     "text": [
      "False\n"
     ]
    }
   ],
   "source": [
    "print('email' in a)"
   ]
  },
  {
   "cell_type": "markdown",
   "id": "fa6c73e9",
   "metadata": {},
   "source": [
    "# 집합\n",
    "- 여러 값을 순서 없이 그리고 중복 없이 모아 놓은 자료형"
   ]
  },
  {
   "cell_type": "markdown",
   "id": "c3cac21f",
   "metadata": {},
   "source": [
    "### 집합 생성 예제"
   ]
  },
  {
   "cell_type": "code",
   "execution_count": 82,
   "id": "18ddb000",
   "metadata": {},
   "outputs": [],
   "source": [
    "s1 = set([1,2,3])"
   ]
  },
  {
   "cell_type": "code",
   "execution_count": 83,
   "id": "f3486e24",
   "metadata": {},
   "outputs": [
    {
     "name": "stdout",
     "output_type": "stream",
     "text": [
      "{1, 2, 3}\n"
     ]
    }
   ],
   "source": [
    "print(s1)"
   ]
  },
  {
   "cell_type": "code",
   "execution_count": 84,
   "id": "2cfa4c07",
   "metadata": {},
   "outputs": [],
   "source": [
    "s2 = set(\"Hello\")"
   ]
  },
  {
   "cell_type": "code",
   "execution_count": 85,
   "id": "8d1e72c5",
   "metadata": {},
   "outputs": [
    {
     "name": "stdout",
     "output_type": "stream",
     "text": [
      "{'e', 'o', 'l', 'H'}\n"
     ]
    }
   ],
   "source": [
    "print(s2)"
   ]
  },
  {
   "cell_type": "code",
   "execution_count": 86,
   "id": "0f981beb",
   "metadata": {},
   "outputs": [],
   "source": [
    "s3 = set((1,2,3))"
   ]
  },
  {
   "cell_type": "code",
   "execution_count": 87,
   "id": "0caa2d01",
   "metadata": {},
   "outputs": [
    {
     "name": "stdout",
     "output_type": "stream",
     "text": [
      "{1, 2, 3}\n"
     ]
    }
   ],
   "source": [
    "print(s3)"
   ]
  },
  {
   "cell_type": "markdown",
   "id": "8f67e0b4",
   "metadata": {},
   "source": [
    "### 교집합 예제 (\"&\" , interseciton)"
   ]
  },
  {
   "cell_type": "code",
   "execution_count": 88,
   "id": "ef8e279b",
   "metadata": {},
   "outputs": [],
   "source": [
    "s1 = set([1, 2, 3, 4, 5, 6])\n",
    "s2 = set([4, 5, 6, 7, 8, 9])"
   ]
  },
  {
   "cell_type": "code",
   "execution_count": 89,
   "id": "3d7294eb",
   "metadata": {},
   "outputs": [
    {
     "name": "stdout",
     "output_type": "stream",
     "text": [
      "{4, 5, 6}\n"
     ]
    }
   ],
   "source": [
    "print(s1 & s2)"
   ]
  },
  {
   "cell_type": "code",
   "execution_count": 90,
   "id": "a34208e7",
   "metadata": {},
   "outputs": [
    {
     "name": "stdout",
     "output_type": "stream",
     "text": [
      "{4, 5, 6}\n"
     ]
    }
   ],
   "source": [
    "print(s1.intersection(s2))"
   ]
  },
  {
   "cell_type": "markdown",
   "id": "c12d357e",
   "metadata": {},
   "source": [
    "### 합집합 예제 (\" | \", union)"
   ]
  },
  {
   "cell_type": "code",
   "execution_count": 91,
   "id": "8ed2d49f",
   "metadata": {},
   "outputs": [],
   "source": [
    "s1 = set([1, 2, 3, 4, 5, 6])\n",
    "s2 = set([4, 5, 6, 7, 8, 9])"
   ]
  },
  {
   "cell_type": "code",
   "execution_count": 92,
   "id": "56cc397a",
   "metadata": {},
   "outputs": [
    {
     "name": "stdout",
     "output_type": "stream",
     "text": [
      "{1, 2, 3, 4, 5, 6, 7, 8, 9}\n"
     ]
    }
   ],
   "source": [
    "print(s1 | s2)"
   ]
  },
  {
   "cell_type": "code",
   "execution_count": 93,
   "id": "6b978ee4",
   "metadata": {},
   "outputs": [
    {
     "name": "stdout",
     "output_type": "stream",
     "text": [
      "{1, 2, 3, 4, 5, 6, 7, 8, 9}\n"
     ]
    }
   ],
   "source": [
    "print(s1.union(s2))"
   ]
  },
  {
   "cell_type": "markdown",
   "id": "faf3ebc4",
   "metadata": {},
   "source": [
    "### 차집합 예제(\"-\" , difference)"
   ]
  },
  {
   "cell_type": "code",
   "execution_count": 94,
   "id": "5fccec86",
   "metadata": {},
   "outputs": [],
   "source": [
    "s1 = set([1, 2, 3, 4, 5, 6])\n",
    "s2 = set([4, 5, 6, 7, 8, 9])"
   ]
  },
  {
   "cell_type": "code",
   "execution_count": 95,
   "id": "4fc12cfb",
   "metadata": {},
   "outputs": [
    {
     "name": "stdout",
     "output_type": "stream",
     "text": [
      "{1, 2, 3}\n"
     ]
    }
   ],
   "source": [
    "print(s1 - s2)"
   ]
  },
  {
   "cell_type": "code",
   "execution_count": 96,
   "id": "a3552357",
   "metadata": {},
   "outputs": [
    {
     "name": "stdout",
     "output_type": "stream",
     "text": [
      "{1, 2, 3}\n"
     ]
    }
   ],
   "source": [
    "print(s1.difference(s2))"
   ]
  },
  {
   "cell_type": "code",
   "execution_count": 97,
   "id": "33477928",
   "metadata": {},
   "outputs": [
    {
     "name": "stdout",
     "output_type": "stream",
     "text": [
      "{8, 9, 7}\n"
     ]
    }
   ],
   "source": [
    "print(s2 - s1)"
   ]
  },
  {
   "cell_type": "code",
   "execution_count": 98,
   "id": "78b29476",
   "metadata": {},
   "outputs": [
    {
     "name": "stdout",
     "output_type": "stream",
     "text": [
      "{8, 9, 7}\n"
     ]
    }
   ],
   "source": [
    "print(s2.difference(s1))"
   ]
  },
  {
   "cell_type": "markdown",
   "id": "177349e2",
   "metadata": {},
   "source": [
    "### 집합에 값 1개 추가하기 예제 (add)"
   ]
  },
  {
   "cell_type": "code",
   "execution_count": 99,
   "id": "a65dd916",
   "metadata": {},
   "outputs": [],
   "source": [
    "s1 = set([1, 2, 3])"
   ]
  },
  {
   "cell_type": "code",
   "execution_count": 100,
   "id": "19e01bac",
   "metadata": {},
   "outputs": [],
   "source": [
    "s1.add(4)"
   ]
  },
  {
   "cell_type": "code",
   "execution_count": 102,
   "id": "80231f6a",
   "metadata": {},
   "outputs": [
    {
     "name": "stdout",
     "output_type": "stream",
     "text": [
      "{1, 2, 3, 4}\n"
     ]
    }
   ],
   "source": [
    "print(s1)"
   ]
  },
  {
   "cell_type": "markdown",
   "id": "5b9c9379",
   "metadata": {},
   "source": [
    "### 집합에 값 여러 개 추가하기 예제(update)"
   ]
  },
  {
   "cell_type": "code",
   "execution_count": 103,
   "id": "feae8dbd",
   "metadata": {},
   "outputs": [],
   "source": [
    "s1 = set([1, 2, 3])"
   ]
  },
  {
   "cell_type": "code",
   "execution_count": 104,
   "id": "5e23c624",
   "metadata": {},
   "outputs": [],
   "source": [
    "s1.update([4, 5, 6])"
   ]
  },
  {
   "cell_type": "code",
   "execution_count": 105,
   "id": "b2ea3e00",
   "metadata": {},
   "outputs": [
    {
     "name": "stdout",
     "output_type": "stream",
     "text": [
      "{1, 2, 3, 4, 5, 6}\n"
     ]
    }
   ],
   "source": [
    "print(s1)"
   ]
  },
  {
   "cell_type": "markdown",
   "id": "ba66f442",
   "metadata": {},
   "source": [
    "### 집합에 특정 값 제거 예제(remove)"
   ]
  },
  {
   "cell_type": "code",
   "execution_count": 106,
   "id": "05d637ae",
   "metadata": {},
   "outputs": [],
   "source": [
    "s1 = set([1, 2, 3])"
   ]
  },
  {
   "cell_type": "code",
   "execution_count": 107,
   "id": "2aed9a62",
   "metadata": {},
   "outputs": [],
   "source": [
    "s1.remove(2)"
   ]
  },
  {
   "cell_type": "code",
   "execution_count": 108,
   "id": "cbccb854",
   "metadata": {},
   "outputs": [
    {
     "name": "stdout",
     "output_type": "stream",
     "text": [
      "{1, 3}\n"
     ]
    }
   ],
   "source": [
    "print(s1)"
   ]
  },
  {
   "cell_type": "markdown",
   "id": "2d1c311b",
   "metadata": {},
   "source": [
    "# 불\n",
    "- 참과 거짓을 나타내는 자료형\n",
    "- True(참)과 False(거짓) 2가지 값만 가질 수 있음"
   ]
  },
  {
   "cell_type": "code",
   "execution_count": 110,
   "id": "9e440b53",
   "metadata": {},
   "outputs": [
    {
     "name": "stdout",
     "output_type": "stream",
     "text": [
      "<class 'bool'>\n",
      "<class 'bool'>\n"
     ]
    }
   ],
   "source": [
    "a = True\n",
    "b = False\n",
    "print(type(a))\n",
    "print(type(b))"
   ]
  },
  {
   "cell_type": "markdown",
   "id": "fed63ab6",
   "metadata": {},
   "source": [
    "### 자료형의 참과 거짓 예제"
   ]
  },
  {
   "cell_type": "code",
   "execution_count": 112,
   "id": "661dd63c",
   "metadata": {},
   "outputs": [
    {
     "data": {
      "text/plain": [
       "True"
      ]
     },
     "execution_count": 112,
     "metadata": {},
     "output_type": "execute_result"
    }
   ],
   "source": [
    "bool([1,2,3])"
   ]
  },
  {
   "cell_type": "code",
   "execution_count": 113,
   "id": "2419d681",
   "metadata": {},
   "outputs": [
    {
     "data": {
      "text/plain": [
       "False"
      ]
     },
     "execution_count": 113,
     "metadata": {},
     "output_type": "execute_result"
    }
   ],
   "source": [
    "bool([])"
   ]
  },
  {
   "cell_type": "code",
   "execution_count": 114,
   "id": "0c330d1f",
   "metadata": {},
   "outputs": [
    {
     "data": {
      "text/plain": [
       "False"
      ]
     },
     "execution_count": 114,
     "metadata": {},
     "output_type": "execute_result"
    }
   ],
   "source": [
    "bool(0)"
   ]
  },
  {
   "cell_type": "code",
   "execution_count": 115,
   "id": "b259b859",
   "metadata": {},
   "outputs": [
    {
     "data": {
      "text/plain": [
       "True"
      ]
     },
     "execution_count": 115,
     "metadata": {},
     "output_type": "execute_result"
    }
   ],
   "source": [
    "bool('python')"
   ]
  },
  {
   "cell_type": "markdown",
   "id": "30bfdecb",
   "metadata": {},
   "source": [
    "### 논리 연산자와 비교 연산자를 함께 사용하기 예제\n",
    "- 논리 연산자를 기호로 사용할 경우 묶어서 사용해야 함"
   ]
  },
  {
   "cell_type": "code",
   "execution_count": 116,
   "id": "9cfa08fb",
   "metadata": {},
   "outputs": [
    {
     "name": "stdout",
     "output_type": "stream",
     "text": [
      "True\n"
     ]
    }
   ],
   "source": [
    "print(10 == 10)"
   ]
  },
  {
   "cell_type": "code",
   "execution_count": 117,
   "id": "1fc695d7",
   "metadata": {},
   "outputs": [
    {
     "name": "stdout",
     "output_type": "stream",
     "text": [
      "True\n"
     ]
    }
   ],
   "source": [
    "print(10 != 5)"
   ]
  },
  {
   "cell_type": "code",
   "execution_count": 118,
   "id": "a7eaee27",
   "metadata": {},
   "outputs": [
    {
     "name": "stdout",
     "output_type": "stream",
     "text": [
      "True\n"
     ]
    }
   ],
   "source": [
    "print(10 == 10 and 10 != 5)"
   ]
  },
  {
   "cell_type": "markdown",
   "id": "3f0684e2",
   "metadata": {},
   "source": [
    "- 둘 다 참이기 때문에 참이라는 결과가 출력"
   ]
  },
  {
   "cell_type": "code",
   "execution_count": 119,
   "id": "3737978c",
   "metadata": {},
   "outputs": [
    {
     "name": "stdout",
     "output_type": "stream",
     "text": [
      "False\n"
     ]
    }
   ],
   "source": [
    "print(10 == 10 and 10 <= 5)"
   ]
  },
  {
   "cell_type": "markdown",
   "id": "84a845d4",
   "metadata": {},
   "source": [
    "- and 연산자는 하나라도 거짓이면 거짓을 출력"
   ]
  },
  {
   "cell_type": "code",
   "execution_count": 120,
   "id": "cf3c1bca",
   "metadata": {},
   "outputs": [
    {
     "name": "stdout",
     "output_type": "stream",
     "text": [
      "True\n"
     ]
    }
   ],
   "source": [
    "print(10 > 5 or 10 < 3)"
   ]
  },
  {
   "cell_type": "markdown",
   "id": "c6e686b0",
   "metadata": {},
   "source": [
    "- or 연산자는 하나라도 참이면 참을 출력"
   ]
  },
  {
   "cell_type": "code",
   "execution_count": 121,
   "id": "d872fcb2",
   "metadata": {},
   "outputs": [
    {
     "name": "stdout",
     "output_type": "stream",
     "text": [
      "True\n"
     ]
    }
   ],
   "source": [
    "print(not 10 < 5)"
   ]
  },
  {
   "cell_type": "markdown",
   "id": "35c01ae3",
   "metadata": {},
   "source": [
    "- not 연산자는 결과를 반대로 출력"
   ]
  },
  {
   "cell_type": "code",
   "execution_count": 123,
   "id": "983e20a4",
   "metadata": {},
   "outputs": [
    {
     "name": "stdout",
     "output_type": "stream",
     "text": [
      "hello\n"
     ]
    }
   ],
   "source": [
    "if 10 == 10 and 10 != 5:\n",
    "    print(\"hello\")"
   ]
  }
 ],
 "metadata": {
  "kernelspec": {
   "display_name": "Python 3 (ipykernel)",
   "language": "python",
   "name": "python3"
  },
  "language_info": {
   "codemirror_mode": {
    "name": "ipython",
    "version": 3
   },
   "file_extension": ".py",
   "mimetype": "text/x-python",
   "name": "python",
   "nbconvert_exporter": "python",
   "pygments_lexer": "ipython3",
   "version": "3.9.7"
  }
 },
 "nbformat": 4,
 "nbformat_minor": 5
}
