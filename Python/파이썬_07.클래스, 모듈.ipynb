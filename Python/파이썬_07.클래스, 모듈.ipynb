{
 "cells": [
  {
   "cell_type": "markdown",
   "id": "8a44b622",
   "metadata": {},
   "source": [
    "# 클래스\n",
    "- 객체들의 집합"
   ]
  },
  {
   "cell_type": "markdown",
   "id": "e2f215d1",
   "metadata": {},
   "source": [
    "### 객체(object)\n",
    "- 파이썬에서는 객체라는 단위로 메모리 위의 정보를 관리\n",
    "- 일단 메모리에 올라가면 객체"
   ]
  },
  {
   "cell_type": "code",
   "execution_count": 1,
   "id": "63d2191b",
   "metadata": {},
   "outputs": [
    {
     "name": "stdout",
     "output_type": "stream",
     "text": [
      "123\n",
      "2855835228336\n"
     ]
    }
   ],
   "source": [
    "a = 123\n",
    "print(a)\n",
    "print(id(a))"
   ]
  },
  {
   "cell_type": "markdown",
   "id": "adb20f7f",
   "metadata": {},
   "source": [
    "### 클래스를 사용하는 이유(클래스 사용 전)"
   ]
  },
  {
   "cell_type": "code",
   "execution_count": 16,
   "id": "2564e860",
   "metadata": {},
   "outputs": [
    {
     "name": "stdout",
     "output_type": "stream",
     "text": [
      "3\n",
      "7\n"
     ]
    }
   ],
   "source": [
    "result = 0\n",
    "\n",
    "def add(num):\n",
    "    global result\n",
    "    result = num + result\n",
    "    return result\n",
    "print(add(3))\n",
    "print(add(4))"
   ]
  },
  {
   "cell_type": "code",
   "execution_count": 3,
   "id": "d638b416",
   "metadata": {},
   "outputs": [
    {
     "name": "stdout",
     "output_type": "stream",
     "text": [
      "3\n"
     ]
    }
   ],
   "source": [
    "result2 = 0\n",
    "def add2(num):\n",
    "    global result2\n",
    "    result2 = num + result2\n",
    "    return result2\n",
    "print(add2(3))"
   ]
  },
  {
   "cell_type": "code",
   "execution_count": 4,
   "id": "989b3460",
   "metadata": {},
   "outputs": [],
   "source": [
    "result = 0\n",
    "result2 = 0\n",
    "def add(num):\n",
    "    global result\n",
    "    result = num + result\n",
    "    return result\n",
    "\n",
    "def add2(num):\n",
    "    global result2\n",
    "    result2 = num + result2\n",
    "    return result2"
   ]
  },
  {
   "cell_type": "markdown",
   "id": "06a7185f",
   "metadata": {},
   "source": [
    "- 더하기 계산이 필요할 때마다 새로운 함수를 생성해야 함"
   ]
  },
  {
   "cell_type": "markdown",
   "id": "af4c71ed",
   "metadata": {},
   "source": [
    "### 클래스 사용 이유 예제"
   ]
  },
  {
   "cell_type": "code",
   "execution_count": 5,
   "id": "37b39837",
   "metadata": {},
   "outputs": [],
   "source": [
    "class Calculator:\n",
    "    def __init__(self):\n",
    "        self.result = 0\n",
    "    def add(self,num):\n",
    "        self.result = num + self.result\n",
    "        return self.result"
   ]
  },
  {
   "cell_type": "code",
   "execution_count": 6,
   "id": "9ccb5d0b",
   "metadata": {},
   "outputs": [],
   "source": [
    "cal1 = Calculator()\n",
    "cal2 = Calculator()"
   ]
  },
  {
   "cell_type": "code",
   "execution_count": 7,
   "id": "feb9769d",
   "metadata": {},
   "outputs": [
    {
     "name": "stdout",
     "output_type": "stream",
     "text": [
      "2855914980592\n",
      "2855914982272\n"
     ]
    }
   ],
   "source": [
    "print(id(cal1))\n",
    "print(id(cal2))"
   ]
  },
  {
   "cell_type": "code",
   "execution_count": 8,
   "id": "40ba85b9",
   "metadata": {},
   "outputs": [
    {
     "name": "stdout",
     "output_type": "stream",
     "text": [
      "3\n",
      "6\n"
     ]
    }
   ],
   "source": [
    "print(cal1.add(3))\n",
    "print(cal1.add(3))"
   ]
  },
  {
   "cell_type": "markdown",
   "id": "a0cd059c",
   "metadata": {},
   "source": [
    "- 클래스를 사용하여 객체를 만들 경우 서로의 객체에 영향을 미치지 않음\n",
    "- 코드가 짧아짐"
   ]
  },
  {
   "cell_type": "markdown",
   "id": "1ca2d461",
   "metadata": {},
   "source": [
    "### 클래스 생성 예제"
   ]
  },
  {
   "cell_type": "code",
   "execution_count": 9,
   "id": "fd406878",
   "metadata": {},
   "outputs": [],
   "source": [
    "class Cookie:\n",
    "    pass"
   ]
  },
  {
   "cell_type": "code",
   "execution_count": 10,
   "id": "59066df0",
   "metadata": {},
   "outputs": [
    {
     "name": "stdout",
     "output_type": "stream",
     "text": [
      "<class '__main__.Cookie'>\n"
     ]
    }
   ],
   "source": [
    "a = Cookie()   # a, b가 객체\n",
    "b = Cookie()\n",
    "print(type(a))"
   ]
  },
  {
   "cell_type": "markdown",
   "id": "af6c1726",
   "metadata": {},
   "source": [
    "- 클래스로 만든 객체를 인스턴스라고도 함\n",
    "- a = Cookie()\n",
    "- a는 객체\n",
    "- a 객체는 Cookie의 인스턴스"
   ]
  },
  {
   "cell_type": "markdown",
   "id": "cf53e77f",
   "metadata": {},
   "source": [
    "### 사칙연산 클래스 만들기 예제"
   ]
  },
  {
   "cell_type": "code",
   "execution_count": 11,
   "id": "94e5bb20",
   "metadata": {},
   "outputs": [],
   "source": [
    "class FourCal:\n",
    "    pass"
   ]
  },
  {
   "cell_type": "markdown",
   "id": "3f0ab870",
   "metadata": {},
   "source": [
    "- 빈 클래스 생성 후 어떤 용도로 사용하고 어떤 코드를 넣을 것인지 생각해보는 것이 좋음"
   ]
  },
  {
   "cell_type": "code",
   "execution_count": 12,
   "id": "90ec7b81",
   "metadata": {},
   "outputs": [],
   "source": [
    "class FourCal:\n",
    "    def setdata(self, first, second): # 메서드의 매개변수\n",
    "        self.first = first # 메서드의 수행문\n",
    "        self.second = second # 메서드의 수행문"
   ]
  },
  {
   "cell_type": "markdown",
   "id": "fef8434d",
   "metadata": {},
   "source": [
    "- 파이썬 메서드의 첫 번째 매개변수 이름은 관례적으로 self를 사용\n",
    "- 객체를 호출할 때 호출한 객체 자신이 전달되기 때문에 self를 사용한 것\n",
    "- self말고 다른 이름을 사용해도상관 없음"
   ]
  },
  {
   "cell_type": "code",
   "execution_count": 23,
   "id": "3777db89",
   "metadata": {},
   "outputs": [],
   "source": [
    "a = FourCal()\n",
    "a.setdata(4,2)\n",
    "\"\"\"\n",
    "FourCal(), setdata(4,2) 맞지 않는 코드, 객체를 지정해서 호출해야 함\n",
    "self.first = 4\n",
    "self.second = 2\n",
    "self는 전달된 객체 a이므로 다시 다음과 같이 해석\n",
    "a.first = 4\n",
    "a.second = 2\n",
    "a.first = 4 문장이 수행되면 a객체에 객체변수 first가 생성되고 값 4가 저장\n",
    "a.second = 2 문장이 수행되면 a객체에 객체변수 second가 생성되고 값 2가 저장\n",
    "\n",
    "\"\"\""
   ]
  },
  {
   "cell_type": "code",
   "execution_count": 25,
   "id": "46f27a3a",
   "metadata": {},
   "outputs": [],
   "source": [
    "b = FourCal()\n",
    "FourCal.setdata(b,7,5)"
   ]
  },
  {
   "cell_type": "markdown",
   "id": "f5e3b33d",
   "metadata": {},
   "source": [
    "- 7 == 매개변수 first == self.first == b.first\n",
    "- 5 == 매개변수 second == self.second == b.second"
   ]
  },
  {
   "cell_type": "markdown",
   "id": "8140dbc7",
   "metadata": {},
   "source": [
    "### 각 객체에 객체 변수 생성 확인"
   ]
  },
  {
   "cell_type": "code",
   "execution_count": 27,
   "id": "40196ecd",
   "metadata": {},
   "outputs": [
    {
     "name": "stdout",
     "output_type": "stream",
     "text": [
      "4\n"
     ]
    }
   ],
   "source": [
    "a.setdata(4, 2)\n",
    "print(a.first)"
   ]
  },
  {
   "cell_type": "code",
   "execution_count": 28,
   "id": "fd262225",
   "metadata": {},
   "outputs": [
    {
     "name": "stdout",
     "output_type": "stream",
     "text": [
      "7\n"
     ]
    }
   ],
   "source": [
    "b.setdata(3, 7)\n",
    "print(b.second)"
   ]
  },
  {
   "cell_type": "markdown",
   "id": "ca1f3bf0",
   "metadata": {},
   "source": [
    "### 사칙연산 클래스에 더하기 기능 추가하기 예제"
   ]
  },
  {
   "cell_type": "code",
   "execution_count": 29,
   "id": "ea606694",
   "metadata": {},
   "outputs": [],
   "source": [
    "# 사칙 연산 클래스 생성\n",
    "class FourCal:\n",
    "    def setdata(self, first, second):\n",
    "        self.first = first\n",
    "        self.second = second\n",
    "# 더하기 기능 추가    \n",
    "    def add(self):\n",
    "        result = self.first + self.second\n",
    "        return result"
   ]
  },
  {
   "cell_type": "code",
   "execution_count": 30,
   "id": "ce130469",
   "metadata": {},
   "outputs": [
    {
     "name": "stdout",
     "output_type": "stream",
     "text": [
      "6\n"
     ]
    }
   ],
   "source": [
    "a = FourCal()\n",
    "a.setdata(4, 2)\n",
    "print(a.add())"
   ]
  },
  {
   "cell_type": "markdown",
   "id": "f0f2e3e1",
   "metadata": {},
   "source": [
    "### 사칙연산 클래스에 곱하기, 빼기, 나누기 기능 추가"
   ]
  },
  {
   "cell_type": "code",
   "execution_count": 31,
   "id": "536075f3",
   "metadata": {},
   "outputs": [],
   "source": [
    "class FourCal:\n",
    "    def setdata(self, first, second):\n",
    "        self.first = first\n",
    "        self.second = second\n",
    "    \n",
    "    def add(self):\n",
    "        result = self.first + self.second\n",
    "        return result\n",
    "    \n",
    "    def mul(self):\n",
    "        result = self.first * self.second\n",
    "        return result\n",
    "    \n",
    "    def sub(self):\n",
    "        result = self.first - self.second\n",
    "        return result\n",
    "    \n",
    "    def div(self):\n",
    "        result = self.first / self.second\n",
    "        return result"
   ]
  },
  {
   "cell_type": "code",
   "execution_count": 32,
   "id": "ead153eb",
   "metadata": {},
   "outputs": [
    {
     "name": "stdout",
     "output_type": "stream",
     "text": [
      "8\n",
      "2\n"
     ]
    }
   ],
   "source": [
    "a = FourCal()\n",
    "a.setdata(4, 2) \n",
    "print(a.mul())\n",
    "print(a.sub())"
   ]
  },
  {
   "cell_type": "markdown",
   "id": "c30c612f",
   "metadata": {},
   "source": [
    "### 생성자\n",
    "- 인스턴스 객체가 생성될 때 초기화를 위해서 자동으로 호출되는 초기화 메서드 __init__\n",
    " - 메서드: 함수처럼 어떠한 기능을 수행\n",
    " - 함수와 메서드의 차이점: 메서드는 클래스 및 객체와 연관되어 있는 함수\n",
    " - 생성자를 사용하지 않으면 매번 연산을 할 때마다 setdata() 함수를 호출해야 함"
   ]
  },
  {
   "cell_type": "markdown",
   "id": "2d01ddb6",
   "metadata": {},
   "source": [
    "### 생성자 생성 예제"
   ]
  },
  {
   "cell_type": "code",
   "execution_count": 37,
   "id": "93e27c27",
   "metadata": {},
   "outputs": [],
   "source": [
    "class test:\n",
    "    def __init__(self, first, second):\n",
    "        self.first = first\n",
    "        self.second = second"
   ]
  },
  {
   "cell_type": "markdown",
   "id": "8c1b15dc",
   "metadata": {},
   "source": [
    "- setdata 메서드와 이름만 다르고 모든 게 동일\n",
    "- 메서드 이름을 \\_\\_init\\_\\_으로 했기 때문에 생성자로 인식되어 객체가 생성되는 시점에 자동으로 호출되는 차이"
   ]
  },
  {
   "cell_type": "code",
   "execution_count": 38,
   "id": "db0f0954",
   "metadata": {},
   "outputs": [],
   "source": [
    "a = test(4, 2)"
   ]
  },
  {
   "cell_type": "markdown",
   "id": "723ab70b",
   "metadata": {},
   "source": [
    "### \\_\\_init\\_\\_메소드 예제"
   ]
  },
  {
   "cell_type": "code",
   "execution_count": 39,
   "id": "25f1c7a2",
   "metadata": {},
   "outputs": [],
   "source": [
    "class Calculator:\n",
    "    def __init__(self):\n",
    "        self.result = 1\n",
    "    \n",
    "    def add(self, num):\n",
    "        self.result = num + self.result\n",
    "        return self.result"
   ]
  },
  {
   "cell_type": "code",
   "execution_count": 41,
   "id": "0ee94288",
   "metadata": {},
   "outputs": [],
   "source": [
    "a = Calculator()\n",
    "# 객체 a를 생성하는 순간 init 메서드가 실행됨\n",
    "# a.result = 1"
   ]
  },
  {
   "cell_type": "code",
   "execution_count": 43,
   "id": "c276f792",
   "metadata": {},
   "outputs": [
    {
     "name": "stdout",
     "output_type": "stream",
     "text": [
      "4\n"
     ]
    }
   ],
   "source": [
    "print(a.add(3))"
   ]
  },
  {
   "cell_type": "code",
   "execution_count": 44,
   "id": "9416d1a2",
   "metadata": {},
   "outputs": [],
   "source": [
    "b = Calculator()"
   ]
  },
  {
   "cell_type": "code",
   "execution_count": 47,
   "id": "30724129",
   "metadata": {},
   "outputs": [
    {
     "name": "stdout",
     "output_type": "stream",
     "text": [
      "7\n"
     ]
    }
   ],
   "source": [
    "print(b.add(6))"
   ]
  },
  {
   "cell_type": "markdown",
   "id": "8ae690ee",
   "metadata": {},
   "source": [
    "### 상속\n",
    "개념\n",
    "- 부모 클래스의 모든 속성(데이터, 메소드)를 자식 클래스로 물려줌\n",
    "- 클래스의 공통된 속성을 부모 클래스에 정의\n",
    "- 하위 클래스에서는 특화된 메소드와 데이터를 정의\n",
    "\n",
    "장점\n",
    "- 각 클래스마다 동일한 코드가 작성되는 것을 방지\n",
    "- 부모 클래스에 공통된 속성을 두어 코드의 유지보수가 용이\n",
    "- 각 개별 클래스에 특화된 기능을 공통된 인터페이스로 접근 가능"
   ]
  },
  {
   "cell_type": "code",
   "execution_count": 49,
   "id": "28471882",
   "metadata": {},
   "outputs": [],
   "source": [
    "# 사칙 연산 클래스 생성\n",
    "class FourCal: # 부모 클래스\n",
    "    def setdata(self, first, second):\n",
    "        self.first = first\n",
    "        self.second = second\n",
    "    \n",
    "    def add(self):\n",
    "        result = self.first + self.second\n",
    "        return result\n",
    "    \n",
    "    def mul(self):\n",
    "        result = self.first * self.second\n",
    "        return result\n",
    "    \n",
    "    def sub(self):\n",
    "        result = self.first - self.second\n",
    "        return result\n",
    "    \n",
    "    def div(self):\n",
    "        result = self.first / self.second\n",
    "        return result"
   ]
  },
  {
   "cell_type": "code",
   "execution_count": 50,
   "id": "3180dce0",
   "metadata": {},
   "outputs": [],
   "source": [
    "class MoreFourCal(FourCal): # 자식 클래스 생성\n",
    "    pass"
   ]
  },
  {
   "cell_type": "code",
   "execution_count": 51,
   "id": "17bacab3",
   "metadata": {},
   "outputs": [],
   "source": [
    "a = MoreFourCal()"
   ]
  },
  {
   "cell_type": "code",
   "execution_count": 52,
   "id": "97ee4e01",
   "metadata": {},
   "outputs": [],
   "source": [
    "a.setdata(4, 2)"
   ]
  },
  {
   "cell_type": "code",
   "execution_count": 53,
   "id": "c154d4e1",
   "metadata": {},
   "outputs": [
    {
     "name": "stdout",
     "output_type": "stream",
     "text": [
      "6\n"
     ]
    }
   ],
   "source": [
    "print(a.add())"
   ]
  },
  {
   "cell_type": "code",
   "execution_count": 54,
   "id": "9bdb7d2b",
   "metadata": {},
   "outputs": [],
   "source": [
    "class MoreFourCal2(MoreFourCal): # 상속에 상속도 가능\n",
    "    pass"
   ]
  },
  {
   "cell_type": "code",
   "execution_count": 55,
   "id": "e987de07",
   "metadata": {},
   "outputs": [],
   "source": [
    "a = MoreFourCal2()"
   ]
  },
  {
   "cell_type": "code",
   "execution_count": 56,
   "id": "00313d0b",
   "metadata": {},
   "outputs": [],
   "source": [
    "a.setdata(4, 2)"
   ]
  },
  {
   "cell_type": "code",
   "execution_count": 57,
   "id": "8685a6f8",
   "metadata": {},
   "outputs": [
    {
     "name": "stdout",
     "output_type": "stream",
     "text": [
      "6\n"
     ]
    }
   ],
   "source": [
    "print(a.add())"
   ]
  },
  {
   "cell_type": "markdown",
   "id": "0fbb2754",
   "metadata": {},
   "source": [
    "### 자식 클래스에 제곱 기능 추가"
   ]
  },
  {
   "cell_type": "code",
   "execution_count": 58,
   "id": "7ef47f14",
   "metadata": {},
   "outputs": [],
   "source": [
    "class MoreFourCal(FourCal):\n",
    "    def pow(self):\n",
    "        result = self.first ** self.second\n",
    "        return result"
   ]
  },
  {
   "cell_type": "code",
   "execution_count": 59,
   "id": "9ccbcc09",
   "metadata": {},
   "outputs": [],
   "source": [
    "a = MoreFourCal()"
   ]
  },
  {
   "cell_type": "code",
   "execution_count": 60,
   "id": "3dc77f2f",
   "metadata": {},
   "outputs": [],
   "source": [
    "a.setdata(4, 2)"
   ]
  },
  {
   "cell_type": "code",
   "execution_count": 61,
   "id": "4ed9ebf0",
   "metadata": {},
   "outputs": [
    {
     "name": "stdout",
     "output_type": "stream",
     "text": [
      "16\n"
     ]
    }
   ],
   "source": [
    "print(a.pow())"
   ]
  },
  {
   "cell_type": "markdown",
   "id": "1815fb89",
   "metadata": {},
   "source": [
    "- 자식 클래스에 기능이 추가되어도 부모 클래스에 영향을 미치지 않음"
   ]
  },
  {
   "cell_type": "code",
   "execution_count": 62,
   "id": "ff033b6e",
   "metadata": {},
   "outputs": [],
   "source": [
    "class MoreFourCal(FourCal):\n",
    "    def add(self): # 부모 클래스와 동일한 메서드 생성\n",
    "        result = self.first + self.second + self.second\n",
    "        return result\n",
    "    \n",
    "    def pow(self):\n",
    "        result = self.first ** self.second\n",
    "        return result"
   ]
  },
  {
   "cell_type": "code",
   "execution_count": 63,
   "id": "aee9edd1",
   "metadata": {},
   "outputs": [],
   "source": [
    "a = MoreFourCal()"
   ]
  },
  {
   "cell_type": "code",
   "execution_count": 64,
   "id": "30e65d5f",
   "metadata": {},
   "outputs": [],
   "source": [
    "a.setdata(4, 2)"
   ]
  },
  {
   "cell_type": "code",
   "execution_count": 65,
   "id": "22c1ac93",
   "metadata": {},
   "outputs": [
    {
     "name": "stdout",
     "output_type": "stream",
     "text": [
      "8\n"
     ]
    }
   ],
   "source": [
    "print(a.add())"
   ]
  },
  {
   "cell_type": "markdown",
   "id": "029f0e54",
   "metadata": {},
   "source": [
    "- 자식 클래스에 부모 클래스 메서드가 동일하게 존재하는 경우 부모 클래스의 메서드를 사용하는 것이 아닌 자식 클래스의 메서드를 사용함"
   ]
  },
  {
   "cell_type": "markdown",
   "id": "bec77339",
   "metadata": {},
   "source": [
    "### 메서드 오버라이딩\n",
    "- 메서드 덮어쓰기 or 메서드 재정의"
   ]
  },
  {
   "cell_type": "code",
   "execution_count": 66,
   "id": "a6e34821",
   "metadata": {},
   "outputs": [],
   "source": [
    "# 사칙연산 클래스 생성\n",
    "class FourCal:\n",
    "    def setdata(self, first, second):\n",
    "        self.first = first\n",
    "        self.second = second\n",
    "    \n",
    "    def add(self):\n",
    "        result = self.first + self.second\n",
    "        return result\n",
    "    \n",
    "    def mul(self):\n",
    "        result = self.first * self.second\n",
    "        return result\n",
    "    \n",
    "    def sub(self):\n",
    "        result = self.first - self.second\n",
    "        return result\n",
    "    \n",
    "    def div(self):\n",
    "        result = self.first / self.second\n",
    "        return result"
   ]
  },
  {
   "cell_type": "code",
   "execution_count": 67,
   "id": "bc8e9996",
   "metadata": {},
   "outputs": [
    {
     "ename": "ZeroDivisionError",
     "evalue": "division by zero",
     "output_type": "error",
     "traceback": [
      "\u001b[1;31m---------------------------------------------------------------------------\u001b[0m",
      "\u001b[1;31mZeroDivisionError\u001b[0m                         Traceback (most recent call last)",
      "\u001b[1;32m~\\AppData\\Local\\Temp/ipykernel_93448/1477373696.py\u001b[0m in \u001b[0;36m<module>\u001b[1;34m\u001b[0m\n\u001b[0;32m      1\u001b[0m \u001b[0ma\u001b[0m \u001b[1;33m=\u001b[0m \u001b[0mFourCal\u001b[0m\u001b[1;33m(\u001b[0m\u001b[1;33m)\u001b[0m\u001b[1;33m\u001b[0m\u001b[1;33m\u001b[0m\u001b[0m\n\u001b[0;32m      2\u001b[0m \u001b[0ma\u001b[0m\u001b[1;33m.\u001b[0m\u001b[0msetdata\u001b[0m\u001b[1;33m(\u001b[0m\u001b[1;36m4\u001b[0m\u001b[1;33m,\u001b[0m \u001b[1;36m0\u001b[0m\u001b[1;33m)\u001b[0m\u001b[1;33m\u001b[0m\u001b[1;33m\u001b[0m\u001b[0m\n\u001b[1;32m----> 3\u001b[1;33m \u001b[0mprint\u001b[0m\u001b[1;33m(\u001b[0m\u001b[0ma\u001b[0m\u001b[1;33m.\u001b[0m\u001b[0mdiv\u001b[0m\u001b[1;33m(\u001b[0m\u001b[1;33m)\u001b[0m\u001b[1;33m)\u001b[0m\u001b[1;33m\u001b[0m\u001b[1;33m\u001b[0m\u001b[0m\n\u001b[0m",
      "\u001b[1;32m~\\AppData\\Local\\Temp/ipykernel_93448/1073963630.py\u001b[0m in \u001b[0;36mdiv\u001b[1;34m(self)\u001b[0m\n\u001b[0;32m     18\u001b[0m \u001b[1;33m\u001b[0m\u001b[0m\n\u001b[0;32m     19\u001b[0m     \u001b[1;32mdef\u001b[0m \u001b[0mdiv\u001b[0m\u001b[1;33m(\u001b[0m\u001b[0mself\u001b[0m\u001b[1;33m)\u001b[0m\u001b[1;33m:\u001b[0m\u001b[1;33m\u001b[0m\u001b[1;33m\u001b[0m\u001b[0m\n\u001b[1;32m---> 20\u001b[1;33m         \u001b[0mresult\u001b[0m \u001b[1;33m=\u001b[0m \u001b[0mself\u001b[0m\u001b[1;33m.\u001b[0m\u001b[0mfirst\u001b[0m \u001b[1;33m/\u001b[0m \u001b[0mself\u001b[0m\u001b[1;33m.\u001b[0m\u001b[0msecond\u001b[0m\u001b[1;33m\u001b[0m\u001b[1;33m\u001b[0m\u001b[0m\n\u001b[0m\u001b[0;32m     21\u001b[0m         \u001b[1;32mreturn\u001b[0m \u001b[0mresult\u001b[0m\u001b[1;33m\u001b[0m\u001b[1;33m\u001b[0m\u001b[0m\n",
      "\u001b[1;31mZeroDivisionError\u001b[0m: division by zero"
     ]
    }
   ],
   "source": [
    "a = FourCal()\n",
    "a.setdata(4, 0) # 4를 0으로 나눴기 때문에 오류가 발생\n",
    "print(a.div())"
   ]
  },
  {
   "cell_type": "code",
   "execution_count": 68,
   "id": "a11d5950",
   "metadata": {},
   "outputs": [],
   "source": [
    "class SafeFourCal(FourCal):  # 자식 클래스에 상속\n",
    "    def div(self):   # 부모 클래스에 있는 메서드를 동일한 이름으로 다시 만드는 것을 메서드 오버라이딩이라고 함\n",
    "        if self.second == 0: # 0의 값이 나와도 0을 그대로 출력해주는 조건값을 입력\n",
    "            return 0\n",
    "        else:\n",
    "            return self.first / self.second"
   ]
  },
  {
   "cell_type": "code",
   "execution_count": 73,
   "id": "c1b56904",
   "metadata": {},
   "outputs": [
    {
     "name": "stdout",
     "output_type": "stream",
     "text": [
      "0\n"
     ]
    }
   ],
   "source": [
    "a = SafeFourCal()\n",
    "a.setdata(4, 0)\n",
    "print(a.div())"
   ]
  },
  {
   "cell_type": "markdown",
   "id": "ccc96add",
   "metadata": {},
   "source": [
    "# 모듈\n",
    "- 함수, 변수, 클래스들을 모아놓고, 서로 다른 파이썬 프로그램에서 호출하여 사용할 수 있도록 설계된 파이썬 라이브러리\n",
    "- 리눅스의 패키지 관리자처럼 관리할 수 있는 pip, easy_install 과 같은 모듈 관리자를 제공함으로써 필요한 모듈을 검색하고, 설치하는 것이 용이\n",
    "- 모듈은 개별 파이썬 스크립에서 임포트 시켜야 함\n",
    "- 코드 재사용성이 높음\n",
    "- 모듈만 수정하면 프로그램의 동작 로직 자체를 재설계 하는 효과\n",
    "- 메모리 절약 효과\n",
    "- 필요에 따라 모듈을 만들고 파일로 저장해서 배포 가능"
   ]
  },
  {
   "cell_type": "code",
   "execution_count": 74,
   "id": "a2bc9d6a",
   "metadata": {},
   "outputs": [
    {
     "name": "stdout",
     "output_type": "stream",
     "text": [
      "['C:\\\\Users\\\\vjkim\\\\Python', 'C:\\\\ProgramData\\\\Anaconda3\\\\python39.zip', 'C:\\\\ProgramData\\\\Anaconda3\\\\DLLs', 'C:\\\\ProgramData\\\\Anaconda3\\\\lib', 'C:\\\\ProgramData\\\\Anaconda3', '', 'C:\\\\ProgramData\\\\Anaconda3\\\\lib\\\\site-packages', 'C:\\\\ProgramData\\\\Anaconda3\\\\lib\\\\site-packages\\\\locket-0.2.1-py3.9.egg', 'C:\\\\ProgramData\\\\Anaconda3\\\\lib\\\\site-packages\\\\win32', 'C:\\\\ProgramData\\\\Anaconda3\\\\lib\\\\site-packages\\\\win32\\\\lib', 'C:\\\\ProgramData\\\\Anaconda3\\\\lib\\\\site-packages\\\\Pythonwin', 'C:\\\\ProgramData\\\\Anaconda3\\\\lib\\\\site-packages\\\\IPython\\\\extensions', 'C:\\\\Users\\\\vjkim\\\\.ipython']\n"
     ]
    }
   ],
   "source": [
    "import sys\n",
    "print(sys.path)"
   ]
  },
  {
   "cell_type": "markdown",
   "id": "83cd88dd",
   "metadata": {},
   "source": [
    "### 모듈 생성 방법\n",
    "1. 메모장 열기\n",
    "2. 코드 입력\n",
    "\n",
    "def add(a,b)\n",
    "    return a + b\n",
    "    \n",
    "def sub(a,b)\n",
    "    return a + b\n",
    "    \n",
    "3. 주피터 노트북 위치에 저장(mod.py)"
   ]
  },
  {
   "cell_type": "markdown",
   "id": "bcef44ba",
   "metadata": {},
   "source": [
    "### 모듈 불러오기 예제"
   ]
  },
  {
   "cell_type": "code",
   "execution_count": 75,
   "id": "19e76a14",
   "metadata": {},
   "outputs": [],
   "source": [
    "import mod1 \n",
    "# import는 이미 만들어 놓은 파이썬 모듈을 사용할 수 있게 해주는 명령어\n",
    "# 모듈 이름 없이 함수 이름만 쓰고 싶은 경우 from 모듈이름 import 모듈함수"
   ]
  },
  {
   "cell_type": "markdown",
   "id": "d7bca1a6",
   "metadata": {},
   "source": [
    "### 모듈 vs 라이브러리\n",
    "- 기능상의 차이는 없음(비슷한 느낌)\n",
    "- 모듈\n",
    " - 작은 부품으로 비유\n",
    " - mod1.py\n",
    "- 라이브러리\n",
    " - 자주 사용되는 로직을 잘 정리한 집합 느낌\n",
    " - 흐름이 잘 짜여진 집합 느낌\n",
    " - 모듈이라고 부를 수 있음\n",
    " - sys.py"
   ]
  },
  {
   "cell_type": "code",
   "execution_count": 76,
   "id": "ad8e000a",
   "metadata": {},
   "outputs": [
    {
     "name": "stdout",
     "output_type": "stream",
     "text": [
      "__main__\n"
     ]
    }
   ],
   "source": [
    "print(__name__)\n",
    "# __name__ 변수는 파이썬에서 자동으로 사용할 수 있도록 등록된 변수\n",
    "# 파일을 생성할 시 자동으로 생성되는 변수\n",
    "# __main__은 현재 작업 공간이 main이라는 뜻"
   ]
  },
  {
   "cell_type": "markdown",
   "id": "179d1a62",
   "metadata": {},
   "source": [
    "### \\_\\_name\\_\\_ 변수 사용 예제 순서\n",
    "1. 메모장 열기\n",
    "2. 코드 입력\n",
    "\n",
    "\\_\\_name\\_\\_ 변수 사용 예제 순서\n",
    "1. 메모장 열기\n",
    "2. 코드 입력\n",
    "\n",
    "print(\\_\\_name\\_\\_)<br><br>\n",
    "if \\_\\_name\\_\\_ == '\\_\\_main\\_\\_':<br>\n",
    "&nbsp;&nbsp;&nbsp;&nbsp;print('실행합니다')<br>\n",
    "\n",
    "else:<br>\n",
    "&nbsp;&nbsp;&nbsp;&nbsp;print('실행하지 않습니다')<br>\n",
    "    \n",
    "3. 주피터 노트북 위치에 저장(test.py)\n",
    "4. cmd 창에서 test.py 실행시켜보기\n",
    "- C:\\Users\\student\\Python>python test.py\n",
    "- 결과<br>\n",
    "\\_\\_main\\_\\_<br>\n",
    "실행합니다"
   ]
  },
  {
   "cell_type": "code",
   "execution_count": 77,
   "id": "a28ee366",
   "metadata": {},
   "outputs": [
    {
     "name": "stdout",
     "output_type": "stream",
     "text": [
      "test\n",
      "실행하지 않습니다.\n",
      "test\n",
      "실행하지 않습니다.\n"
     ]
    },
    {
     "data": {
      "text/plain": [
       "<module 'test' from 'C:\\\\Users\\\\vjkim\\\\Python\\\\test.py'>"
      ]
     },
     "execution_count": 77,
     "metadata": {},
     "output_type": "execute_result"
    }
   ],
   "source": [
    "from importlib import reload\n",
    "import test\n",
    "reload(test)"
   ]
  },
  {
   "cell_type": "markdown",
   "id": "449ee961",
   "metadata": {},
   "source": [
    "- 메인 환경에서 실행시킬 수 있는 코드와 import 시켜서 실행시킬 수 있는 코드를 구분지어주고 싶을 때 사용"
   ]
  },
  {
   "cell_type": "markdown",
   "id": "a1591c2e",
   "metadata": {},
   "source": [
    "### 모듈 사용해보기 예제\n",
    "1. 메모장 열기\n",
    "2. 코드 입력\n",
    "\n",
    "PI = 3.141592<br><br>\n",
    "class Math:<br>\n",
    "&nbsp;&nbsp;&nbsp;&nbsp;def solv(self, r):<br>\n",
    "&nbsp;&nbsp;&nbsp;&nbsp;&nbsp;&nbsp;&nbsp;&nbsp;return PI * (r ** 2)<br>\n",
    "\n",
    "def add(a, b):<br>\n",
    "&nbsp;&nbsp;&nbsp;&nbsp;return a + b\n",
    "    \n",
    "3. 주피터 노트북 위치에 저장(mod2.py)"
   ]
  },
  {
   "cell_type": "code",
   "execution_count": 78,
   "id": "96640df0",
   "metadata": {},
   "outputs": [],
   "source": [
    "import mod2"
   ]
  },
  {
   "cell_type": "code",
   "execution_count": 79,
   "id": "7687de21",
   "metadata": {},
   "outputs": [
    {
     "name": "stdout",
     "output_type": "stream",
     "text": [
      "3.141592\n"
     ]
    }
   ],
   "source": [
    "print(mod2.PI)"
   ]
  },
  {
   "cell_type": "markdown",
   "id": "31efbfe9",
   "metadata": {},
   "source": [
    "- 사용 방법: 모듈 이름.모듈변수\n",
    "- 모듈 mod2의 PI 변수 출력"
   ]
  },
  {
   "cell_type": "code",
   "execution_count": 80,
   "id": "7b4d902e",
   "metadata": {},
   "outputs": [
    {
     "name": "stdout",
     "output_type": "stream",
     "text": [
      "12.566368\n"
     ]
    }
   ],
   "source": [
    "a = mod2.Math()\n",
    "print(a.solv(2))"
   ]
  },
  {
   "cell_type": "code",
   "execution_count": 81,
   "id": "b3126f1c",
   "metadata": {},
   "outputs": [
    {
     "name": "stdout",
     "output_type": "stream",
     "text": [
      "12.566368\n"
     ]
    }
   ],
   "source": [
    "print(mod2.Math.solv(a, 2))"
   ]
  },
  {
   "cell_type": "markdown",
   "id": "ea3bbecc",
   "metadata": {},
   "source": [
    "- 모듈 내에 있는 클래스를 객체로 지정\n",
    "- 클래스 내의 메서드를 사용할 수 있음"
   ]
  },
  {
   "cell_type": "code",
   "execution_count": 82,
   "id": "63aefe4a",
   "metadata": {},
   "outputs": [
    {
     "name": "stdout",
     "output_type": "stream",
     "text": [
      "7.5415920000000005\n"
     ]
    }
   ],
   "source": [
    "print(mod2.add(mod2.PI, 4.4))"
   ]
  },
  {
   "cell_type": "markdown",
   "id": "f025507a",
   "metadata": {},
   "source": [
    "- 모듈 mod2의 add() 함수 사용\n",
    " - 매개변수 a자리에 mod2의 PI 변수 대입\n",
    " - 매개변수 b자리에 일반 숫자 4.4 대입"
   ]
  },
  {
   "cell_type": "markdown",
   "id": "5099558c",
   "metadata": {},
   "source": [
    "### 모듈 내용 변경 후에는 모듈을 다시 불러들여야 함"
   ]
  },
  {
   "cell_type": "markdown",
   "id": "f36df889",
   "metadata": {},
   "source": [
    "from importlib import reload\n",
    "import mㅋod2\n",
    "reload(mod2)"
   ]
  },
  {
   "cell_type": "code",
   "execution_count": null,
   "id": "c8724d78",
   "metadata": {},
   "outputs": [],
   "source": [
    "from importlib import reload\n",
    "import mod2\n",
    "reload(mod2)"
   ]
  },
  {
   "cell_type": "markdown",
   "id": "cd1a5c97",
   "metadata": {},
   "source": [
    "### 모듈 경로 추가하기 예제(sys 모듈 사용)"
   ]
  },
  {
   "cell_type": "markdown",
   "id": "967a3a2e",
   "metadata": {},
   "source": [
    "- 주피터 노트북으로 사용 중인 폴더의 상위 폴더에 mymod 폴더 생성\n",
    "- 모듈을 사용할 수 있는 경로 확인"
   ]
  },
  {
   "cell_type": "code",
   "execution_count": 84,
   "id": "8b2280a7",
   "metadata": {},
   "outputs": [
    {
     "name": "stdout",
     "output_type": "stream",
     "text": [
      "['C:\\\\Users\\\\vjkim\\\\Python', 'C:\\\\ProgramData\\\\Anaconda3\\\\python39.zip', 'C:\\\\ProgramData\\\\Anaconda3\\\\DLLs', 'C:\\\\ProgramData\\\\Anaconda3\\\\lib', 'C:\\\\ProgramData\\\\Anaconda3', '', 'C:\\\\ProgramData\\\\Anaconda3\\\\lib\\\\site-packages', 'C:\\\\ProgramData\\\\Anaconda3\\\\lib\\\\site-packages\\\\locket-0.2.1-py3.9.egg', 'C:\\\\ProgramData\\\\Anaconda3\\\\lib\\\\site-packages\\\\win32', 'C:\\\\ProgramData\\\\Anaconda3\\\\lib\\\\site-packages\\\\win32\\\\lib', 'C:\\\\ProgramData\\\\Anaconda3\\\\lib\\\\site-packages\\\\Pythonwin', 'C:\\\\ProgramData\\\\Anaconda3\\\\lib\\\\site-packages\\\\IPython\\\\extensions', 'C:\\\\Users\\\\vjkim\\\\.ipython']\n"
     ]
    }
   ],
   "source": [
    "import sys\n",
    "print(sys.path)"
   ]
  },
  {
   "cell_type": "markdown",
   "id": "3ca24c30",
   "metadata": {},
   "source": [
    "- 모듈을 사용할 수 있는 경로를 추가"
   ]
  },
  {
   "cell_type": "code",
   "execution_count": 85,
   "id": "3cdfaa69",
   "metadata": {},
   "outputs": [],
   "source": [
    "sys.path.append(\"C:/Users/student/mymod\")"
   ]
  },
  {
   "cell_type": "code",
   "execution_count": 86,
   "id": "f01be87c",
   "metadata": {},
   "outputs": [
    {
     "data": {
      "text/plain": [
       "['C:\\\\Users\\\\vjkim\\\\Python',\n",
       " 'C:\\\\ProgramData\\\\Anaconda3\\\\python39.zip',\n",
       " 'C:\\\\ProgramData\\\\Anaconda3\\\\DLLs',\n",
       " 'C:\\\\ProgramData\\\\Anaconda3\\\\lib',\n",
       " 'C:\\\\ProgramData\\\\Anaconda3',\n",
       " '',\n",
       " 'C:\\\\ProgramData\\\\Anaconda3\\\\lib\\\\site-packages',\n",
       " 'C:\\\\ProgramData\\\\Anaconda3\\\\lib\\\\site-packages\\\\locket-0.2.1-py3.9.egg',\n",
       " 'C:\\\\ProgramData\\\\Anaconda3\\\\lib\\\\site-packages\\\\win32',\n",
       " 'C:\\\\ProgramData\\\\Anaconda3\\\\lib\\\\site-packages\\\\win32\\\\lib',\n",
       " 'C:\\\\ProgramData\\\\Anaconda3\\\\lib\\\\site-packages\\\\Pythonwin',\n",
       " 'C:\\\\ProgramData\\\\Anaconda3\\\\lib\\\\site-packages\\\\IPython\\\\extensions',\n",
       " 'C:\\\\Users\\\\vjkim\\\\.ipython',\n",
       " 'C:/Users/student/mymod']"
      ]
     },
     "execution_count": 86,
     "metadata": {},
     "output_type": "execute_result"
    }
   ],
   "source": [
    "sys.path"
   ]
  },
  {
   "cell_type": "markdown",
   "id": "f5415fea",
   "metadata": {},
   "source": [
    "### 모듈 경로 제거하기 예제( 두 가지)"
   ]
  },
  {
   "cell_type": "code",
   "execution_count": null,
   "id": "eddd4cdd",
   "metadata": {},
   "outputs": [],
   "source": [
    "sys.path.remove(\"C:/Users/student/mymod\")"
   ]
  },
  {
   "cell_type": "code",
   "execution_count": null,
   "id": "0bcc980a",
   "metadata": {},
   "outputs": [],
   "source": [
    "sys.path.remove(sys.path[-1])"
   ]
  },
  {
   "cell_type": "markdown",
   "id": "b90c71fa",
   "metadata": {},
   "source": [
    "- 지울 때도 경로를 직접 입력해서 지울 수 있음\n",
    "- 리스트를 인덱싱하여 제거하는 것도 가능"
   ]
  },
  {
   "cell_type": "markdown",
   "id": "433b42e3",
   "metadata": {},
   "source": [
    "### 모듈 경로 추가하기 예제(윈도우 gui 환경)\n",
    "1. 왼쪽 돋보기에서 \"고급 시스템 설정 보기\" 검색\n",
    "2. [환경 변수] 클릭\n",
    "3. [시스템 변수] 항목에서 [Path] 항목을 찾고 클릭\n",
    "4. [편집] 클릭\n",
    "5. [새로 만들기] 클릭 후 경로 추가"
   ]
  },
  {
   "cell_type": "markdown",
   "id": "bf080342",
   "metadata": {},
   "source": [
    "### 모듈 경로 추가하기 예제(리눅스, Mac(?))\n",
    "vim /etc/profile<br>\n",
    "vim /etc/bashrc<br>\n",
    "PATH = \"경로\" 추가\n",
    "\n",
    "or\n",
    "\n",
    "export PYTHONPATH=\"&{PYTHONPATH}:경로\""
   ]
  }
 ],
 "metadata": {
  "kernelspec": {
   "display_name": "Python 3 (ipykernel)",
   "language": "python",
   "name": "python3"
  },
  "language_info": {
   "codemirror_mode": {
    "name": "ipython",
    "version": 3
   },
   "file_extension": ".py",
   "mimetype": "text/x-python",
   "name": "python",
   "nbconvert_exporter": "python",
   "pygments_lexer": "ipython3",
   "version": "3.9.7"
  }
 },
 "nbformat": 4,
 "nbformat_minor": 5
}
