{
 "cells": [
  {
   "cell_type": "markdown",
   "id": "636889c3",
   "metadata": {},
   "source": [
    "# if문\n",
    "- 프로그래밍에서 조건을 판단하여 해당 조건에 맞는 상황을 수행하는 데 쓰임"
   ]
  },
  {
   "cell_type": "markdown",
   "id": "5819c8da",
   "metadata": {},
   "source": [
    "### if문 예제"
   ]
  },
  {
   "cell_type": "code",
   "execution_count": 2,
   "id": "4442bfad",
   "metadata": {},
   "outputs": [
    {
     "name": "stdout",
     "output_type": "stream",
     "text": [
      "택시를 타고 가라\n"
     ]
    }
   ],
   "source": [
    "money = True\n",
    "if money:\n",
    "    print(\"택시를 타고 가라\")\n",
    "else:\n",
    "    print(\"걸어 가라\")"
   ]
  },
  {
   "cell_type": "markdown",
   "id": "5dcab496",
   "metadata": {},
   "source": [
    "### pass 예제"
   ]
  },
  {
   "cell_type": "code",
   "execution_count": 5,
   "id": "2cf842de",
   "metadata": {},
   "outputs": [
    {
     "name": "stdout",
     "output_type": "stream",
     "text": [
      "현금를 꺼내라\n"
     ]
    }
   ],
   "source": [
    "pocket = ['paper','money','cellphone']\n",
    "if 'money' in pocket:\n",
    "    pass # 조건문을 판단하고 참 거짓에 따라 행동을 정의할 때 아무런 일도 하지 않게끔 설정을 하고 싶을 때 사용\n",
    "else:\n",
    "    print(\"카드를 꺼내라\") # pocket 리스트 안에 money 문자열이 있기 때문에 if문 다음 문장인 pass가 수행되어 아무런 결과값도 보여주지 않음"
   ]
  },
  {
   "cell_type": "markdown",
   "id": "953fb13b",
   "metadata": {},
   "source": [
    "### pass 응용 예제"
   ]
  },
  {
   "cell_type": "code",
   "execution_count": 4,
   "id": "880866e2",
   "metadata": {},
   "outputs": [
    {
     "name": "stdout",
     "output_type": "stream",
     "text": [
      "현금을 꺼내라\n",
      "종이를 꺼내라\n"
     ]
    }
   ],
   "source": [
    "pocket = ['paper','money','cellphone']\n",
    "if 'money' in pocket:\n",
    "    print(\"현금을 꺼내라\")\n",
    "    pass\n",
    "    print(\"종이를 꺼내라\")\n",
    "else:\n",
    "    print(\"카드를 꺼내라\")"
   ]
  },
  {
   "cell_type": "markdown",
   "id": "8154ca1c",
   "metadata": {},
   "source": [
    "- 코드 중간에 pass 구문이 있어도 전체 코드가 실행됨"
   ]
  },
  {
   "cell_type": "markdown",
   "id": "306852e7",
   "metadata": {},
   "source": [
    "### elif 구문 예제(if, else만 사용)"
   ]
  },
  {
   "cell_type": "code",
   "execution_count": 7,
   "id": "df59b9cd",
   "metadata": {},
   "outputs": [
    {
     "name": "stdout",
     "output_type": "stream",
     "text": [
      "택시를 타고 가라\n"
     ]
    }
   ],
   "source": [
    "pocket = ['paer','cellphone']\n",
    "card = True\n",
    "if 'money' in pocket:\n",
    "    pirnt(\"택시를 타고 가라\")\n",
    "else:\n",
    "    if card:\n",
    "        print(\"택시를 타고 가라\")\n",
    "    else:\n",
    "        print(\"걸어 가라\")"
   ]
  },
  {
   "cell_type": "code",
   "execution_count": 8,
   "id": "0eff86be",
   "metadata": {},
   "outputs": [
    {
     "name": "stdout",
     "output_type": "stream",
     "text": [
      "택시를 타고 가라\n"
     ]
    }
   ],
   "source": [
    "wallet = 'card'\n",
    "pocket = ['paper', wallet, 'cellphone']\n",
    "if 'money' in pocket:\n",
    "    print(\"택시를 타고 가라\")\n",
    "else:\n",
    "    if 'card' in pocket:\n",
    "        print(\"택시를 타고 가라\")\n",
    "    else:\n",
    "        print(\"걸어 가라\")"
   ]
  },
  {
   "cell_type": "markdown",
   "id": "f650cbd7",
   "metadata": {},
   "source": [
    "### elif 구문 예제"
   ]
  },
  {
   "cell_type": "code",
   "execution_count": 11,
   "id": "7c19a71d",
   "metadata": {},
   "outputs": [
    {
     "name": "stdout",
     "output_type": "stream",
     "text": [
      "택시를 타고 가라\n"
     ]
    }
   ],
   "source": [
    "pocket = ['paper', 'cellphone']\n",
    "card = True\n",
    "if 'money' in pocket:\n",
    "    print(\"택시를 타고 가라\")\n",
    "elif card:\n",
    "    print(\"택시를 타고 가라\")\n",
    "else:\n",
    "    print(\"걸어 가라\")"
   ]
  },
  {
   "cell_type": "code",
   "execution_count": 12,
   "id": "ff2d47bc",
   "metadata": {},
   "outputs": [],
   "source": [
    "del(card)"
   ]
  },
  {
   "cell_type": "code",
   "execution_count": 13,
   "id": "9568986f",
   "metadata": {},
   "outputs": [
    {
     "ename": "NameError",
     "evalue": "name 'card' is not defined",
     "output_type": "error",
     "traceback": [
      "\u001b[1;31m---------------------------------------------------------------------------\u001b[0m",
      "\u001b[1;31mNameError\u001b[0m                                 Traceback (most recent call last)",
      "\u001b[1;32m~\\AppData\\Local\\Temp/ipykernel_40568/346901850.py\u001b[0m in \u001b[0;36m<module>\u001b[1;34m\u001b[0m\n\u001b[0;32m      2\u001b[0m \u001b[1;32mif\u001b[0m \u001b[1;34m'money'\u001b[0m \u001b[1;32min\u001b[0m \u001b[0mpocket\u001b[0m\u001b[1;33m:\u001b[0m\u001b[1;33m\u001b[0m\u001b[1;33m\u001b[0m\u001b[0m\n\u001b[0;32m      3\u001b[0m     \u001b[0mprint\u001b[0m\u001b[1;33m(\u001b[0m\u001b[1;34m\"택시를 타고 가라\"\u001b[0m\u001b[1;33m)\u001b[0m\u001b[1;33m\u001b[0m\u001b[1;33m\u001b[0m\u001b[0m\n\u001b[1;32m----> 4\u001b[1;33m \u001b[1;32melif\u001b[0m \u001b[0mcard\u001b[0m\u001b[1;33m:\u001b[0m\u001b[1;33m\u001b[0m\u001b[1;33m\u001b[0m\u001b[0m\n\u001b[0m\u001b[0;32m      5\u001b[0m     \u001b[0mprint\u001b[0m\u001b[1;33m(\u001b[0m\u001b[1;34m\"택시를 타고 가라\"\u001b[0m\u001b[1;33m)\u001b[0m\u001b[1;33m\u001b[0m\u001b[1;33m\u001b[0m\u001b[0m\n\u001b[0;32m      6\u001b[0m \u001b[1;32melse\u001b[0m\u001b[1;33m:\u001b[0m\u001b[1;33m\u001b[0m\u001b[1;33m\u001b[0m\u001b[0m\n",
      "\u001b[1;31mNameError\u001b[0m: name 'card' is not defined"
     ]
    }
   ],
   "source": [
    "pocket = ['paper','card', 'cellphone']\n",
    "if 'money' in pocket:\n",
    "    print(\"택시를 타고 가라\")\n",
    "elif card:\n",
    "    print(\"택시를 타고 가라\")\n",
    "else:\n",
    "    print(\"걸어 가라\")"
   ]
  },
  {
   "cell_type": "markdown",
   "id": "37159f99",
   "metadata": {},
   "source": [
    "- 변수에는 값이 저장\n",
    "- '문자열'\n",
    "- A=1 ==> A: 변수\n",
    "- 'A' ==> A: 문자열\n",
    "- 문자열은 기본적으로 True"
   ]
  },
  {
   "cell_type": "code",
   "execution_count": 14,
   "id": "1f9f7e1c",
   "metadata": {},
   "outputs": [
    {
     "name": "stdout",
     "output_type": "stream",
     "text": [
      "택시를 타고 가라\n"
     ]
    }
   ],
   "source": [
    "pocket = ['paper', 'card', 'cellphone']\n",
    "if 'money' in pocket:\n",
    "    print(\"택시를 타고 가라\")\n",
    "elif 'card':\n",
    "    print(\"택시를 타고 가라\")\n",
    "else:\n",
    "    print(\"걸어가라\")"
   ]
  },
  {
   "cell_type": "markdown",
   "id": "ecb14f33",
   "metadata": {},
   "source": [
    "### if문 한 줄 구조로 만들기 예제"
   ]
  },
  {
   "cell_type": "code",
   "execution_count": 15,
   "id": "7e3d0a93",
   "metadata": {},
   "outputs": [],
   "source": [
    "pocket = ['paper', 'money', 'cellphone']   # 이전\n",
    "if 'money' in pocket:\n",
    "    pass\n",
    "else:\n",
    "    print(\"카드를 꺼내라\")"
   ]
  },
  {
   "cell_type": "code",
   "execution_count": 16,
   "id": "b77a9924",
   "metadata": {},
   "outputs": [],
   "source": [
    "pocket = ['paper', 'money', 'cellphone']   # 이후\n",
    "if 'money' in pocket: pass\n",
    "else: print(\"카드를 꺼내라\")"
   ]
  },
  {
   "cell_type": "markdown",
   "id": "90138c2c",
   "metadata": {},
   "source": [
    "# while\n",
    "- 반복해서 문장을 수행해야할 경우 사용"
   ]
  },
  {
   "cell_type": "markdown",
   "id": "8e75bf8f",
   "metadata": {},
   "source": [
    "### while문 예제"
   ]
  },
  {
   "cell_type": "code",
   "execution_count": 18,
   "id": "55ec17f3",
   "metadata": {},
   "outputs": [
    {
     "name": "stdout",
     "output_type": "stream",
     "text": [
      "나무를 1번 찍었습니다.\n",
      "나무를 2번 찍었습니다.\n",
      "나무를 3번 찍었습니다.\n",
      "나무를 4번 찍었습니다.\n",
      "나무를 5번 찍었습니다.\n",
      "나무를 6번 찍었습니다.\n",
      "나무를 7번 찍었습니다.\n",
      "나무를 8번 찍었습니다.\n",
      "나무를 9번 찍었습니다.\n",
      "나무를 10번 찍었습니다.\n",
      "나무 넘어갑니다.\n"
     ]
    }
   ],
   "source": [
    "treeHit = 0\n",
    "while treeHit < 10:\n",
    "    treeHit = treeHit + 1\n",
    "    print(\"나무를 %d번 찍었습니다.\" % treeHit)\n",
    "    if treeHit == 10:\n",
    "        print(\"나무 넘어갑니다.\")"
   ]
  },
  {
   "cell_type": "markdown",
   "id": "355658d9",
   "metadata": {},
   "source": [
    "### while문 예제(break)"
   ]
  },
  {
   "cell_type": "code",
   "execution_count": 20,
   "id": "2efddeb5",
   "metadata": {},
   "outputs": [
    {
     "name": "stdout",
     "output_type": "stream",
     "text": [
      "남은 돈은 290 입니다.\n",
      "돈을 받았으니 커피를 줍니다.\n",
      "남은 커피의 양은 9입니다.\n",
      "남은 돈은 280 입니다.\n",
      "돈을 받았으니 커피를 줍니다.\n",
      "남은 커피의 양은 8입니다.\n",
      "남은 돈은 270 입니다.\n",
      "돈을 받았으니 커피를 줍니다.\n",
      "남은 커피의 양은 7입니다.\n",
      "남은 돈은 260 입니다.\n",
      "돈을 받았으니 커피를 줍니다.\n",
      "남은 커피의 양은 6입니다.\n",
      "남은 돈은 250 입니다.\n",
      "돈을 받았으니 커피를 줍니다.\n",
      "남은 커피의 양은 5입니다.\n",
      "남은 돈은 240 입니다.\n",
      "돈을 받았으니 커피를 줍니다.\n",
      "남은 커피의 양은 4입니다.\n",
      "남은 돈은 230 입니다.\n",
      "돈을 받았으니 커피를 줍니다.\n",
      "남은 커피의 양은 3입니다.\n",
      "남은 돈은 220 입니다.\n",
      "돈을 받았으니 커피를 줍니다.\n",
      "남은 커피의 양은 2입니다.\n",
      "남은 돈은 210 입니다.\n",
      "돈을 받았으니 커피를 줍니다.\n",
      "남은 커피의 양은 1입니다.\n",
      "남은 돈은 200 입니다.\n",
      "돈을 받았으니 커피를 줍니다.\n",
      "남은 커피의 양은 0입니다.\n",
      "커피가 다 떨어졌으니 판매를 중지합니다.\n"
     ]
    }
   ],
   "source": [
    "coffee = 10\n",
    "money = 300\n",
    "while money:\n",
    "    money = money - 10\n",
    "    print(\"남은 돈은 %d 입니다.\" % money)\n",
    "    print(\"돈을 받았으니 커피를 줍니다.\")\n",
    "    coffee = coffee - 1\n",
    "    print(\"남은 커피의 양은 %d입니다.\" % coffee)\n",
    "    if not coffee:\n",
    "        print(\"커피가 다 떨어졌으니 판매를 중지합니다.\")\n",
    "        break"
   ]
  },
  {
   "cell_type": "markdown",
   "id": "391ee637",
   "metadata": {},
   "source": [
    "### 자료형 별 참, 거짓 판별 예제"
   ]
  },
  {
   "cell_type": "code",
   "execution_count": 21,
   "id": "22d216dd",
   "metadata": {},
   "outputs": [
    {
     "name": "stdout",
     "output_type": "stream",
     "text": [
      "true\n"
     ]
    }
   ],
   "source": [
    "if [1,2,3]:\n",
    "    print(\"true\")"
   ]
  },
  {
   "cell_type": "code",
   "execution_count": 24,
   "id": "5c3be0ae",
   "metadata": {},
   "outputs": [
    {
     "name": "stdout",
     "output_type": "stream",
     "text": [
      "true\n"
     ]
    }
   ],
   "source": [
    "if {'key' : 'value'}:\n",
    "    print(\"true\")"
   ]
  },
  {
   "cell_type": "code",
   "execution_count": 25,
   "id": "93e784ec",
   "metadata": {},
   "outputs": [
    {
     "name": "stdout",
     "output_type": "stream",
     "text": [
      "true\n"
     ]
    }
   ],
   "source": [
    "if 200:\n",
    "    print(\"true\")"
   ]
  },
  {
   "cell_type": "code",
   "execution_count": 26,
   "id": "1be72dd6",
   "metadata": {},
   "outputs": [
    {
     "name": "stdout",
     "output_type": "stream",
     "text": [
      "true\n"
     ]
    }
   ],
   "source": [
    "if 'card':\n",
    "    print(\"true\")"
   ]
  },
  {
   "cell_type": "code",
   "execution_count": 27,
   "id": "fab4f87d",
   "metadata": {},
   "outputs": [],
   "source": [
    "if []:\n",
    "    print(\"true\")"
   ]
  },
  {
   "cell_type": "code",
   "execution_count": 28,
   "id": "eb40f99e",
   "metadata": {},
   "outputs": [],
   "source": [
    "if '':\n",
    "    print(\"true\")"
   ]
  },
  {
   "cell_type": "code",
   "execution_count": 29,
   "id": "5ca1eec1",
   "metadata": {},
   "outputs": [],
   "source": [
    "if False:\n",
    "    print(\"true\")"
   ]
  },
  {
   "cell_type": "code",
   "execution_count": 30,
   "id": "0df92797",
   "metadata": {},
   "outputs": [],
   "source": [
    "if 0:\n",
    "    print(\"true\")"
   ]
  },
  {
   "cell_type": "markdown",
   "id": "eebf93e4",
   "metadata": {},
   "source": [
    "### while문 예제(continue)"
   ]
  },
  {
   "cell_type": "code",
   "execution_count": 35,
   "id": "c0467fa3",
   "metadata": {},
   "outputs": [
    {
     "name": "stdout",
     "output_type": "stream",
     "text": [
      "1\n",
      "3\n",
      "5\n",
      "7\n",
      "9\n"
     ]
    }
   ],
   "source": [
    "a = 0\n",
    "while a < 10:\n",
    "    a = a + 1\n",
    "    if a % 2 ==0:\n",
    "        continue\n",
    "    print(a)"
   ]
  },
  {
   "cell_type": "markdown",
   "id": "daf5ff95",
   "metadata": {},
   "source": [
    "# for"
   ]
  },
  {
   "cell_type": "markdown",
   "id": "41f32e7d",
   "metadata": {},
   "source": [
    "### for문 예제"
   ]
  },
  {
   "cell_type": "code",
   "execution_count": 36,
   "id": "0e09a2c9",
   "metadata": {},
   "outputs": [
    {
     "name": "stdout",
     "output_type": "stream",
     "text": [
      "one\n",
      "two\n",
      "three\n"
     ]
    }
   ],
   "source": [
    "test_list = ['one', 'two', 'three']\n",
    "for i in test_list:\n",
    "    print(i)"
   ]
  },
  {
   "cell_type": "markdown",
   "id": "33aafa43",
   "metadata": {},
   "source": [
    "### for문 변형 예제"
   ]
  },
  {
   "cell_type": "code",
   "execution_count": 37,
   "id": "92cc2ff3",
   "metadata": {},
   "outputs": [
    {
     "name": "stdout",
     "output_type": "stream",
     "text": [
      "say\n",
      "hello\n",
      "say\n",
      "hello\n",
      "say\n",
      "hello\n"
     ]
    }
   ],
   "source": [
    "test_list = ['one', 'two', 'three']\n",
    "for i in test_list:\n",
    "    print(\"say\")\n",
    "    print(\"hello\")"
   ]
  },
  {
   "cell_type": "markdown",
   "id": "84526807",
   "metadata": {},
   "source": [
    "- 변수 i를 활용하지 않아도 리스트 안에 요소가 다 소모될 때까지 반복문은 계속 진행됨"
   ]
  },
  {
   "cell_type": "markdown",
   "id": "ac044dba",
   "metadata": {},
   "source": [
    "### for문 응용 예제"
   ]
  },
  {
   "cell_type": "code",
   "execution_count": 38,
   "id": "a736d397",
   "metadata": {},
   "outputs": [
    {
     "name": "stdout",
     "output_type": "stream",
     "text": [
      "1번 학생은 합격입니다.\n",
      "2번 학생은 불합격입니다.\n",
      "3번 학생은 합격입니다.\n",
      "4번 학생은 불합격입니다.\n",
      "5번 학생은 합격입니다.\n"
     ]
    }
   ],
   "source": [
    "marks = [90, 25, 67, 45, 80]\n",
    "number = 0\n",
    "for mark in marks:\n",
    "    number = number + 1\n",
    "    if mark >= 60:\n",
    "        print(\"%d번 학생은 합격입니다.\" %number)\n",
    "    else:\n",
    "        print(\"%d번 학생은 불합격입니다.\" % number)"
   ]
  },
  {
   "cell_type": "code",
   "execution_count": 39,
   "id": "d757bd04",
   "metadata": {},
   "outputs": [
    {
     "name": "stdout",
     "output_type": "stream",
     "text": [
      "1번 학생은 합격입니다.\n",
      "3번 학생은 합격입니다.\n",
      "5번 학생은 합격입니다.\n"
     ]
    }
   ],
   "source": [
    "marks = [90, 25, 67, 45, 80]\n",
    "number = 0\n",
    "for mark in marks:\n",
    "    number = number + 1\n",
    "    if mark < 60:\n",
    "        pass\n",
    "    else:\n",
    "        print(\"%d번 학생은 합격입니다.\" % number)"
   ]
  },
  {
   "cell_type": "markdown",
   "id": "ace369bd",
   "metadata": {},
   "source": [
    "### range() 예제"
   ]
  },
  {
   "cell_type": "code",
   "execution_count": 40,
   "id": "b1e0fe3e",
   "metadata": {},
   "outputs": [],
   "source": [
    "a = range(10)"
   ]
  },
  {
   "cell_type": "code",
   "execution_count": 41,
   "id": "b3fb2951",
   "metadata": {},
   "outputs": [
    {
     "name": "stdout",
     "output_type": "stream",
     "text": [
      "range(0, 10)\n"
     ]
    }
   ],
   "source": [
    "print(a)"
   ]
  },
  {
   "cell_type": "code",
   "execution_count": 43,
   "id": "2fafc2b1",
   "metadata": {},
   "outputs": [
    {
     "name": "stdout",
     "output_type": "stream",
     "text": [
      "[0, 1, 2, 3, 4, 5, 6, 7, 8, 9]\n"
     ]
    }
   ],
   "source": [
    "print(list(a))"
   ]
  },
  {
   "cell_type": "code",
   "execution_count": 44,
   "id": "aeac6152",
   "metadata": {},
   "outputs": [],
   "source": [
    "a = range(1, 11)"
   ]
  },
  {
   "cell_type": "code",
   "execution_count": 45,
   "id": "219e47a7",
   "metadata": {},
   "outputs": [
    {
     "name": "stdout",
     "output_type": "stream",
     "text": [
      "[1, 2, 3, 4, 5, 6, 7, 8, 9, 10]\n"
     ]
    }
   ],
   "source": [
    "print(list(a))"
   ]
  },
  {
   "cell_type": "markdown",
   "id": "6eb57e9b",
   "metadata": {},
   "source": [
    "### range()를 이용한 for문 예제"
   ]
  },
  {
   "cell_type": "code",
   "execution_count": 46,
   "id": "d1c170b3",
   "metadata": {},
   "outputs": [
    {
     "name": "stdout",
     "output_type": "stream",
     "text": [
      "1번 힉생 축하합니다. 합격입니다.\n",
      "3번 힉생 축하합니다. 합격입니다.\n",
      "5번 힉생 축하합니다. 합격입니다.\n"
     ]
    }
   ],
   "source": [
    "marks = [90, 25, 67, 45, 80]\n",
    "for number in range(len(marks)):\n",
    "    if marks[number] < 60: # 리스트 인덱싱 활용\n",
    "        continue\n",
    "    print(\"%d번 힉생 축하합니다. 합격입니다.\" % (number + 1))"
   ]
  },
  {
   "cell_type": "code",
   "execution_count": 55,
   "id": "44692ad1",
   "metadata": {},
   "outputs": [
    {
     "name": "stdout",
     "output_type": "stream",
     "text": [
      "1,3,5 번 학생 축하합니다. 합격입니다\n",
      "1,3,5번 학생 축하합니다. 합격입니다\n"
     ]
    }
   ],
   "source": [
    "marks = [90, 25, 67, 45, 80]\n",
    "passed = []\n",
    "for i in range(len(marks)):\n",
    "    if marks[i] >= 60:\n",
    "        passed.append(i + 1)  \n",
    "# passed = [1,3,5] 리스트 완성\n",
    "a = \",\".join(str(_) for _ in passed)  \n",
    "# str(_) 문자열 함수로 문자열 형태를 개체로 변환하여 돌려줌 -> a = 135\n",
    "# \",\".join 문자열 삽입 -> a = 1,3,5\n",
    "\n",
    "print(a,'번 학생 축하합니다. 합격입니다')\n",
    "print('%s번 학생 축하합니다. 합격입니다' % a)"
   ]
  },
  {
   "cell_type": "markdown",
   "id": "e9875cdc",
   "metadata": {},
   "source": [
    "### for문 실습 예제(range)"
   ]
  },
  {
   "cell_type": "code",
   "execution_count": 58,
   "id": "638d48bf",
   "metadata": {},
   "outputs": [
    {
     "name": "stdout",
     "output_type": "stream",
     "text": [
      "2\n",
      "4\n",
      "6\n",
      " \n",
      "3\n",
      "6\n",
      "9\n",
      " \n",
      "4\n",
      "8\n",
      "12\n",
      " \n"
     ]
    }
   ],
   "source": [
    "for i in range(2,5): #  i = [2,3,4]\n",
    "    for j in range(1,4): # j = [1,2,3]\n",
    "        print(i * j)\n",
    "    print(' ') # 줄바꿈"
   ]
  },
  {
   "cell_type": "code",
   "execution_count": 62,
   "id": "b05daf14",
   "metadata": {},
   "outputs": [
    {
     "name": "stdout",
     "output_type": "stream",
     "text": [
      "2 4 6  \n",
      "3 6 9  \n",
      "4 8 12  \n"
     ]
    }
   ],
   "source": [
    "for i in range(2,5):\n",
    "    for j in range(1,4):\n",
    "        print(i * j, end = \" \") # end를 통해 해당 결과값을 출력할 때 다음줄로 넘기지 않고 그 줄에 계속해서 출력함\n",
    "    print(' ') # 줄 바꿈, 단을 구분하게 해줌"
   ]
  },
  {
   "cell_type": "markdown",
   "id": "0ce9ada2",
   "metadata": {},
   "source": [
    "### 7*7에서 stop 하는 경우"
   ]
  },
  {
   "cell_type": "code",
   "execution_count": 65,
   "id": "b0d96485",
   "metadata": {},
   "outputs": [
    {
     "name": "stdout",
     "output_type": "stream",
     "text": [
      "2 4 6 8 10 12 14 16 18  \n",
      "3 6 9 12 15 18 21 24 27  \n",
      "4 8 12 16 20 24 28 32 36  \n",
      "5 10 15 20 25 30 35 40 45  \n",
      "6 12 18 24 30 36 42 48 54  \n",
      "7 14 21 28 35 42 49  \n"
     ]
    }
   ],
   "source": [
    "for i in range(2,10):\n",
    "    for j in range(1,10):\n",
    "        print(i * j, end = \" \") # end를 통해 해당 결과값을 출력할 때 다음줄로 넘기지 않고 그 줄에 계속해서 출력함\n",
    "        if i == 7 and j ==7: # j 반복문 안에서의 조건문으로 i조건문은계속됨\n",
    "            break\n",
    "    print(' ') # 줄 바꿈\n",
    "    if i == 7: # i 조건문도 7에서 break 해줌\n",
    "        break"
   ]
  },
  {
   "cell_type": "code",
   "execution_count": 70,
   "id": "a74560d8",
   "metadata": {},
   "outputs": [
    {
     "name": "stdout",
     "output_type": "stream",
     "text": [
      "2 4 6 8 10 12 14 16 18  \n",
      "3 6 9 12 15 18 21 24 27  \n",
      "4 8 12 16 20 24 28 32 36  \n",
      "5 10 15 20 25 30 35 40 45  \n",
      "6 12 18 24 30 36 42 48 54  \n",
      "7 14 21 28 35 42 49 "
     ]
    }
   ],
   "source": [
    "def func():\n",
    "    for i in range(2,10):\n",
    "        for j in range(1,10):\n",
    "            print(i * j, end = \" \")\n",
    "            if (i * j == 49):\n",
    "                return # 49가 되면 아무런 값도 출력하지 않음\n",
    "        print(\" \")\n",
    "func()"
   ]
  },
  {
   "cell_type": "markdown",
   "id": "e63a6e13",
   "metadata": {},
   "source": [
    "### 리스트 안에 for문 포함하기 예제(if 조건문)"
   ]
  },
  {
   "cell_type": "code",
   "execution_count": 72,
   "id": "bc6627ba",
   "metadata": {},
   "outputs": [
    {
     "name": "stdout",
     "output_type": "stream",
     "text": [
      "[6, 12]\n"
     ]
    }
   ],
   "source": [
    "a = [1,2,3,4]\n",
    "result = []\n",
    "for num in a:\n",
    "    if num % 2 == 0:\n",
    "        result.append(num * 3)\n",
    "print(result)"
   ]
  },
  {
   "cell_type": "code",
   "execution_count": 74,
   "id": "f895ae57",
   "metadata": {},
   "outputs": [
    {
     "name": "stdout",
     "output_type": "stream",
     "text": [
      "[6, 12]\n"
     ]
    }
   ],
   "source": [
    "a = [1,2,3,4]\n",
    "result = [num * 3 for num in a if num % 2 == 0]\n",
    "print(result)"
   ]
  },
  {
   "cell_type": "markdown",
   "id": "a30b6fd2",
   "metadata": {},
   "source": [
    "### for 문에서 if, else 한 줄에 포함하기 예제"
   ]
  },
  {
   "cell_type": "code",
   "execution_count": 75,
   "id": "98151977",
   "metadata": {},
   "outputs": [
    {
     "name": "stdout",
     "output_type": "stream",
     "text": [
      "[6, 12]\n",
      "[4, 12]\n"
     ]
    }
   ],
   "source": [
    "a = [1, 2, 3, 4]\n",
    "result = [num * 3 for num in a if num % 2 == 0]\n",
    "result2 = [num * 4 for num in a if num % 2 == 1]\n",
    "print(result)\n",
    "print(result2)"
   ]
  },
  {
   "cell_type": "code",
   "execution_count": 77,
   "id": "608ad5bd",
   "metadata": {},
   "outputs": [
    {
     "name": "stdout",
     "output_type": "stream",
     "text": [
      "[0, 6, 9, 12]\n"
     ]
    }
   ],
   "source": [
    "a = [1, 2, 3, 4]\n",
    "result = [num * 3 if num > 1 else 0 for num in a]\n",
    "# num = [1,2,3,4]\n",
    "# 1보다 크면 3 곱하고 아니면 0을 곱해라\n",
    "# [0,6,9,12]\n",
    "print(result)"
   ]
  },
  {
   "cell_type": "markdown",
   "id": "13a665bc",
   "metadata": {},
   "source": [
    "- if~else 구문을 for문과 함께 한 줄에 포함시키기 위해서는 for문 앞에 위치해야 함"
   ]
  },
  {
   "cell_type": "code",
   "execution_count": 78,
   "id": "d9951baa",
   "metadata": {},
   "outputs": [
    {
     "ename": "SyntaxError",
     "evalue": "invalid syntax (Temp/ipykernel_40568/646368476.py, line 2)",
     "output_type": "error",
     "traceback": [
      "\u001b[1;36m  File \u001b[1;32m\"C:\\Users\\vjkim\\AppData\\Local\\Temp/ipykernel_40568/646368476.py\"\u001b[1;36m, line \u001b[1;32m2\u001b[0m\n\u001b[1;33m    result = [num * 3 for num in a if num > 1 else 0 ]\u001b[0m\n\u001b[1;37m                                              ^\u001b[0m\n\u001b[1;31mSyntaxError\u001b[0m\u001b[1;31m:\u001b[0m invalid syntax\n"
     ]
    }
   ],
   "source": [
    "a = [1, 2, 3, 4]\n",
    "result = [num * 3 for num in a if num > 1 else 0 ] # 순서가 문법적으로 틀림\n",
    "print(result)"
   ]
  }
 ],
 "metadata": {
  "kernelspec": {
   "display_name": "Python 3 (ipykernel)",
   "language": "python",
   "name": "python3"
  },
  "language_info": {
   "codemirror_mode": {
    "name": "ipython",
    "version": 3
   },
   "file_extension": ".py",
   "mimetype": "text/x-python",
   "name": "python",
   "nbconvert_exporter": "python",
   "pygments_lexer": "ipython3",
   "version": "3.9.7"
  }
 },
 "nbformat": 4,
 "nbformat_minor": 5
}
