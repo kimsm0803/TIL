{
 "cells": [
  {
   "cell_type": "markdown",
   "id": "bc382e03",
   "metadata": {},
   "source": [
    "# 함수\n",
    "- 함수는 반복적으로 사용하기 위해서 생성\n",
    "- 코드의 일정 부분이 별도의 논리적 개념으로 분리되는 것이 가능할 때, 함수로 코드를 분리\n",
    " - return 키워드는 계산할 결과값을 함수로 호출할 곳으로 돌려주는 역할"
   ]
  },
  {
   "cell_type": "markdown",
   "id": "a4a86dad",
   "metadata": {},
   "source": [
    "### 함수 만들기 예제"
   ]
  },
  {
   "cell_type": "code",
   "execution_count": 1,
   "id": "468e8a99",
   "metadata": {},
   "outputs": [],
   "source": [
    "def sum(a, b):\n",
    "    a + b"
   ]
  },
  {
   "cell_type": "code",
   "execution_count": 2,
   "id": "ab9cdf72",
   "metadata": {},
   "outputs": [],
   "source": [
    "sum(1,2)"
   ]
  },
  {
   "cell_type": "code",
   "execution_count": 3,
   "id": "df692c89",
   "metadata": {},
   "outputs": [
    {
     "name": "stdout",
     "output_type": "stream",
     "text": [
      "None\n"
     ]
    }
   ],
   "source": [
    "print(sum(1,2))"
   ]
  },
  {
   "cell_type": "code",
   "execution_count": 4,
   "id": "16f52715",
   "metadata": {},
   "outputs": [],
   "source": [
    "def sum2(a,b):\n",
    "    return a + b"
   ]
  },
  {
   "cell_type": "code",
   "execution_count": 5,
   "id": "35857195",
   "metadata": {},
   "outputs": [
    {
     "data": {
      "text/plain": [
       "3"
      ]
     },
     "execution_count": 5,
     "metadata": {},
     "output_type": "execute_result"
    }
   ],
   "source": [
    "sum2(1,2)"
   ]
  },
  {
   "cell_type": "code",
   "execution_count": 6,
   "id": "756f9a57",
   "metadata": {},
   "outputs": [
    {
     "name": "stdout",
     "output_type": "stream",
     "text": [
      "3\n"
     ]
    }
   ],
   "source": [
    "print(sum2(1,2))"
   ]
  },
  {
   "cell_type": "markdown",
   "id": "39e33ed5",
   "metadata": {},
   "source": [
    "### return\n",
    "- return 없이 함수를 정의하면 함수를 호출한 측에 아무 값도 전달하지 않음\n",
    " - None 객체를 전달\n",
    " - None 객체란 파이썬 내장 객체로써 아무 값도 없음을 표현하는 객체"
   ]
  },
  {
   "cell_type": "markdown",
   "id": "08e68b42",
   "metadata": {},
   "source": [
    "### 함수 만들기 예제2"
   ]
  },
  {
   "cell_type": "code",
   "execution_count": 7,
   "id": "0e0a1080",
   "metadata": {},
   "outputs": [],
   "source": [
    "def add(a,b):\n",
    "    return a +b"
   ]
  },
  {
   "cell_type": "code",
   "execution_count": 8,
   "id": "9fdab92a",
   "metadata": {},
   "outputs": [],
   "source": [
    "def addabs(a, b):\n",
    "    c = add(a, b)\n",
    "    return abs(c)"
   ]
  },
  {
   "cell_type": "code",
   "execution_count": 9,
   "id": "94076b09",
   "metadata": {},
   "outputs": [
    {
     "data": {
      "text/plain": [
       "10"
      ]
     },
     "execution_count": 9,
     "metadata": {},
     "output_type": "execute_result"
    }
   ],
   "source": [
    "addabs(-3, -7)\n",
    "# add(-3, -7)\n",
    "# -3 + (-7) = -10\n",
    "# abs는 절대값을 돌려주는 함수로 -10 -> 10으로 변환"
   ]
  },
  {
   "cell_type": "markdown",
   "id": "9561d56a",
   "metadata": {},
   "source": [
    "- 함수는 다른 함수를 호출할 수 있음"
   ]
  },
  {
   "cell_type": "markdown",
   "id": "d52e1175",
   "metadata": {},
   "source": [
    "### 함수 만들기 예제3"
   ]
  },
  {
   "cell_type": "code",
   "execution_count": 10,
   "id": "c8b51536",
   "metadata": {},
   "outputs": [],
   "source": [
    "def swap(a, b):\n",
    "    return b, a"
   ]
  },
  {
   "cell_type": "code",
   "execution_count": 11,
   "id": "57621203",
   "metadata": {},
   "outputs": [
    {
     "data": {
      "text/plain": [
       "(20, 10)"
      ]
     },
     "execution_count": 11,
     "metadata": {},
     "output_type": "execute_result"
    }
   ],
   "source": [
    "swap(10,20)"
   ]
  },
  {
   "cell_type": "code",
   "execution_count": 12,
   "id": "5e264dfb",
   "metadata": {},
   "outputs": [
    {
     "name": "stdout",
     "output_type": "stream",
     "text": [
      "<class 'tuple'>\n"
     ]
    }
   ],
   "source": [
    "print(type(swap(10,20)))"
   ]
  },
  {
   "cell_type": "markdown",
   "id": "80d3b3ab",
   "metadata": {},
   "source": [
    "- return 문에 여러 값을 사용할 경우, 튜플로 구성하여 전달"
   ]
  },
  {
   "cell_type": "markdown",
   "id": "59674d11",
   "metadata": {},
   "source": [
    "### 결과값을 받을 변수 = 함수명(입력인자1, 입력인자2)"
   ]
  },
  {
   "cell_type": "code",
   "execution_count": 13,
   "id": "99b4451f",
   "metadata": {},
   "outputs": [
    {
     "name": "stdout",
     "output_type": "stream",
     "text": [
      "10\n"
     ]
    }
   ],
   "source": [
    "a = addabs(-3, -7)\n",
    "print(a)"
   ]
  },
  {
   "cell_type": "markdown",
   "id": "86ab24d8",
   "metadata": {},
   "source": [
    "### 입력값이 없고 결과값이 있는 함수 예제"
   ]
  },
  {
   "cell_type": "code",
   "execution_count": 14,
   "id": "3680a7b5",
   "metadata": {},
   "outputs": [],
   "source": [
    "def say():\n",
    "    return \"hi\""
   ]
  },
  {
   "cell_type": "code",
   "execution_count": 15,
   "id": "3788e3cc",
   "metadata": {},
   "outputs": [
    {
     "data": {
      "text/plain": [
       "'hi'"
      ]
     },
     "execution_count": 15,
     "metadata": {},
     "output_type": "execute_result"
    }
   ],
   "source": [
    "say()"
   ]
  },
  {
   "cell_type": "code",
   "execution_count": 16,
   "id": "f593ce6c",
   "metadata": {},
   "outputs": [
    {
     "name": "stdout",
     "output_type": "stream",
     "text": [
      "hi\n"
     ]
    }
   ],
   "source": [
    "a = say()\n",
    "print(a)"
   ]
  },
  {
   "cell_type": "markdown",
   "id": "dd558ab4",
   "metadata": {},
   "source": [
    "### 입력값이 있고 결과값이 없는 함수 예제"
   ]
  },
  {
   "cell_type": "code",
   "execution_count": 17,
   "id": "08a79bc8",
   "metadata": {},
   "outputs": [],
   "source": [
    "def sum(a, b):\n",
    "    print(\"%d와 %d의 합은 %d입니다.\" % (a, b, a + b))"
   ]
  },
  {
   "cell_type": "code",
   "execution_count": 18,
   "id": "dea5c8b3",
   "metadata": {},
   "outputs": [
    {
     "name": "stdout",
     "output_type": "stream",
     "text": [
      "3와 4의 합은 7입니다.\n"
     ]
    }
   ],
   "source": [
    "sum(3, 4)"
   ]
  },
  {
   "cell_type": "code",
   "execution_count": 19,
   "id": "d421da95",
   "metadata": {},
   "outputs": [
    {
     "name": "stdout",
     "output_type": "stream",
     "text": [
      "3와 4의 합은 7입니다.\n",
      "None\n"
     ]
    }
   ],
   "source": [
    "a = sum(3, 4)\n",
    "print(a)"
   ]
  },
  {
   "cell_type": "markdown",
   "id": "68b0f6b4",
   "metadata": {},
   "source": [
    "- sum() 함수를 호출할 시 결과가 출력되나 결과값이 있는 것은 아님(return이 없기 때문)"
   ]
  },
  {
   "cell_type": "markdown",
   "id": "10031623",
   "metadata": {},
   "source": [
    "### 입력값이 없고 결과값이 없는 함수 예제"
   ]
  },
  {
   "cell_type": "code",
   "execution_count": 20,
   "id": "3c81d733",
   "metadata": {},
   "outputs": [],
   "source": [
    "def say():\n",
    "    print(\"Hi\")"
   ]
  },
  {
   "cell_type": "code",
   "execution_count": 21,
   "id": "d698535b",
   "metadata": {},
   "outputs": [
    {
     "name": "stdout",
     "output_type": "stream",
     "text": [
      "Hi\n"
     ]
    }
   ],
   "source": [
    "say()"
   ]
  },
  {
   "cell_type": "code",
   "execution_count": 22,
   "id": "be6010b6",
   "metadata": {},
   "outputs": [
    {
     "name": "stdout",
     "output_type": "stream",
     "text": [
      "Hi\n",
      "None\n"
     ]
    }
   ],
   "source": [
    "a = say()\n",
    "print(a)"
   ]
  },
  {
   "cell_type": "markdown",
   "id": "21aace18",
   "metadata": {},
   "source": [
    "### 매개변수 지정하여 호출하기 예제"
   ]
  },
  {
   "cell_type": "code",
   "execution_count": 23,
   "id": "35ba0461",
   "metadata": {},
   "outputs": [],
   "source": [
    "def sum(a,b):  #(a,b)가 매개변수\n",
    "    return a + b"
   ]
  },
  {
   "cell_type": "code",
   "execution_count": 24,
   "id": "c1a5964c",
   "metadata": {},
   "outputs": [
    {
     "data": {
      "text/plain": [
       "10"
      ]
     },
     "execution_count": 24,
     "metadata": {},
     "output_type": "execute_result"
    }
   ],
   "source": [
    "sum(a = 3, b = 7)"
   ]
  },
  {
   "cell_type": "code",
   "execution_count": 25,
   "id": "f12a2456",
   "metadata": {},
   "outputs": [
    {
     "name": "stdout",
     "output_type": "stream",
     "text": [
      "10\n"
     ]
    }
   ],
   "source": [
    "print(sum(a = 3, b = 7))"
   ]
  },
  {
   "cell_type": "code",
   "execution_count": 27,
   "id": "6a0ffaa1",
   "metadata": {},
   "outputs": [
    {
     "name": "stdout",
     "output_type": "stream",
     "text": [
      "8\n"
     ]
    }
   ],
   "source": [
    "print(sum(b = 5, a = 3))"
   ]
  },
  {
   "cell_type": "markdown",
   "id": "2c83e0e2",
   "metadata": {},
   "source": [
    "- 키워드 인수라고 부르기도 함\n",
    " - 키워드 인수: 인수 이름으로 값을 전달하는 방식, 보통은 인수의 순서로 값을 나타내지만 이름으로 값을 전달하는 방식 "
   ]
  },
  {
   "cell_type": "code",
   "execution_count": 28,
   "id": "5b1b6490",
   "metadata": {},
   "outputs": [
    {
     "data": {
      "text/plain": [
       "25"
      ]
     },
     "execution_count": 28,
     "metadata": {},
     "output_type": "execute_result"
    }
   ],
   "source": [
    "sum(20, b = 5)"
   ]
  },
  {
   "cell_type": "code",
   "execution_count": 29,
   "id": "bfa46d76",
   "metadata": {},
   "outputs": [
    {
     "ename": "SyntaxError",
     "evalue": "positional argument follows keyword argument (Temp/ipykernel_83128/1197278764.py, line 1)",
     "output_type": "error",
     "traceback": [
      "\u001b[1;36m  File \u001b[1;32m\"C:\\Users\\vjkim\\AppData\\Local\\Temp/ipykernel_83128/1197278764.py\"\u001b[1;36m, line \u001b[1;32m1\u001b[0m\n\u001b[1;33m    sum(b = 5, 20)\u001b[0m\n\u001b[1;37m                 ^\u001b[0m\n\u001b[1;31mSyntaxError\u001b[0m\u001b[1;31m:\u001b[0m positional argument follows keyword argument\n"
     ]
    }
   ],
   "source": [
    "sum(b = 5, 20)"
   ]
  },
  {
   "cell_type": "code",
   "execution_count": 30,
   "id": "1a2a98ab",
   "metadata": {},
   "outputs": [
    {
     "ename": "SyntaxError",
     "evalue": "positional argument follows keyword argument (Temp/ipykernel_83128/737711539.py, line 1)",
     "output_type": "error",
     "traceback": [
      "\u001b[1;36m  File \u001b[1;32m\"C:\\Users\\vjkim\\AppData\\Local\\Temp/ipykernel_83128/737711539.py\"\u001b[1;36m, line \u001b[1;32m1\u001b[0m\n\u001b[1;33m    sum(a = 5, 20)\u001b[0m\n\u001b[1;37m                 ^\u001b[0m\n\u001b[1;31mSyntaxError\u001b[0m\u001b[1;31m:\u001b[0m positional argument follows keyword argument\n"
     ]
    }
   ],
   "source": [
    "sum(a = 5, 20)"
   ]
  },
  {
   "cell_type": "markdown",
   "id": "9fd0ea60",
   "metadata": {},
   "source": [
    "- 일반적으로 함수를 호출할 떄 키워드 인수의 위치는 보통 인수의 이후에 위치해야 함\n",
    "- 순서에 맞게 키워드 인수를 앞에 사용해도 에러 발생"
   ]
  },
  {
   "cell_type": "markdown",
   "id": "4cd86908",
   "metadata": {},
   "source": [
    "### 가변 길이 인수 리스트(*매개변수)\n",
    "- 고정되지 않은 수의 인수를 함수에 전달하는 방식\n",
    " - 함수를 정의할 때 인수 목록에 반드시 넘겨야 하는 고정 인수를 우선 나열하고, 나머지를 튜플 형식으로 한꺼번에 받는 방식"
   ]
  },
  {
   "cell_type": "markdown",
   "id": "13002b12",
   "metadata": {},
   "source": [
    "### 가변 길이 인수 리스트 예제"
   ]
  },
  {
   "cell_type": "code",
   "execution_count": 31,
   "id": "5c2676d5",
   "metadata": {},
   "outputs": [],
   "source": [
    "def varilen(a, *b):\n",
    "    print(a, b)"
   ]
  },
  {
   "cell_type": "code",
   "execution_count": 32,
   "id": "68998f07",
   "metadata": {},
   "outputs": [
    {
     "name": "stdout",
     "output_type": "stream",
     "text": [
      "1 ()\n",
      "1 (2,)\n",
      "1 (2, 3)\n",
      "1 (2, 3, 4)\n"
     ]
    }
   ],
   "source": [
    "varilen(1)\n",
    "varilen(1, 2)\n",
    "varilen(1, 2, 3)\n",
    "varilen(1, 2, 3, 4)"
   ]
  },
  {
   "cell_type": "code",
   "execution_count": 33,
   "id": "cc63fc22",
   "metadata": {},
   "outputs": [],
   "source": [
    "def printf(a, *b):\n",
    "    print(\"첫번째 인수 :\", a)\n",
    "    for c in b:\n",
    "        print(\"나머지 인수 :\", c)"
   ]
  },
  {
   "cell_type": "code",
   "execution_count": 34,
   "id": "3e2f9e53",
   "metadata": {},
   "outputs": [
    {
     "name": "stdout",
     "output_type": "stream",
     "text": [
      "첫번째 인수 : 1\n",
      "나머지 인수 : 2\n",
      "나머지 인수 : 3\n",
      "나머지 인수 : 4\n",
      "나머지 인수 : 5\n",
      "나머지 인수 : 6\n",
      "나머지 인수 : 7\n",
      "나머지 인수 : 8\n",
      "나머지 인수 : 9\n"
     ]
    }
   ],
   "source": [
    "printf(1, 2, 3, 4, 5, 6, 7, 8, 9)"
   ]
  },
  {
   "cell_type": "code",
   "execution_count": 37,
   "id": "5d27ba9b",
   "metadata": {},
   "outputs": [],
   "source": [
    "def h(a,b,*c):\n",
    "    print(a,b,c)\n",
    "args = (1,2,3,4,5)"
   ]
  },
  {
   "cell_type": "code",
   "execution_count": 38,
   "id": "93b968af",
   "metadata": {},
   "outputs": [
    {
     "name": "stdout",
     "output_type": "stream",
     "text": [
      "1 2 (3, 4, 5)\n"
     ]
    }
   ],
   "source": [
    "h(1,2,3,4,5)"
   ]
  },
  {
   "cell_type": "code",
   "execution_count": 39,
   "id": "2feb9d92",
   "metadata": {},
   "outputs": [
    {
     "name": "stdout",
     "output_type": "stream",
     "text": [
      "1 2 (3, 4, 5)\n"
     ]
    }
   ],
   "source": [
    "h(*args)"
   ]
  },
  {
   "cell_type": "markdown",
   "id": "1154fb84",
   "metadata": {},
   "source": [
    "- 함수를 정의할 시 가변 길이 인수 리스트를 매개 변수로 받을 경우 함수를 호출할 때 받는 인자 또한 가변 길이 인수 리스트라는 것을 명시해줘야 함"
   ]
  },
  {
   "cell_type": "markdown",
   "id": "00f85603",
   "metadata": {},
   "source": [
    "### **매개변수\n",
    "- 함수 호출에 사용하는 인수들이 사전(dic)에 있다면 **을 이용하여 함수를 호출할 수 있음"
   ]
  },
  {
   "cell_type": "code",
   "execution_count": 40,
   "id": "d17db440",
   "metadata": {},
   "outputs": [],
   "source": [
    "def h(a, b, c, f):\n",
    "    print(a, b, c, f)"
   ]
  },
  {
   "cell_type": "code",
   "execution_count": 41,
   "id": "93c4ab12",
   "metadata": {},
   "outputs": [],
   "source": [
    "dicargs = {'a':1, 'b':2, 'c':3, 'f':4}"
   ]
  },
  {
   "cell_type": "code",
   "execution_count": 42,
   "id": "d9b4a0c3",
   "metadata": {},
   "outputs": [
    {
     "name": "stdout",
     "output_type": "stream",
     "text": [
      "1 2 3 4\n"
     ]
    }
   ],
   "source": [
    "h(**dicargs)"
   ]
  },
  {
   "cell_type": "markdown",
   "id": "4f548a35",
   "metadata": {},
   "source": [
    "- **매개변수의 핵심 요소\n",
    "1. 사전과 관련이 있음\n",
    "2. 함수에서 키와 같은 매개변수를 받음\n",
    "3. **매개변수를 이용하여 사전을 호출할 경우 각 키에 매칭되는 값들이 매칭됨"
   ]
  },
  {
   "cell_type": "markdown",
   "id": "58d08e80",
   "metadata": {},
   "source": [
    "### **매개변수 추가 코드"
   ]
  },
  {
   "cell_type": "code",
   "execution_count": 44,
   "id": "e99e5a8b",
   "metadata": {},
   "outputs": [],
   "source": [
    "def dic_1(**dic):\n",
    "    print(dic.items())\n",
    "    for key, value in dic.items():\n",
    "        print(\"{0} = {1}\".format(key, value))"
   ]
  },
  {
   "cell_type": "code",
   "execution_count": 55,
   "id": "2b3a74d3",
   "metadata": {},
   "outputs": [],
   "source": [
    "dic = {\"name\":\"홍길동\", \"나이\":\"20\"}"
   ]
  },
  {
   "cell_type": "code",
   "execution_count": 54,
   "id": "74552b4c",
   "metadata": {},
   "outputs": [
    {
     "name": "stdout",
     "output_type": "stream",
     "text": [
      "dict_items([('name', '홍길동'), ('나이', '20')])\n",
      "name = 홍길동\n",
      "나이 = 20\n"
     ]
    }
   ],
   "source": [
    "dic_1(**dic)"
   ]
  },
  {
   "cell_type": "markdown",
   "id": "cd036cc9",
   "metadata": {},
   "source": [
    "### return 예제(return으로 결과값을 두 개 반환하는 경우)"
   ]
  },
  {
   "cell_type": "code",
   "execution_count": 59,
   "id": "4b8063ff",
   "metadata": {},
   "outputs": [],
   "source": [
    "def sum_and_mul(a,b):\n",
    "    return a+b, a*b"
   ]
  },
  {
   "cell_type": "code",
   "execution_count": 60,
   "id": "f7d063ec",
   "metadata": {},
   "outputs": [],
   "source": [
    "result =sum_and_mul(3,4)"
   ]
  },
  {
   "cell_type": "code",
   "execution_count": 61,
   "id": "b1fd3675",
   "metadata": {},
   "outputs": [
    {
     "name": "stdout",
     "output_type": "stream",
     "text": [
      "(7, 12)\n"
     ]
    }
   ],
   "source": [
    "print(result)"
   ]
  },
  {
   "cell_type": "code",
   "execution_count": 62,
   "id": "c1a6223b",
   "metadata": {},
   "outputs": [],
   "source": [
    "sum, mul = sum_and_mul(3, 4)"
   ]
  },
  {
   "cell_type": "code",
   "execution_count": 63,
   "id": "671cf9bd",
   "metadata": {},
   "outputs": [
    {
     "name": "stdout",
     "output_type": "stream",
     "text": [
      "7\n",
      "12\n"
     ]
    }
   ],
   "source": [
    "print(sum)\n",
    "print(mul)"
   ]
  },
  {
   "cell_type": "markdown",
   "id": "2c9af17a",
   "metadata": {},
   "source": [
    "### return 예제(return을 두 줄로 나눠 입력한 후 결과값을 두 개 반환하는 경우)"
   ]
  },
  {
   "cell_type": "code",
   "execution_count": 64,
   "id": "9b70908a",
   "metadata": {},
   "outputs": [],
   "source": [
    "def sum_and_mul(a, b):\n",
    "    return a + b\n",
    "    return a * b"
   ]
  },
  {
   "cell_type": "code",
   "execution_count": 65,
   "id": "671ec548",
   "metadata": {},
   "outputs": [],
   "source": [
    "result = sum_and_mul(2, 3)"
   ]
  },
  {
   "cell_type": "code",
   "execution_count": 66,
   "id": "55ee06fa",
   "metadata": {},
   "outputs": [
    {
     "name": "stdout",
     "output_type": "stream",
     "text": [
      "5\n"
     ]
    }
   ],
   "source": [
    "print(result)"
   ]
  },
  {
   "cell_type": "markdown",
   "id": "e674cefd",
   "metadata": {},
   "source": [
    "- return을 사용할 경우 한 줄에 입력해야 함"
   ]
  },
  {
   "cell_type": "markdown",
   "id": "6ca428d2",
   "metadata": {},
   "source": [
    "### return 예제(return을 단독으로 사용하여 함수를 빠져나올 경우)"
   ]
  },
  {
   "cell_type": "code",
   "execution_count": 67,
   "id": "74ad25cf",
   "metadata": {},
   "outputs": [],
   "source": [
    "def say_nick(nick):\n",
    "    if nick == \"바보\":\n",
    "        return\n",
    "    print(\"나의 별명은 %s입니다.\" % nick)"
   ]
  },
  {
   "cell_type": "code",
   "execution_count": 68,
   "id": "1bc77af1",
   "metadata": {},
   "outputs": [],
   "source": [
    "say_nick(\"바보\")"
   ]
  },
  {
   "cell_type": "code",
   "execution_count": 69,
   "id": "7c3b5acc",
   "metadata": {},
   "outputs": [
    {
     "name": "stdout",
     "output_type": "stream",
     "text": [
      "None\n"
     ]
    }
   ],
   "source": [
    "print(say_nick(\"바보\"))"
   ]
  },
  {
   "cell_type": "code",
   "execution_count": 70,
   "id": "61c2b6e5",
   "metadata": {},
   "outputs": [
    {
     "name": "stdout",
     "output_type": "stream",
     "text": [
      "나의 별명은 야호입니다.\n"
     ]
    }
   ],
   "source": [
    "say_nick(\"야호\")"
   ]
  },
  {
   "cell_type": "markdown",
   "id": "1ef6aef1",
   "metadata": {},
   "source": [
    "### 매개 변수에 초깃값 미리 설정하기 예제"
   ]
  },
  {
   "cell_type": "code",
   "execution_count": 71,
   "id": "68f870a0",
   "metadata": {},
   "outputs": [],
   "source": [
    "def say_myself(name, old, man=True):\n",
    "    print(\"나의 이름은 %s입니다.\" % name)\n",
    "    print(\"나이는 %d입니다.\" % old)\n",
    "    if man:\n",
    "        print(\"남자입니다.\")\n",
    "    else:\n",
    "        print(\"여자입니다.\")"
   ]
  },
  {
   "cell_type": "code",
   "execution_count": 72,
   "id": "1770ce0c",
   "metadata": {},
   "outputs": [
    {
     "name": "stdout",
     "output_type": "stream",
     "text": [
      "나의 이름은 오규석입니다.\n",
      "나이는 20입니다.\n",
      "남자입니다.\n"
     ]
    }
   ],
   "source": [
    "say_myself(\"오규석\", 20)"
   ]
  },
  {
   "cell_type": "code",
   "execution_count": 73,
   "id": "ca6937f5",
   "metadata": {},
   "outputs": [
    {
     "name": "stdout",
     "output_type": "stream",
     "text": [
      "나의 이름은 오규석입니다.\n",
      "나이는 20입니다.\n",
      "남자입니다.\n"
     ]
    }
   ],
   "source": [
    "say_myself(\"오규석\", 20, True)"
   ]
  },
  {
   "cell_type": "code",
   "execution_count": 74,
   "id": "97827d42",
   "metadata": {},
   "outputs": [
    {
     "name": "stdout",
     "output_type": "stream",
     "text": [
      "나의 이름은 오규석입니다.\n",
      "나이는 20입니다.\n",
      "여자입니다.\n"
     ]
    }
   ],
   "source": [
    "say_myself(\"오규석\", 20, False)"
   ]
  },
  {
   "cell_type": "markdown",
   "id": "b2f8fcb9",
   "metadata": {},
   "source": [
    "### 매개 변수에 초깃값 미리 설정하기 예제(중간에 미리 설정했을 경우)"
   ]
  },
  {
   "cell_type": "code",
   "execution_count": 75,
   "id": "f61310cc",
   "metadata": {},
   "outputs": [
    {
     "ename": "SyntaxError",
     "evalue": "non-default argument follows default argument (Temp/ipykernel_83128/303328876.py, line 1)",
     "output_type": "error",
     "traceback": [
      "\u001b[1;36m  File \u001b[1;32m\"C:\\Users\\vjkim\\AppData\\Local\\Temp/ipykernel_83128/303328876.py\"\u001b[1;36m, line \u001b[1;32m1\u001b[0m\n\u001b[1;33m    def say_myself(name, man=True, old):\u001b[0m\n\u001b[1;37m                                      ^\u001b[0m\n\u001b[1;31mSyntaxError\u001b[0m\u001b[1;31m:\u001b[0m non-default argument follows default argument\n"
     ]
    }
   ],
   "source": [
    "def say_myself(name, man=True, old):\n",
    "    print(\"나의 이름은 %s입니다.\" % name)\n",
    "    print(\"나이는 %d입니다.\" % old)\n",
    "    if man:\n",
    "        print(\"남자입니다.\")\n",
    "    else:\n",
    "        print(\"여자입니다.\")"
   ]
  },
  {
   "cell_type": "markdown",
   "id": "b37e89e7",
   "metadata": {},
   "source": [
    "- 매개 변수에 초깃값을 미리 설정하고 싶은 경우 매개 변수 마지막에 설정해줘야 함"
   ]
  },
  {
   "cell_type": "markdown",
   "id": "ee2e2e63",
   "metadata": {},
   "source": [
    "### 매개 변수의 초깃값을 두 개 설정 가능한 지의 여부"
   ]
  },
  {
   "cell_type": "code",
   "execution_count": 76,
   "id": "b0237f82",
   "metadata": {},
   "outputs": [],
   "source": [
    "def say_myself(name, old=20, man=True):\n",
    "    print(\"나의 이름은 %s입니다.\" % name)\n",
    "    print(\"나이는 %d입니다.\" % old)\n",
    "    if man:\n",
    "        print(\"남자입니다.\")\n",
    "    else:\n",
    "        print(\"여자입니다.\")"
   ]
  },
  {
   "cell_type": "code",
   "execution_count": 77,
   "id": "b08ba8da",
   "metadata": {},
   "outputs": [
    {
     "name": "stdout",
     "output_type": "stream",
     "text": [
      "나의 이름은 오규석입니다.\n",
      "나이는 20입니다.\n",
      "남자입니다.\n"
     ]
    }
   ],
   "source": [
    "say_myself(\"오규석\")"
   ]
  },
  {
   "cell_type": "markdown",
   "id": "46655c30",
   "metadata": {},
   "source": [
    "- 매개 변수에 초깃값을 2개 이상 미리 설정하고 싶은 경우에도 매개 변수 마지막에 설정해줘야 함"
   ]
  },
  {
   "cell_type": "markdown",
   "id": "ed09c3f0",
   "metadata": {},
   "source": [
    "### 변수의 유효범위\n",
    "- 변수가 어느 범위에서 유효한지를 나타냄\n",
    " - 변수가 함수 내에서 정의되면 함수의 지역 변수(local) 변수가 됨\n",
    " - 변수가 함수 밖에서 정의되면 전역(global) 변수가 됨\n",
    "- 전역 변수: 함수 외부에서 정의된 변수, 코드 모든 범위에서 사용 가능\n",
    "- 지역 변수: 함수 내부에서 정의된 변수, 해당 정의된 함수에서만 사용 가능\n",
    "- 호출 순서: 지역 변수 -> 전역 변수"
   ]
  },
  {
   "cell_type": "markdown",
   "id": "c48f4d78",
   "metadata": {},
   "source": [
    "### 변수의 호출 순서 예제(지역 변수가 있는 경우)"
   ]
  },
  {
   "cell_type": "code",
   "execution_count": 78,
   "id": "ed0c6014",
   "metadata": {},
   "outputs": [],
   "source": [
    "str = 'global variable' #전역 변수\n",
    "\n",
    "def func_1():\n",
    "    str = 'local variable' #지역 변수\n",
    "    print(str)"
   ]
  },
  {
   "cell_type": "code",
   "execution_count": 79,
   "id": "f48ca91e",
   "metadata": {},
   "outputs": [
    {
     "name": "stdout",
     "output_type": "stream",
     "text": [
      "local variable\n"
     ]
    }
   ],
   "source": [
    "func_1() #지역 변수가 호출이 됨"
   ]
  },
  {
   "cell_type": "code",
   "execution_count": 80,
   "id": "8a7c0564",
   "metadata": {},
   "outputs": [
    {
     "name": "stdout",
     "output_type": "stream",
     "text": [
      "global variable\n"
     ]
    }
   ],
   "source": [
    "print(str) # 전역 변수가 호출이 됨"
   ]
  },
  {
   "cell_type": "code",
   "execution_count": 81,
   "id": "754a5dea",
   "metadata": {},
   "outputs": [],
   "source": [
    "str = 'global variable'\n",
    "\n",
    "def func_1():\n",
    "    str = 'local variable'\n",
    "    return str\n",
    "    print(str)"
   ]
  },
  {
   "cell_type": "code",
   "execution_count": 82,
   "id": "7e1760af",
   "metadata": {},
   "outputs": [
    {
     "data": {
      "text/plain": [
       "'local variable'"
      ]
     },
     "execution_count": 82,
     "metadata": {},
     "output_type": "execute_result"
    }
   ],
   "source": [
    "func_1() # 함수로 인한 지역 변수가 먼저 호출이 됨"
   ]
  },
  {
   "cell_type": "code",
   "execution_count": 83,
   "id": "9d4babb2",
   "metadata": {},
   "outputs": [
    {
     "name": "stdout",
     "output_type": "stream",
     "text": [
      "global variable\n"
     ]
    }
   ],
   "source": [
    "print(str) # 전역 변수가 호출이 됨"
   ]
  },
  {
   "cell_type": "markdown",
   "id": "34263446",
   "metadata": {},
   "source": [
    "### 함수 안에서 함수 밖의 변수를 변경하는 방법(첫 번째)"
   ]
  },
  {
   "cell_type": "code",
   "execution_count": 84,
   "id": "7da94fe7",
   "metadata": {},
   "outputs": [],
   "source": [
    "a = 1 # 전역 변수\n",
    "def vartest(b):\n",
    "    b = b + 1\n",
    "    return b"
   ]
  },
  {
   "cell_type": "code",
   "execution_count": 87,
   "id": "e9bdb4b8",
   "metadata": {},
   "outputs": [
    {
     "data": {
      "text/plain": [
       "2"
      ]
     },
     "execution_count": 87,
     "metadata": {},
     "output_type": "execute_result"
    }
   ],
   "source": [
    "vartest(1)"
   ]
  },
  {
   "cell_type": "code",
   "execution_count": 88,
   "id": "2346a931",
   "metadata": {},
   "outputs": [],
   "source": [
    "a = vartest(1) # 지역 변수"
   ]
  },
  {
   "cell_type": "code",
   "execution_count": 89,
   "id": "0b83b6e2",
   "metadata": {},
   "outputs": [
    {
     "name": "stdout",
     "output_type": "stream",
     "text": [
      "2\n"
     ]
    }
   ],
   "source": [
    "print(a) # 지역 변수 값이 호출됨"
   ]
  },
  {
   "cell_type": "markdown",
   "id": "96fc2728",
   "metadata": {},
   "source": [
    "- 함수에서 나온 결과 값이므로 기존에 만든 전역 변수를 변경"
   ]
  },
  {
   "cell_type": "code",
   "execution_count": 90,
   "id": "b90346b2",
   "metadata": {},
   "outputs": [],
   "source": [
    "a = 1\n",
    "def vartest(a):\n",
    "    a = a + 1\n",
    "    return a"
   ]
  },
  {
   "cell_type": "code",
   "execution_count": 91,
   "id": "68aaed21",
   "metadata": {},
   "outputs": [
    {
     "data": {
      "text/plain": [
       "2"
      ]
     },
     "execution_count": 91,
     "metadata": {},
     "output_type": "execute_result"
    }
   ],
   "source": [
    "vartest(a) # a = 1"
   ]
  },
  {
   "cell_type": "code",
   "execution_count": 92,
   "id": "f14936b5",
   "metadata": {},
   "outputs": [
    {
     "name": "stdout",
     "output_type": "stream",
     "text": [
      "1\n"
     ]
    }
   ],
   "source": [
    "print(a)"
   ]
  },
  {
   "cell_type": "code",
   "execution_count": 93,
   "id": "3b101041",
   "metadata": {},
   "outputs": [
    {
     "name": "stdout",
     "output_type": "stream",
     "text": [
      "2\n"
     ]
    }
   ],
   "source": [
    "a = vartest(a) # a = 2\n",
    "print(a)"
   ]
  },
  {
   "cell_type": "markdown",
   "id": "0f48fef6",
   "metadata": {},
   "source": [
    "### 함수 안에서 함수 밖의 변수를 변경하는 방법(두 번째 global)"
   ]
  },
  {
   "cell_type": "code",
   "execution_count": 94,
   "id": "faafa6ff",
   "metadata": {},
   "outputs": [],
   "source": [
    "a = 1\n",
    "def vartest():\n",
    "    global a # 함수 안에서 함수 밖의 a 변수를 직접 사용하겠다는 뜻\n",
    "    a = a + 1"
   ]
  },
  {
   "cell_type": "code",
   "execution_count": 95,
   "id": "3c380693",
   "metadata": {},
   "outputs": [],
   "source": [
    "vartest()"
   ]
  },
  {
   "cell_type": "code",
   "execution_count": 96,
   "id": "547d36cf",
   "metadata": {},
   "outputs": [
    {
     "name": "stdout",
     "output_type": "stream",
     "text": [
      "2\n"
     ]
    }
   ],
   "source": [
    "print(a)"
   ]
  },
  {
   "cell_type": "markdown",
   "id": "862c49a0",
   "metadata": {},
   "source": [
    "### 함수 - 람다\n",
    "- 람다: 간단한 함수를 쉽게 선언하는 방법\n",
    "- 형식\n",
    " - lambda<매개변수><리턴값>"
   ]
  },
  {
   "cell_type": "markdown",
   "id": "30976768",
   "metadata": {},
   "source": [
    "### 함수 만들기(람다 사용X)"
   ]
  },
  {
   "cell_type": "code",
   "execution_count": 97,
   "id": "159eb0f4",
   "metadata": {},
   "outputs": [
    {
     "name": "stdout",
     "output_type": "stream",
     "text": [
      "7\n"
     ]
    }
   ],
   "source": [
    "def sum(a, b):\n",
    "    return a + b\n",
    "print(sum(3, 4))"
   ]
  },
  {
   "cell_type": "markdown",
   "id": "ada8e5a6",
   "metadata": {},
   "source": [
    "### 함수 만들기(람다 사용O)"
   ]
  },
  {
   "cell_type": "code",
   "execution_count": 98,
   "id": "5849ffc2",
   "metadata": {},
   "outputs": [],
   "source": [
    "sum = lambda a, b: a + b"
   ]
  },
  {
   "cell_type": "code",
   "execution_count": 99,
   "id": "02f061a4",
   "metadata": {},
   "outputs": [
    {
     "name": "stdout",
     "output_type": "stream",
     "text": [
      "7\n"
     ]
    }
   ],
   "source": [
    "print(sum(3,4))"
   ]
  },
  {
   "cell_type": "markdown",
   "id": "95b7a8de",
   "metadata": {},
   "source": [
    "### 람다를 이용하여 리스트 내에 함수 만들기 예제"
   ]
  },
  {
   "cell_type": "code",
   "execution_count": 100,
   "id": "0006cb13",
   "metadata": {},
   "outputs": [],
   "source": [
    "myList = [lambda a,b:a+b, lambda a,b:a*b]"
   ]
  },
  {
   "cell_type": "code",
   "execution_count": 101,
   "id": "1ff690ea",
   "metadata": {},
   "outputs": [
    {
     "name": "stdout",
     "output_type": "stream",
     "text": [
      "[<function <lambda> at 0x00000206394654C0>, <function <lambda> at 0x00000206394658B0>]\n"
     ]
    }
   ],
   "source": [
    "print(myList)"
   ]
  },
  {
   "cell_type": "code",
   "execution_count": 102,
   "id": "ed1c7015",
   "metadata": {},
   "outputs": [
    {
     "data": {
      "text/plain": [
       "7"
      ]
     },
     "execution_count": 102,
     "metadata": {},
     "output_type": "execute_result"
    }
   ],
   "source": [
    "myList[0](3,4)"
   ]
  },
  {
   "cell_type": "code",
   "execution_count": 103,
   "id": "5836808a",
   "metadata": {},
   "outputs": [
    {
     "data": {
      "text/plain": [
       "12"
      ]
     },
     "execution_count": 103,
     "metadata": {},
     "output_type": "execute_result"
    }
   ],
   "source": [
    "myList[1](3,4)"
   ]
  },
  {
   "cell_type": "code",
   "execution_count": 104,
   "id": "dc6deec8",
   "metadata": {},
   "outputs": [
    {
     "data": {
      "text/plain": [
       "<function __main__.<lambda>(a, b)>"
      ]
     },
     "execution_count": 104,
     "metadata": {},
     "output_type": "execute_result"
    }
   ],
   "source": [
    "myList[0]"
   ]
  },
  {
   "cell_type": "markdown",
   "id": "971c376a",
   "metadata": {},
   "source": [
    "- 람다를 이용하여 리스트 안에 함수를 만들 경우 함수명 필요X\n",
    "- 함수를 호출해서 사용하는 것이기 때문에 결과값이 리스트에 저장 X"
   ]
  },
  {
   "cell_type": "markdown",
   "id": "30ba94e4",
   "metadata": {},
   "source": [
    "# 파일 입출력"
   ]
  },
  {
   "cell_type": "markdown",
   "id": "20213d84",
   "metadata": {},
   "source": [
    "### 파일 생성하기 예제"
   ]
  },
  {
   "cell_type": "code",
   "execution_count": 106,
   "id": "5992323c",
   "metadata": {},
   "outputs": [],
   "source": [
    "f = open(\"새파일.txt\",\"w\")\n",
    "f.close()"
   ]
  },
  {
   "cell_type": "markdown",
   "id": "965a17aa",
   "metadata": {},
   "source": [
    "### 파일 생성 후 내용 넣기 예제"
   ]
  },
  {
   "cell_type": "code",
   "execution_count": 107,
   "id": "f221a2c6",
   "metadata": {},
   "outputs": [],
   "source": [
    "f = open(\"새파일.txt\",\"w\")\n",
    "for i in range(1,11):\n",
    "    data = \"%d번째 줄입니다.\\n\" % i\n",
    "    f.write(data)\n",
    "f.close()"
   ]
  },
  {
   "cell_type": "markdown",
   "id": "61902e89",
   "metadata": {},
   "source": [
    "### readline() 함수를 사용하여 파일 첫 번째 줄 읽기"
   ]
  },
  {
   "cell_type": "code",
   "execution_count": 111,
   "id": "ce76f97e",
   "metadata": {
    "scrolled": true
   },
   "outputs": [
    {
     "name": "stdout",
     "output_type": "stream",
     "text": [
      "1번째 줄입니다.\n",
      "\n"
     ]
    }
   ],
   "source": [
    "f = open(\"새파일.txt\",\"r\")\n",
    "line = f.readline()\n",
    "print(line)\n",
    "f.close()"
   ]
  },
  {
   "cell_type": "markdown",
   "id": "6d8fbdf6",
   "metadata": {},
   "source": [
    "### 폴더가 없을 경우 폴더를 생성하면서 파일을 만드는 방법"
   ]
  },
  {
   "cell_type": "code",
   "execution_count": 112,
   "id": "78d418e5",
   "metadata": {},
   "outputs": [],
   "source": [
    "import os\n",
    "\n",
    "out_dir = \"새폴더\"\n",
    "if out_dir not in os.listdir():\n",
    "    os.mkdir(out_dir)\n",
    "    \n",
    "f = open(\"새폴더/새파일.txt\",\"w\")\n",
    "for i in range(1,11):\n",
    "    data = \"%d번째 줄입니다.\\n\" % i\n",
    "    f.write(data)\n",
    "f.close()"
   ]
  },
  {
   "cell_type": "markdown",
   "id": "0ba2bdb3",
   "metadata": {},
   "source": [
    "### 파일의 모든 내용 읽기 예제"
   ]
  },
  {
   "cell_type": "code",
   "execution_count": 113,
   "id": "ac41a746",
   "metadata": {},
   "outputs": [
    {
     "name": "stdout",
     "output_type": "stream",
     "text": [
      "1번째 줄입니다.\n",
      "\n",
      "2번째 줄입니다.\n",
      "\n",
      "3번째 줄입니다.\n",
      "\n",
      "4번째 줄입니다.\n",
      "\n",
      "5번째 줄입니다.\n",
      "\n",
      "6번째 줄입니다.\n",
      "\n",
      "7번째 줄입니다.\n",
      "\n",
      "8번째 줄입니다.\n",
      "\n",
      "9번째 줄입니다.\n",
      "\n",
      "10번째 줄입니다.\n",
      "\n",
      "<class 'str'>\n"
     ]
    }
   ],
   "source": [
    "f= open(\"새파일.txt\", \"r\")\n",
    "while True:\n",
    "    line = f.readline()\n",
    "    if not line: break\n",
    "    print(line)\n",
    "print(type(line))\n",
    "f.close()"
   ]
  },
  {
   "cell_type": "code",
   "execution_count": 114,
   "id": "b2901cec",
   "metadata": {},
   "outputs": [
    {
     "name": "stdout",
     "output_type": "stream",
     "text": [
      "1번째 줄입니다.\n",
      "\n",
      "2번째 줄입니다.\n",
      "\n",
      "3번째 줄입니다.\n",
      "\n",
      "4번째 줄입니다.\n",
      "\n",
      "5번째 줄입니다.\n",
      "\n",
      "6번째 줄입니다.\n",
      "\n",
      "7번째 줄입니다.\n",
      "\n",
      "8번째 줄입니다.\n",
      "\n",
      "9번째 줄입니다.\n",
      "\n",
      "10번째 줄입니다.\n",
      "\n"
     ]
    }
   ],
   "source": [
    "f = open(\"새파일.txt\",\"r\")\n",
    "lines = f.readlines()\n",
    "for line in lines:\n",
    "    print(line)\n",
    "f.close()"
   ]
  },
  {
   "cell_type": "markdown",
   "id": "f69b39c4",
   "metadata": {},
   "source": [
    "- readline() 함수는 호출될 떄 파일에서 한 줄을 반환\n",
    "- readlines() 함수는 호출될 때 각 요소가 파일의 한 줄인 목록 형식으로 파일의 모든 줄을 반환"
   ]
  },
  {
   "cell_type": "code",
   "execution_count": 116,
   "id": "f7a36c35",
   "metadata": {},
   "outputs": [
    {
     "name": "stdout",
     "output_type": "stream",
     "text": [
      "['1번째 줄입니다.\\n', '2번째 줄입니다.\\n', '3번째 줄입니다.\\n', '4번째 줄입니다.\\n', '5번째 줄입니다.\\n', '6번째 줄입니다.\\n', '7번째 줄입니다.\\n', '8번째 줄입니다.\\n', '9번째 줄입니다.\\n', '10번째 줄입니다.\\n']\n",
      "<class 'list'>\n",
      "1번째 줄입니다.\n",
      "\n",
      "2번째 줄입니다.\n",
      "\n",
      "3번째 줄입니다.\n",
      "\n",
      "4번째 줄입니다.\n",
      "\n",
      "5번째 줄입니다.\n",
      "\n",
      "6번째 줄입니다.\n",
      "\n",
      "7번째 줄입니다.\n",
      "\n",
      "8번째 줄입니다.\n",
      "\n",
      "9번째 줄입니다.\n",
      "\n",
      "10번째 줄입니다.\n",
      "\n"
     ]
    }
   ],
   "source": [
    "f = open(\"새파일.txt\",\"r\")\n",
    "lines = f.readlines()\n",
    "print(lines)\n",
    "print(type(lines))\n",
    "for line in lines:\n",
    "    print(line)\n",
    "f.close()"
   ]
  },
  {
   "cell_type": "code",
   "execution_count": 118,
   "id": "ea0320a3",
   "metadata": {},
   "outputs": [
    {
     "name": "stdout",
     "output_type": "stream",
     "text": [
      "['1\\n', '2\\n', '3\\n', '4\\n', '5']\n"
     ]
    }
   ],
   "source": [
    "\"\"\"\n",
    "새파일2.txt\n",
    "1\n",
    "2\n",
    "3\n",
    "4\n",
    "5\n",
    "\"\"\"\n",
    "f = open(\"새파일2.txt\", \"r\")\n",
    "lines = f.readlines()\n",
    "print(lines)\n",
    "f.close()"
   ]
  },
  {
   "cell_type": "markdown",
   "id": "adfdce24",
   "metadata": {},
   "source": [
    "- 파이썬에서 데이터를 만들어서 파일에 쓸 경우 만들어진 최종 데이터를 파일에 씀\n",
    "- 다시 파일을 읽을 경우에 파이썬에 맞춰 파일의 데이터가 보여지게 됨"
   ]
  },
  {
   "cell_type": "markdown",
   "id": "ec4c7407",
   "metadata": {},
   "source": [
    "- readline() 함수는 파일의 한 줄 관련 함수\n",
    " - 한 줄 읽고 나서 포인터가 다음 줄로 이동\n",
    "- readlines() 함수는 파일 내용 전체를 가져와 리스트로 반환\n",
    " - 각 줄은 문자열 형태로 리스트의 요소로 저장\n",
    "- read() 함수는 파일 내용 전체를 하나의 문자열로 반환"
   ]
  },
  {
   "cell_type": "code",
   "execution_count": 119,
   "id": "661b1c65",
   "metadata": {},
   "outputs": [
    {
     "name": "stdout",
     "output_type": "stream",
     "text": [
      "1번째 줄입니다.\n",
      "2번째 줄입니다.\n",
      "3번째 줄입니다.\n",
      "4번째 줄입니다.\n",
      "5번째 줄입니다.\n",
      "6번째 줄입니다.\n",
      "7번째 줄입니다.\n",
      "8번째 줄입니다.\n",
      "9번째 줄입니다.\n",
      "10번째 줄입니다.\n",
      "\n",
      "<class 'str'>\n"
     ]
    }
   ],
   "source": [
    "f = open(\"새파일.txt\", \"r\")\n",
    "data = f.read()\n",
    "print(data)\n",
    "print(type(data))\n",
    "f.close()"
   ]
  },
  {
   "cell_type": "markdown",
   "id": "ef127558",
   "metadata": {},
   "source": [
    "### 파일 내용 추가하기 예제"
   ]
  },
  {
   "cell_type": "code",
   "execution_count": 121,
   "id": "ca4432bf",
   "metadata": {},
   "outputs": [],
   "source": [
    "f = open(\"새파일.txt\", \"a\")\n",
    "for i in range(11, 20):\n",
    "    data = \"%d번째 줄입니다.\\n\" % i\n",
    "    f.write(data)\n",
    "f.close()"
   ]
  },
  {
   "cell_type": "code",
   "execution_count": 122,
   "id": "08df805d",
   "metadata": {},
   "outputs": [
    {
     "name": "stdout",
     "output_type": "stream",
     "text": [
      "1번째 줄입니다.\n",
      "2번째 줄입니다.\n",
      "3번째 줄입니다.\n",
      "4번째 줄입니다.\n",
      "5번째 줄입니다.\n",
      "6번째 줄입니다.\n",
      "7번째 줄입니다.\n",
      "8번째 줄입니다.\n",
      "9번째 줄입니다.\n",
      "10번째 줄입니다.\n",
      "11번째 줄입니다.\n",
      "12번째 줄입니다.\n",
      "13번째 줄입니다.\n",
      "14번째 줄입니다.\n",
      "15번째 줄입니다.\n",
      "16번째 줄입니다.\n",
      "17번째 줄입니다.\n",
      "18번째 줄입니다.\n",
      "19번째 줄입니다.\n",
      "\n"
     ]
    }
   ],
   "source": [
    "f = open(\"새파일.txt\", \"r\")\n",
    "data = f.read()\n",
    "print(data)\n",
    "f.close()"
   ]
  },
  {
   "cell_type": "markdown",
   "id": "2def510c",
   "metadata": {},
   "source": [
    "### with문을 사용하여 파일 생성하기 예제"
   ]
  },
  {
   "cell_type": "code",
   "execution_count": 123,
   "id": "4a3c0442",
   "metadata": {},
   "outputs": [],
   "source": [
    "with open(\"foo.txt\",\"w\") as f:\n",
    "    f.write(\"Life is too short, you need python\")"
   ]
  },
  {
   "cell_type": "code",
   "execution_count": 124,
   "id": "49e00885",
   "metadata": {},
   "outputs": [
    {
     "name": "stdout",
     "output_type": "stream",
     "text": [
      "Life is too short, you need python\n"
     ]
    }
   ],
   "source": [
    "with open(\"foo.txt\", \"r\") as f:\n",
    "    data = f.read()\n",
    "    print(data)"
   ]
  },
  {
   "cell_type": "markdown",
   "id": "87ca82d3",
   "metadata": {},
   "source": [
    "### 파일 라인 지우기 예제"
   ]
  },
  {
   "cell_type": "code",
   "execution_count": 125,
   "id": "eba98990",
   "metadata": {},
   "outputs": [
    {
     "name": "stdout",
     "output_type": "stream",
     "text": [
      "1번째 줄입니다.\n",
      "2번째 줄입니다.\n",
      "3번째 줄입니다.\n",
      "4번째 줄입니다.\n",
      "5번째 줄입니다.\n",
      "6번째 줄입니다.\n",
      "7번째 줄입니다.\n",
      "8번째 줄입니다.\n",
      "9번째 줄입니다.\n",
      "10번째 줄입니다.\n",
      "11번째 줄입니다.\n",
      "12번째 줄입니다.\n",
      "13번째 줄입니다.\n",
      "14번째 줄입니다.\n",
      "15번째 줄입니다.\n",
      "16번째 줄입니다.\n",
      "17번째 줄입니다.\n",
      "18번째 줄입니다.\n",
      "19번째 줄입니다.\n",
      "\n"
     ]
    }
   ],
   "source": [
    "with open(\"새파일.txt\",\"r\") as f:\n",
    "    data = f.read()\n",
    "    print(data)"
   ]
  },
  {
   "cell_type": "code",
   "execution_count": 127,
   "id": "f889c69b",
   "metadata": {},
   "outputs": [
    {
     "name": "stdout",
     "output_type": "stream",
     "text": [
      "['1번째 줄입니다.\\n', '2번째 줄입니다.\\n', '3번째 줄입니다.\\n', '4번째 줄입니다.\\n', '5번째 줄입니다.\\n', '6번째 줄입니다.\\n', '7번째 줄입니다.\\n', '8번째 줄입니다.\\n', '9번째 줄입니다.\\n', '10번째 줄입니다.\\n', '11번째 줄입니다.\\n', '12번째 줄입니다.\\n', '13번째 줄입니다.\\n', '14번째 줄입니다.\\n', '15번째 줄입니다.\\n', '16번째 줄입니다.\\n', '17번째 줄입니다.\\n', '18번째 줄입니다.\\n', '19번째 줄입니다.\\n']\n"
     ]
    }
   ],
   "source": [
    "f = open(\"새파일.txt\",\"r\")\n",
    "\n",
    "lines = f.readlines() # lines 변수에 새파일 데이터 내용을 넣음\n",
    "f.close()\n",
    "\n",
    "print(lines)"
   ]
  },
  {
   "cell_type": "code",
   "execution_count": 128,
   "id": "a1740d2e",
   "metadata": {},
   "outputs": [
    {
     "name": "stdout",
     "output_type": "stream",
     "text": [
      "['1번째 줄입니다.\\n', '2번째 줄입니다.\\n', '3번째 줄입니다.\\n', '4번째 줄입니다.\\n', '5번째 줄입니다.\\n', '6번째 줄입니다.\\n', '7번째 줄입니다.\\n', '8번째 줄입니다.\\n', '9번째 줄입니다.\\n', '10번째 줄입니다.\\n']\n"
     ]
    }
   ],
   "source": [
    "del lines[10:] # lines 변수에 들어간 데이터를 수정\n",
    "\n",
    "print(lines)  "
   ]
  },
  {
   "cell_type": "code",
   "execution_count": 129,
   "id": "e4c24441",
   "metadata": {},
   "outputs": [],
   "source": [
    "new_file = open(\"새파일_변경.txt\", \"w\") # 새파일_변경을 만들어 변경된 데이터를 넣어줌으로 수정\n",
    "\n",
    "for line in lines:\n",
    "    new_file.write(line)\n",
    "\n",
    "new_file.close()"
   ]
  },
  {
   "cell_type": "code",
   "execution_count": 130,
   "id": "47b5d0b1",
   "metadata": {},
   "outputs": [
    {
     "name": "stdout",
     "output_type": "stream",
     "text": [
      "1번째 줄입니다.\n",
      "2번째 줄입니다.\n",
      "3번째 줄입니다.\n",
      "4번째 줄입니다.\n",
      "5번째 줄입니다.\n",
      "6번째 줄입니다.\n",
      "7번째 줄입니다.\n",
      "8번째 줄입니다.\n",
      "9번째 줄입니다.\n",
      "10번째 줄입니다.\n",
      "\n"
     ]
    }
   ],
   "source": [
    "with open(\"새파일_변경.txt\", \"r\") as f:\n",
    "    data = f.read()\n",
    "    print(data)"
   ]
  },
  {
   "cell_type": "code",
   "execution_count": 131,
   "id": "c4f3c88d",
   "metadata": {},
   "outputs": [
    {
     "name": "stdout",
     "output_type": "stream",
     "text": [
      "1번째 줄입니다.\n",
      "2번째 줄입니다.\n",
      "3번째 줄입니다.\n",
      "4번째 줄입니다.\n",
      "5번째 줄입니다.\n",
      "6번째 줄입니다.\n",
      "7번째 줄입니다.\n",
      "8번째 줄입니다.\n",
      "9번째 줄입니다.\n",
      "10번째 줄입니다.\n",
      "11번째 줄입니다.\n",
      "12번째 줄입니다.\n",
      "13번째 줄입니다.\n",
      "14번째 줄입니다.\n",
      "15번째 줄입니다.\n",
      "16번째 줄입니다.\n",
      "17번째 줄입니다.\n",
      "18번째 줄입니다.\n",
      "19번째 줄입니다.\n",
      "\n"
     ]
    }
   ],
   "source": [
    "with open(\"새파일.txt\", \"r\") as f:\n",
    "    data = f.read()\n",
    "    print(data) # 새파일 텍스트 파일에서 데이터가 실제로 변경되지는 않았음"
   ]
  }
 ],
 "metadata": {
  "kernelspec": {
   "display_name": "Python 3 (ipykernel)",
   "language": "python",
   "name": "python3"
  },
  "language_info": {
   "codemirror_mode": {
    "name": "ipython",
    "version": 3
   },
   "file_extension": ".py",
   "mimetype": "text/x-python",
   "name": "python",
   "nbconvert_exporter": "python",
   "pygments_lexer": "ipython3",
   "version": "3.9.7"
  }
 },
 "nbformat": 4,
 "nbformat_minor": 5
}
