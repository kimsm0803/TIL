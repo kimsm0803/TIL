{
 "cells": [
  {
   "cell_type": "markdown",
   "id": "e8ec0631",
   "metadata": {},
   "source": [
    "# NUMPY\n",
    "- Numerical Python\n",
    "- 산술 계산을 위한 패키지\n",
    " - 다차원 배열인 ndarray는 빠른 배열 계산을 제공\n",
    " - 반복문을 작성할 필요 없이 전체 데이터 배열을 빠르게 계산할 수 있는 표준 수학 함수\n",
    " - 선형대수, 난수 생성기, 푸리에 변환 가능\n",
    "- 일반적인 산술 데이터 처리를 위한 기본 라이브러리를 제공\n",
    " - 연산 처리 후 통계나 분석 데이터를 처리하기 위해선 Pandas를 사용\n",
    "- 파이썬 산술 계산 영역에서 중요한 위치를 차지하는 이유 중 하나는 대용량 데이터 배열을 효율적으로 다룰 수 있도록 설계되어 있기 때문"
   ]
  },
  {
   "cell_type": "markdown",
   "id": "76d0ef0e",
   "metadata": {},
   "source": [
    "### Numpy 사용 예제"
   ]
  },
  {
   "cell_type": "code",
   "execution_count": 2,
   "id": "789d4c8b",
   "metadata": {},
   "outputs": [],
   "source": [
    "import numpy as np\n",
    "\n",
    "my_arr = np.arange(100)\n",
    "my_list = list(range(100))"
   ]
  },
  {
   "cell_type": "markdown",
   "id": "ff70dbc5",
   "metadata": {},
   "source": [
    "- 1차원 배열 생성"
   ]
  },
  {
   "cell_type": "code",
   "execution_count": 4,
   "id": "69f861b6",
   "metadata": {},
   "outputs": [
    {
     "name": "stdout",
     "output_type": "stream",
     "text": [
      "<class 'numpy.ndarray'>\n",
      "<class 'list'>\n"
     ]
    }
   ],
   "source": [
    "print(type(my_arr))\n",
    "print(type(my_list))"
   ]
  },
  {
   "cell_type": "code",
   "execution_count": 5,
   "id": "5de2c403",
   "metadata": {},
   "outputs": [
    {
     "name": "stdout",
     "output_type": "stream",
     "text": [
      "[ 0  1  2  3  4  5  6  7  8  9 10 11 12 13 14 15 16 17 18 19 20 21 22 23\n",
      " 24 25 26 27 28 29 30 31 32 33 34 35 36 37 38 39 40 41 42 43 44 45 46 47\n",
      " 48 49 50 51 52 53 54 55 56 57 58 59 60 61 62 63 64 65 66 67 68 69 70 71\n",
      " 72 73 74 75 76 77 78 79 80 81 82 83 84 85 86 87 88 89 90 91 92 93 94 95\n",
      " 96 97 98 99]\n"
     ]
    }
   ],
   "source": [
    "print(my_arr)"
   ]
  },
  {
   "cell_type": "code",
   "execution_count": 6,
   "id": "073db689",
   "metadata": {},
   "outputs": [
    {
     "name": "stdout",
     "output_type": "stream",
     "text": [
      "[0, 1, 2, 3, 4, 5, 6, 7, 8, 9, 10, 11, 12, 13, 14, 15, 16, 17, 18, 19, 20, 21, 22, 23, 24, 25, 26, 27, 28, 29, 30, 31, 32, 33, 34, 35, 36, 37, 38, 39, 40, 41, 42, 43, 44, 45, 46, 47, 48, 49, 50, 51, 52, 53, 54, 55, 56, 57, 58, 59, 60, 61, 62, 63, 64, 65, 66, 67, 68, 69, 70, 71, 72, 73, 74, 75, 76, 77, 78, 79, 80, 81, 82, 83, 84, 85, 86, 87, 88, 89, 90, 91, 92, 93, 94, 95, 96, 97, 98, 99]\n"
     ]
    }
   ],
   "source": [
    "print(my_list)"
   ]
  },
  {
   "cell_type": "markdown",
   "id": "069697a0",
   "metadata": {},
   "source": [
    "- 배열 연산이 for문의 연산 속도보다 더 빠름"
   ]
  },
  {
   "cell_type": "markdown",
   "id": "b73d60da",
   "metadata": {},
   "source": [
    "### 다차원 배열 객체\n",
    "- Numpy는 ndarray라고 하는 N차원 배열  객체를 사용\n",
    " - 1차원: Vectors\n",
    " - 2차원: Martices\n",
    " - 3차원: Tensors"
   ]
  },
  {
   "cell_type": "markdown",
   "id": "0241da89",
   "metadata": {},
   "source": [
    "### 2 X 3 배열을 랜덤 생성 예제(가우시안 분포 사용)"
   ]
  },
  {
   "cell_type": "code",
   "execution_count": 12,
   "id": "7504a2bf",
   "metadata": {},
   "outputs": [
    {
     "name": "stdout",
     "output_type": "stream",
     "text": [
      "[[ 1.49533918  2.24863289 -1.56493354]\n",
      " [-2.12707124  0.26572421 -1.51314877]]\n"
     ]
    }
   ],
   "source": [
    "data = np.random.randn(2,3)\n",
    "print(data)"
   ]
  },
  {
   "cell_type": "markdown",
   "id": "8df5e93b",
   "metadata": {},
   "source": [
    "### ndarray 생성하기 예제(list ->array)"
   ]
  },
  {
   "cell_type": "code",
   "execution_count": 10,
   "id": "824c4969",
   "metadata": {},
   "outputs": [],
   "source": [
    "data1 = [5, 7, 8, 1, 4]"
   ]
  },
  {
   "cell_type": "code",
   "execution_count": 11,
   "id": "d0ded8e5",
   "metadata": {},
   "outputs": [
    {
     "data": {
      "text/plain": [
       "list"
      ]
     },
     "execution_count": 11,
     "metadata": {},
     "output_type": "execute_result"
    }
   ],
   "source": [
    "type(data1)"
   ]
  },
  {
   "cell_type": "code",
   "execution_count": 13,
   "id": "f5e9c747",
   "metadata": {},
   "outputs": [],
   "source": [
    "arr1 = np.array(data1)"
   ]
  },
  {
   "cell_type": "code",
   "execution_count": 14,
   "id": "1c0cc95f",
   "metadata": {},
   "outputs": [
    {
     "data": {
      "text/plain": [
       "numpy.ndarray"
      ]
     },
     "execution_count": 14,
     "metadata": {},
     "output_type": "execute_result"
    }
   ],
   "source": [
    "type(arr1)"
   ]
  },
  {
   "cell_type": "code",
   "execution_count": 15,
   "id": "f922fddc",
   "metadata": {},
   "outputs": [
    {
     "name": "stdout",
     "output_type": "stream",
     "text": [
      "[5 7 8 1 4]\n"
     ]
    }
   ],
   "source": [
    "print(arr1)"
   ]
  },
  {
   "cell_type": "markdown",
   "id": "8811ff75",
   "metadata": {},
   "source": [
    "### 2차원 배열 생성 예제"
   ]
  },
  {
   "cell_type": "code",
   "execution_count": 17,
   "id": "4be70e7e",
   "metadata": {},
   "outputs": [],
   "source": [
    "arr1 = np.array([[1,2,3],\n",
    "                [4,5,6]])"
   ]
  },
  {
   "cell_type": "code",
   "execution_count": 18,
   "id": "1bd87c48",
   "metadata": {},
   "outputs": [
    {
     "name": "stdout",
     "output_type": "stream",
     "text": [
      "[[1 2 3]\n",
      " [4 5 6]]\n"
     ]
    }
   ],
   "source": [
    "print(arr1)"
   ]
  },
  {
   "cell_type": "markdown",
   "id": "b6e69e2b",
   "metadata": {},
   "source": [
    "### numpy 배열의 산술 연산\n",
    "- numpy 배열은 반복문을 작성하지 않고 데이터를 일괄 처리할 수 있음\n",
    " - \"벡터화\"라고 부름"
   ]
  },
  {
   "cell_type": "code",
   "execution_count": 19,
   "id": "599f0585",
   "metadata": {},
   "outputs": [],
   "source": [
    "arr1 = np.array([[1,2,3],\n",
    "                [4,5,6]])"
   ]
  },
  {
   "cell_type": "code",
   "execution_count": 20,
   "id": "5b2e43be",
   "metadata": {},
   "outputs": [
    {
     "name": "stdout",
     "output_type": "stream",
     "text": [
      "[[ 1  4  9]\n",
      " [16 25 36]]\n"
     ]
    }
   ],
   "source": [
    "# 요소곱\n",
    "print(arr1 * arr1)"
   ]
  },
  {
   "cell_type": "code",
   "execution_count": 21,
   "id": "121c8183",
   "metadata": {},
   "outputs": [
    {
     "name": "stdout",
     "output_type": "stream",
     "text": [
      "[[ 2  4  6]\n",
      " [ 8 10 12]]\n"
     ]
    }
   ],
   "source": [
    "# 요소합\n",
    "print(arr1 + arr1)"
   ]
  },
  {
   "cell_type": "code",
   "execution_count": 22,
   "id": "0dd1ac77",
   "metadata": {},
   "outputs": [
    {
     "name": "stdout",
     "output_type": "stream",
     "text": [
      "[[1.         0.5        0.33333333]\n",
      " [0.25       0.2        0.16666667]]\n"
     ]
    }
   ],
   "source": [
    "# 나눗셈\n",
    "print(1 / arr1)"
   ]
  },
  {
   "cell_type": "code",
   "execution_count": 23,
   "id": "331d6345",
   "metadata": {},
   "outputs": [
    {
     "name": "stdout",
     "output_type": "stream",
     "text": [
      "[[ True  True  True]\n",
      " [ True  True  True]]\n"
     ]
    }
   ],
   "source": [
    "print(arr1 >= arr1)"
   ]
  },
  {
   "cell_type": "code",
   "execution_count": 24,
   "id": "57e46b3f",
   "metadata": {},
   "outputs": [
    {
     "name": "stdout",
     "output_type": "stream",
     "text": [
      "[[14 32]\n",
      " [32 77]]\n"
     ]
    }
   ],
   "source": [
    "# 행렬곱\n",
    "print(np.dot(arr1, np.transpose(arr1)))"
   ]
  },
  {
   "cell_type": "markdown",
   "id": "40526f60",
   "metadata": {},
   "source": [
    "### 배열 인덱싱과 슬라이싱\n",
    "- numpy 배열은 순차적(sequential) 데이터이기 때문에 인덱싱과 슬라이싱 가능"
   ]
  },
  {
   "cell_type": "code",
   "execution_count": 25,
   "id": "a0f064bf",
   "metadata": {},
   "outputs": [],
   "source": [
    "arr1 = np.arange(10)"
   ]
  },
  {
   "cell_type": "code",
   "execution_count": 26,
   "id": "3fe109f0",
   "metadata": {},
   "outputs": [
    {
     "name": "stdout",
     "output_type": "stream",
     "text": [
      "[0 1 2 3 4 5 6 7 8 9]\n"
     ]
    }
   ],
   "source": [
    "print(arr1)"
   ]
  },
  {
   "cell_type": "code",
   "execution_count": 27,
   "id": "bf02452c",
   "metadata": {},
   "outputs": [
    {
     "name": "stdout",
     "output_type": "stream",
     "text": [
      "5\n"
     ]
    }
   ],
   "source": [
    "print(arr1[5])"
   ]
  },
  {
   "cell_type": "code",
   "execution_count": 28,
   "id": "98bb2fdb",
   "metadata": {},
   "outputs": [
    {
     "name": "stdout",
     "output_type": "stream",
     "text": [
      "[5 6 7]\n"
     ]
    }
   ],
   "source": [
    "print(arr1[5:8])"
   ]
  },
  {
   "cell_type": "markdown",
   "id": "120029ea",
   "metadata": {},
   "source": [
    "### 다차원 배열 객체 연산\n",
    "- 브로드캐스팅되어 연산됨"
   ]
  },
  {
   "cell_type": "code",
   "execution_count": 30,
   "id": "aa28c7e4",
   "metadata": {},
   "outputs": [
    {
     "name": "stdout",
     "output_type": "stream",
     "text": [
      "[5 6 7]\n"
     ]
    }
   ],
   "source": [
    "# 1 X 3 배열 + 정수\n",
    "print(np.arange(3) + 5)"
   ]
  },
  {
   "cell_type": "code",
   "execution_count": 33,
   "id": "da2be950",
   "metadata": {},
   "outputs": [
    {
     "name": "stdout",
     "output_type": "stream",
     "text": [
      "[[0 1 2]\n",
      " [1 2 3]\n",
      " [2 3 4]]\n"
     ]
    }
   ],
   "source": [
    "# 3 X 1 배열 + 1 X 3 배열\n",
    "print(np.arange(3).reshape(3,1) + np.arange(3))"
   ]
  },
  {
   "cell_type": "markdown",
   "id": "1d7eee97",
   "metadata": {},
   "source": [
    "### 배열 행과 열 바꾸기\n",
    "- np.transpose() or np.T 사용"
   ]
  },
  {
   "cell_type": "code",
   "execution_count": 34,
   "id": "eea65e57",
   "metadata": {},
   "outputs": [],
   "source": [
    "arr = np.arange(15).reshape(3, 5)"
   ]
  },
  {
   "cell_type": "code",
   "execution_count": 35,
   "id": "0e5ede75",
   "metadata": {},
   "outputs": [
    {
     "name": "stdout",
     "output_type": "stream",
     "text": [
      "[[ 0  1  2  3  4]\n",
      " [ 5  6  7  8  9]\n",
      " [10 11 12 13 14]]\n"
     ]
    }
   ],
   "source": [
    "print(arr)"
   ]
  },
  {
   "cell_type": "code",
   "execution_count": 36,
   "id": "3a05ef47",
   "metadata": {},
   "outputs": [
    {
     "name": "stdout",
     "output_type": "stream",
     "text": [
      "[[ 0  5 10]\n",
      " [ 1  6 11]\n",
      " [ 2  7 12]\n",
      " [ 3  8 13]\n",
      " [ 4  9 14]]\n"
     ]
    }
   ],
   "source": [
    "print(arr.transpose())"
   ]
  },
  {
   "cell_type": "code",
   "execution_count": 37,
   "id": "9cda5be2",
   "metadata": {},
   "outputs": [
    {
     "name": "stdout",
     "output_type": "stream",
     "text": [
      "[[ 0  5 10]\n",
      " [ 1  6 11]\n",
      " [ 2  7 12]\n",
      " [ 3  8 13]\n",
      " [ 4  9 14]]\n"
     ]
    }
   ],
   "source": [
    "print(arr.T)"
   ]
  },
  {
   "cell_type": "markdown",
   "id": "f674c202",
   "metadata": {},
   "source": [
    "np.transpose(np.array([[0,1,2]]))\n",
    "- 2차원 배열이기 때문에 전치와 축 바꾸기 가능\n",
    "\n",
    "np.transpose(np.arange(3)), type(np.arange(3)))\n",
    "- 1차원 배열은 전치와 축 바꾸기 불가능"
   ]
  },
  {
   "cell_type": "code",
   "execution_count": 43,
   "id": "22998ac0",
   "metadata": {},
   "outputs": [
    {
     "data": {
      "text/plain": [
       "array([[0],\n",
       "       [1],\n",
       "       [2]])"
      ]
     },
     "execution_count": 43,
     "metadata": {},
     "output_type": "execute_result"
    }
   ],
   "source": [
    "np.transpose(np.array([[0,1,2]]))"
   ]
  },
  {
   "cell_type": "code",
   "execution_count": 39,
   "id": "8fb6981d",
   "metadata": {},
   "outputs": [
    {
     "ename": "SyntaxError",
     "evalue": "unmatched ')' (Temp/ipykernel_3328/2423615986.py, line 1)",
     "output_type": "error",
     "traceback": [
      "\u001b[1;36m  File \u001b[1;32m\"C:\\Users\\vjkim\\AppData\\Local\\Temp/ipykernel_3328/2423615986.py\"\u001b[1;36m, line \u001b[1;32m1\u001b[0m\n\u001b[1;33m    np.transpose(np.arange(3)), type(np.arange(3)))\u001b[0m\n\u001b[1;37m                                                  ^\u001b[0m\n\u001b[1;31mSyntaxError\u001b[0m\u001b[1;31m:\u001b[0m unmatched ')'\n"
     ]
    }
   ],
   "source": [
    "np.transpose(np.arange(3)), type(np.arange(3)))"
   ]
  },
  {
   "cell_type": "markdown",
   "id": "38d8ed8b",
   "metadata": {},
   "source": [
    "### 3차원 배열 만들기"
   ]
  },
  {
   "cell_type": "code",
   "execution_count": 40,
   "id": "f743822a",
   "metadata": {},
   "outputs": [],
   "source": [
    "arr = np.array([[[1, 2, 3, 4],\n",
    "                 [5, 6, 7, 8],\n",
    "                 [9, 10, 11, 12]],\n",
    "                [[11, 12, 13, 14],\n",
    "                 [15, 16, 17, 18],\n",
    "                 [19, 20, 21, 22]]])"
   ]
  },
  {
   "cell_type": "code",
   "execution_count": 41,
   "id": "d0fd9243",
   "metadata": {},
   "outputs": [
    {
     "name": "stdout",
     "output_type": "stream",
     "text": [
      "[[[ 1  2  3  4]\n",
      "  [ 5  6  7  8]\n",
      "  [ 9 10 11 12]]\n",
      "\n",
      " [[11 12 13 14]\n",
      "  [15 16 17 18]\n",
      "  [19 20 21 22]]]\n"
     ]
    }
   ],
   "source": [
    "print(arr)"
   ]
  },
  {
   "cell_type": "code",
   "execution_count": null,
   "id": "705a805a",
   "metadata": {},
   "outputs": [],
   "source": []
  }
 ],
 "metadata": {
  "kernelspec": {
   "display_name": "Python 3 (ipykernel)",
   "language": "python",
   "name": "python3"
  },
  "language_info": {
   "codemirror_mode": {
    "name": "ipython",
    "version": 3
   },
   "file_extension": ".py",
   "mimetype": "text/x-python",
   "name": "python",
   "nbconvert_exporter": "python",
   "pygments_lexer": "ipython3",
   "version": "3.9.7"
  }
 },
 "nbformat": 4,
 "nbformat_minor": 5
}
