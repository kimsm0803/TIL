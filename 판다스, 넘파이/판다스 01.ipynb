{
 "cells": [
  {
   "cell_type": "markdown",
   "id": "4557ca9e",
   "metadata": {},
   "source": [
    "# Pandas"
   ]
  },
  {
   "cell_type": "markdown",
   "id": "67f9a4cc",
   "metadata": {},
   "source": [
    "### 판다스를 배워야 하는 이유\n",
    "- 현대에 들어서 방대한 데이터들이 빠른 속도로 쌓여가고 있음\n",
    " - 해당 데이터를 저장, 분석할 수 있는 컴퓨터 과학(data science)이라는 새로운 영역이 출현\n",
    " - 데이터 과학: 데이터를 연구하는 분야, 데이터 과학자가 하는 가장 중요한 일은 데이터를 수집하고 분석이 가능한 형태로 저장하는 것\n",
    "- 판다스 라이브러리는 데이터를 수집하고 정리하는 데 최적화된 도구\n",
    "- 판다스를 학습할 시 데이터 과학의 80~90% 업무 처리 가능"
   ]
  },
  {
   "cell_type": "markdown",
   "id": "aba4752b",
   "metadata": {},
   "source": [
    "### 판다스 설치\n",
    "`!pip install pandas` <br>\n",
    "`!pip install numpy`"
   ]
  },
  {
   "cell_type": "markdown",
   "id": "8647b2fb",
   "metadata": {},
   "source": [
    "### Numpy\n",
    "- Numerical Python의 약자\n",
    "- 대표적인 파이썬 기반 수치 해석 라이브러리\n",
    "- 선형대수 연산에 필요한 다차원 배열과 배열 연산을 수행하는 다양한 함수 제공"
   ]
  },
  {
   "cell_type": "markdown",
   "id": "facf6c9a",
   "metadata": {},
   "source": [
    "### 판다스 자료구조\n",
    "- 서로 다른 형식을 갖는 여러 종류의 데이터를 컴퓨터가 이해할 수 있도록 동일한 형식을 갖는 구조로 통합할 필요가 있음\n",
    "- 판다스는 시리즈(Series)와 데이터프레임(DataFrame)이라는 데이터 형식을 제공\n",
    "- Numpy: 배열 및 연산\n",
    "- Pandas: 자료구조 및 시각화"
   ]
  },
  {
   "cell_type": "markdown",
   "id": "c10d88d5",
   "metadata": {},
   "source": [
    "### 시리즈\n",
    "- 데이터가 순차적으로 나열된 1차원 배열(열벡터)\n",
    "- 인덱스(index)는 데이터 값(value)와 일대일 대응\n",
    "- 시리즈의 인덱스는 데이터 값의 위치를 나타내는 이름표(주소) 역할\n",
    "- 'index2'의 주소를 알고 있다면 'Data2'라는 원소 데이터 값에 접근 가능"
   ]
  },
  {
   "cell_type": "markdown",
   "id": "dda4daa8",
   "metadata": {},
   "source": [
    "### 시리즈 만들기\n",
    "- 딕셔너리와 시리즈의 구조가 비슷하기 때문에 딕셔너리를 시리즈로 변환하는 방법을 많이 사용\n",
    "- 판다스 내장 함수인 Series() 사용\n",
    " - 딕셔너리를 함수의 인자로 전달<br>\n",
    " \n",
    "`딕셔너리 -> 시리즈 변환 : pandas.Series(딕셔너리)`"
   ]
  },
  {
   "cell_type": "markdown",
   "id": "7845acc1",
   "metadata": {},
   "source": [
    "### 딕셔너리를 시리즈로 변환하는 예제"
   ]
  },
  {
   "cell_type": "code",
   "execution_count": 2,
   "id": "1367fc69",
   "metadata": {},
   "outputs": [],
   "source": [
    "# 판다스 import\n",
    "import pandas as pd\n",
    "\n",
    "# key : value 를 쌍으로 갖는 딕셔너리를 생성, 변수 dict_data에 저장\n",
    "dict_data = {'a' : 1, 'b' : 2, 'c' : 3}\n",
    "\n",
    "# 판다스 Series() 함수로 딕셔너리를 시리즈로 변환, 변수 sr에 저장\n",
    "sr = pd.Series(dict_data)"
   ]
  },
  {
   "cell_type": "code",
   "execution_count": 3,
   "id": "8c0011d3",
   "metadata": {},
   "outputs": [
    {
     "name": "stdout",
     "output_type": "stream",
     "text": [
      "<class 'pandas.core.series.Series'>\n"
     ]
    }
   ],
   "source": [
    "# sr의 자료형 출력\n",
    "print(type(sr))"
   ]
  },
  {
   "cell_type": "code",
   "execution_count": 5,
   "id": "b1629009",
   "metadata": {},
   "outputs": [
    {
     "name": "stdout",
     "output_type": "stream",
     "text": [
      "a    1\n",
      "b    2\n",
      "c    3\n",
      "dtype: int64\n"
     ]
    }
   ],
   "source": [
    "# 변수 sr에 저장되어 있는 시리즈 객체 출력\n",
    "print(sr)"
   ]
  },
  {
   "cell_type": "markdown",
   "id": "c9b1057c",
   "metadata": {},
   "source": [
    "- 시리즈 객체 출력 시 인덱스 'a', 'b', 'c'는 왼쪽에 표시\n",
    "- 인덱스와 짝을 이루는 데이터 값 1, 2, 3은 오른쪽에 표시\n",
    "- 시리즈를 구성하는 데이터 값의 자료형은 정수형(int64)"
   ]
  },
  {
   "cell_type": "markdown",
   "id": "c6ab9cdb",
   "metadata": {},
   "source": [
    "### 참고\n",
    "- \"as pd\"는 판다스를 \"pd\"라는 약칭으로 부르겠다는 뜻\n",
    "- Numpy는 \"np\"라는 약칭을 자주 사용"
   ]
  },
  {
   "cell_type": "markdown",
   "id": "c58ed1f7",
   "metadata": {},
   "source": [
    "### 인덱스 구조\n",
    "- 인덱스는 자기와 짝을 이루는 데이터 값의 순서와 주소를 저장\n",
    "- 인덱스를 활용하여 데이터 값의 탐색, 정렬, 선택, 결합 등 데이터의 조작을 쉽게 할 수 있음"
   ]
  },
  {
   "cell_type": "markdown",
   "id": "f288b128",
   "metadata": {},
   "source": [
    "### 판다스 Series() 함수를 사용하여 파이썬 리스트를 시리즈로 변환하는 예제"
   ]
  },
  {
   "cell_type": "code",
   "execution_count": 6,
   "id": "9dd0da84",
   "metadata": {},
   "outputs": [],
   "source": [
    "import pandas as pd\n",
    "\n",
    "# 리스트 생성, 변수 list_data에 저장\n",
    "list_data = ['2022-02-21', 3.14, '김성민', 100, True]\n",
    "sr = pd.Series(list_data)"
   ]
  },
  {
   "cell_type": "code",
   "execution_count": 7,
   "id": "bc5a16e8",
   "metadata": {},
   "outputs": [
    {
     "name": "stdout",
     "output_type": "stream",
     "text": [
      "0    2022-02-21\n",
      "1          3.14\n",
      "2           김성민\n",
      "3           100\n",
      "4          True\n",
      "dtype: object\n"
     ]
    }
   ],
   "source": [
    "print(sr)"
   ]
  },
  {
   "cell_type": "markdown",
   "id": "49332613",
   "metadata": {},
   "source": [
    "- 인덱스를 별도로 정의하지 않았기 때문에 디폴트로 정수형 위치 인덱스(0,1,2,3)가 자동 적용\n",
    "- 시리즈를 구성하는 원소 데이터 값의 자료형은 문자열(object)\n",
    " - 숫자와 문자열이 데이터에 혼합되어 있을 경우 자료형이 문자열로 표기됨\n",
    "- 리스트와 판다스의 시리즈는 둘 다 동일하게 인덱스를 소유\n",
    " - 리스트는 정수형 위치 인덱스만 존재\n",
    " - ex) list_dat[0]\n",
    "- 시리즈는 정수형 위치 인덱스와 인덱스 이름 둘 다 존재\n",
    " - ex) sr[0]\n",
    " - ex) sr[\"날짜:]"
   ]
  },
  {
   "cell_type": "markdown",
   "id": "5666abe4",
   "metadata": {},
   "source": [
    "### 시리즈에서 인덱스는 크게 두 가지 종류 존재\n",
    "- 정수형 위치 인덱스 and 인덱스 이름\n",
    "- 시리즈의 index 속성을 이용하여 인덱스 배열 따로 선택 가능\n",
    "- 시리즈의 values 속성을 이용하여 데이터 값 따로 선택 가능"
   ]
  },
  {
   "cell_type": "markdown",
   "id": "84f90716",
   "metadata": {},
   "source": [
    "### 시리즈의 인덱스와 데이터를 따로 확인하는 예제"
   ]
  },
  {
   "cell_type": "code",
   "execution_count": 8,
   "id": "f69050d9",
   "metadata": {},
   "outputs": [],
   "source": [
    "import pandas as pd\n",
    "\n",
    "# 리스트 생성, 변수 list_data에 저장\n",
    "list_data = ['2022-02-21', 3.14, '김성민', 100, True]\n",
    "sr = pd.Series(list_data)"
   ]
  },
  {
   "cell_type": "code",
   "execution_count": 10,
   "id": "ebac4745",
   "metadata": {},
   "outputs": [
    {
     "name": "stdout",
     "output_type": "stream",
     "text": [
      "RangeIndex(start=0, stop=5, step=1)\n",
      "['2022-02-21' 3.14 '김성민' 100 True]\n"
     ]
    }
   ],
   "source": [
    "# 인덱스 배열은 변수 idx에 저장, 데이터 값 배열은 변수 val에 저장\n",
    "idx = sr.index\n",
    "val = sr.values\n",
    "print(idx)\n",
    "print(val)"
   ]
  },
  {
   "cell_type": "code",
   "execution_count": 11,
   "id": "65f9d95b",
   "metadata": {},
   "outputs": [
    {
     "name": "stdout",
     "output_type": "stream",
     "text": [
      "<class 'numpy.ndarray'>\n"
     ]
    }
   ],
   "source": [
    "print(type(val))"
   ]
  },
  {
   "cell_type": "markdown",
   "id": "26b683c8",
   "metadata": {},
   "source": [
    "- 인덱스는 0~4 범위의 정수를 갖는 Rangeindex 객체로 출력\n",
    "- 데이터 값은 1차원 배열 형태(array)로 출력"
   ]
  },
  {
   "cell_type": "markdown",
   "id": "a361838d",
   "metadata": {},
   "source": [
    "### 판다스 series() 함수를 사용하여 파이썬 튜플을 시리즈로 변환하는 예제(인덱스 정의)"
   ]
  },
  {
   "cell_type": "code",
   "execution_count": 12,
   "id": "a3cbb95a",
   "metadata": {},
   "outputs": [],
   "source": [
    "import pandas as pd\n",
    "\n",
    "# 튜플 생성, 변수 tup_data에 저장\n",
    "tup_data = ('규석', '2022-20-21', '남', True)\n",
    "sr = pd.Series(tup_data, index=['이름', '오늘날짜', '성별', '학생여부'])"
   ]
  },
  {
   "cell_type": "code",
   "execution_count": 13,
   "id": "52045962",
   "metadata": {},
   "outputs": [
    {
     "name": "stdout",
     "output_type": "stream",
     "text": [
      "이름              규석\n",
      "오늘날짜    2022-20-21\n",
      "성별               남\n",
      "학생여부          True\n",
      "dtype: object\n"
     ]
    }
   ],
   "source": [
    "print(sr)"
   ]
  },
  {
   "cell_type": "markdown",
   "id": "368ede63",
   "metadata": {},
   "source": [
    "### 시리즈 원소 선택 예제1"
   ]
  },
  {
   "cell_type": "code",
   "execution_count": 14,
   "id": "6e892f0e",
   "metadata": {},
   "outputs": [
    {
     "name": "stdout",
     "output_type": "stream",
     "text": [
      "규석\n",
      "규석\n"
     ]
    }
   ],
   "source": [
    "# 원소를 1개 선택\n",
    "# 정수형 위치 인덱스\n",
    "print(sr[0])\n",
    "\n",
    "# dlseprtm dlfma\n",
    "print(sr['이름'])"
   ]
  },
  {
   "cell_type": "markdown",
   "id": "12cc9d8e",
   "metadata": {},
   "source": [
    "### 시리즈 원소 선택 예제2"
   ]
  },
  {
   "cell_type": "code",
   "execution_count": 15,
   "id": "d45b6b2b",
   "metadata": {},
   "outputs": [
    {
     "name": "stdout",
     "output_type": "stream",
     "text": [
      "오늘날짜    2022-20-21\n",
      "성별               남\n",
      "dtype: object\n",
      "오늘날짜    2022-20-21\n",
      "성별               남\n",
      "dtype: object\n"
     ]
    }
   ],
   "source": [
    "# 원소를 다중 선택(인덱스 리스트 활용)\n",
    "# 정수형 위치 인덱스\n",
    "print(sr[[1,2]])\n",
    "\n",
    "# 인덱스 이름\n",
    "print(sr[['오늘날짜', '성별']])"
   ]
  },
  {
   "cell_type": "markdown",
   "id": "70fd8b53",
   "metadata": {},
   "source": [
    "- 인덱스는 다중 지정 시에 괄호를 두 개 써줘야 함"
   ]
  },
  {
   "cell_type": "markdown",
   "id": "a2ce38de",
   "metadata": {},
   "source": [
    "### 시리즈 원소 선택 예제3"
   ]
  },
  {
   "cell_type": "code",
   "execution_count": 16,
   "id": "325d291e",
   "metadata": {},
   "outputs": [
    {
     "name": "stdout",
     "output_type": "stream",
     "text": [
      "오늘날짜    2022-20-21\n",
      "dtype: object\n",
      "오늘날짜    2022-20-21\n",
      "성별               남\n",
      "dtype: object\n"
     ]
    }
   ],
   "source": [
    "# 원소를 다중 선택(인덱스 범위 지정)\n",
    "# 정수형 위치 인덱스\n",
    "print(sr[1:2])\n",
    "\n",
    "# 인덱스이름\n",
    "print(sr['오늘날짜':'성별'])"
   ]
  },
  {
   "cell_type": "markdown",
   "id": "79b56240",
   "metadata": {},
   "source": [
    "- 정수형 위치 인덱스를 사용할 시 범위의 끝은 미포함\n",
    "- 인덱스 이름을 사용하면 범위의 끝 포함"
   ]
  },
  {
   "cell_type": "markdown",
   "id": "3159f424",
   "metadata": {},
   "source": [
    "### 데이터프레임\n",
    "- 2차원 배열\n",
    "= 여러 개의 열벡터(시리즈)들이 같은 행 인덱스를 기준으로 결함된 2차원 벡터 또는 행렬(matrix)"
   ]
  },
  {
   "cell_type": "markdown",
   "id": "2b7468c3",
   "metadata": {},
   "source": [
    "### 행과 열을 나타내기 위해서는 행 인덱스와 열 이름 두 가지 종류의 주소를 사용\n",
    "- 열은 공통의 속성을 갖는 일련의 데이터의 집합\n",
    "- 행은 공통적이고 다양한 속성 데이터들의 모음인 레코드(record)"
   ]
  },
  {
   "cell_type": "markdown",
   "id": "1c9fda1a",
   "metadata": {},
   "source": [
    "### 데이터프레임 만들기 전 생각해보기\n",
    "1. 데이터프레임을 만들기 위해서는 같은 길이의 1차원 배열(Series)이 여러 개 필요\n",
    "2. 딕셔너리 값에 해당하는 각 리스트가 시리즈 배열로 변환되어 데이터프레임의 열이 됨\n",
    "3. 딕셔너리 키는 각 시리즈의 이름으로 변환되어 데이터프레임의 열 이름이 됨\n",
    "4. 데이터프레임을 만들 때는 판다스 DataFrame() 함수를 사용<br>\n",
    "\n",
    "`딕셔너리 -> 데이터프레임 변환: pandas,DataFrame(딕셔너리 객체)`"
   ]
  },
  {
   "cell_type": "markdown",
   "id": "6656e744",
   "metadata": {},
   "source": [
    "### 딕셔너리 -> 데이터프레임 변환 예제(.DataFrame)"
   ]
  },
  {
   "cell_type": "code",
   "execution_count": 17,
   "id": "9a3dc628",
   "metadata": {},
   "outputs": [],
   "source": [
    "import pandas as pd\n",
    "\n",
    "# key : value 를 쌍으로 갖는 딕셔너리를 생성, 변수 dict_data에 저장\n",
    "dict_data = {'c0': [1,2,3], 'c1' : [4,5,6], 'c2' : [7,8,9], 'c3' : [10,11,12], 'c4' : [13,14,15]}\n",
    "\n",
    "# 판다스 DataFrame() 함수로 딕셔너리를 데이터프레임으로 변환, 변수 df에 저장\n",
    "df = pd.DataFrame(dict_data)"
   ]
  },
  {
   "cell_type": "code",
   "execution_count": 18,
   "id": "2e0e70bb",
   "metadata": {},
   "outputs": [
    {
     "name": "stdout",
     "output_type": "stream",
     "text": [
      "<class 'pandas.core.frame.DataFrame'>\n"
     ]
    }
   ],
   "source": [
    "print(type(df))"
   ]
  },
  {
   "cell_type": "code",
   "execution_count": 19,
   "id": "620ebcd2",
   "metadata": {},
   "outputs": [
    {
     "name": "stdout",
     "output_type": "stream",
     "text": [
      "   c0  c1  c2  c3  c4\n",
      "0   1   4   7  10  13\n",
      "1   2   5   8  11  14\n",
      "2   3   6   9  12  15\n"
     ]
    }
   ],
   "source": [
    "print(df)"
   ]
  },
  {
   "cell_type": "markdown",
   "id": "17fa381b",
   "metadata": {},
   "source": [
    "### 행 인덱스 / 열 이름 설정 예제"
   ]
  },
  {
   "cell_type": "code",
   "execution_count": 20,
   "id": "be98c21d",
   "metadata": {},
   "outputs": [],
   "source": [
    "import pandas as pd\n",
    "\n",
    "# 행 인덱스 / 열 이름을 지정하여 데이터프레임 만들기\n",
    "df = pd.DataFrame([[22,'남','인천대'], [21, '여', '경기대'], [20, '남', '부산대']], # 다중 지정 시에 괄호 2개 사용\n",
    "                  index=['규석','영신','성민'],\n",
    "                  columns=['나이', '성별', '학교'])"
   ]
  },
  {
   "cell_type": "code",
   "execution_count": 21,
   "id": "a3e17e31",
   "metadata": {},
   "outputs": [
    {
     "name": "stdout",
     "output_type": "stream",
     "text": [
      "    나이 성별   학교\n",
      "규석  22  남  인천대\n",
      "영신  21  여  경기대\n",
      "성민  20  남  부산대\n"
     ]
    }
   ],
   "source": [
    "print(df)"
   ]
  },
  {
   "cell_type": "code",
   "execution_count": 22,
   "id": "ee801f1e",
   "metadata": {},
   "outputs": [
    {
     "name": "stdout",
     "output_type": "stream",
     "text": [
      "Index(['규석', '영신', '성민'], dtype='object')\n"
     ]
    }
   ],
   "source": [
    "print(df.index)"
   ]
  },
  {
   "cell_type": "code",
   "execution_count": 26,
   "id": "0b832d6e",
   "metadata": {},
   "outputs": [
    {
     "name": "stdout",
     "output_type": "stream",
     "text": [
      "Index(['나이', '성별', '학교'], dtype='object')\n"
     ]
    }
   ],
   "source": [
    "print(df.columns)"
   ]
  },
  {
   "cell_type": "markdown",
   "id": "947f1401",
   "metadata": {},
   "source": [
    "### 행 인덱스 / 열 이름 변경(.index / .columns)\n",
    "`행 인덱스 변경: DataFrame 객체.index = 새로운 행 인덱스 배열`<br>\n",
    "`열 이름 변경: DataFrame 객체.columns = 새로운 열 이름 배열`"
   ]
  },
  {
   "cell_type": "code",
   "execution_count": 27,
   "id": "5ad7f521",
   "metadata": {},
   "outputs": [],
   "source": [
    "import pandas as pd\n",
    "\n",
    "# 행 인덱스 / 열 이름을 지정하여 데이터프레임 만들기\n",
    "df = pd.DataFrame([[22, '남', '인천대'], [21, '여', '경기대'], [20, '남', '부산대']],\n",
    "                  index=['규석', '영신', '성민'],\n",
    "                  columns=['나이', '성별', '학교'])"
   ]
  },
  {
   "cell_type": "code",
   "execution_count": 28,
   "id": "bcdff8af",
   "metadata": {},
   "outputs": [],
   "source": [
    "df.index = ['준서', '지연', '성철']\n",
    "df.columns = ['연령', '남녀', '소속']"
   ]
  },
  {
   "cell_type": "code",
   "execution_count": 30,
   "id": "c6cf7c59",
   "metadata": {},
   "outputs": [
    {
     "name": "stdout",
     "output_type": "stream",
     "text": [
      "    연령 남녀   소속\n",
      "준서  22  남  인천대\n",
      "지연  21  여  경기대\n",
      "성철  20  남  부산대\n"
     ]
    }
   ],
   "source": [
    "print(df)"
   ]
  },
  {
   "cell_type": "code",
   "execution_count": 31,
   "id": "6aa03f6a",
   "metadata": {},
   "outputs": [
    {
     "name": "stdout",
     "output_type": "stream",
     "text": [
      "Index(['준서', '지연', '성철'], dtype='object')\n"
     ]
    }
   ],
   "source": [
    "print(df.index)"
   ]
  },
  {
   "cell_type": "code",
   "execution_count": 32,
   "id": "aa78c943",
   "metadata": {},
   "outputs": [
    {
     "name": "stdout",
     "output_type": "stream",
     "text": [
      "Index(['연령', '남녀', '소속'], dtype='object')\n"
     ]
    }
   ],
   "source": [
    "print(df.columns)"
   ]
  },
  {
   "cell_type": "markdown",
   "id": "ef77c780",
   "metadata": {},
   "source": [
    "### rename() 함수를 사용하여 행 인덱스 / 열 이름 변경 가능\n",
    "`행 인덱스 변경: DataFrame 객체.rename(index={기존 인덱스:새 인덱스, ...})`<br>\n",
    "`열 인덱스 변경: DataFrame 객체.rename(columns={기존 열 이름:새 열 이름, ...})`"
   ]
  },
  {
   "cell_type": "code",
   "execution_count": 3,
   "id": "49e3cfe2",
   "metadata": {},
   "outputs": [],
   "source": [
    "import pandas as pd\n",
    "\n",
    "# 행 인덱스 / 열 이름을 지정하여 데이터프레임 만들기\n",
    "df = pd.DataFrame([[22,'남','인천대'], [21,'여','경기대'], [20,'남','부산대']],\n",
    "                  index=['규석','영신','성민'],\n",
    "                  columns=['나이','성별','학교'])"
   ]
  },
  {
   "cell_type": "code",
   "execution_count": 4,
   "id": "337c02ee",
   "metadata": {},
   "outputs": [
    {
     "name": "stdout",
     "output_type": "stream",
     "text": [
      "    나이 성별   학교\n",
      "규석  22  남  인천대\n",
      "영신  21  여  경기대\n",
      "성민  20  남  부산대\n"
     ]
    }
   ],
   "source": [
    "print(df)"
   ]
  },
  {
   "cell_type": "code",
   "execution_count": 5,
   "id": "dc5d759d",
   "metadata": {},
   "outputs": [],
   "source": [
    "df.rename(index={'규석':'준서', '영신':'지연', '성민':'성철'}, inplace = True)\n",
    "df.rename(columns={'나이':'연령', '성별':'남녀', '학교':'소속'}, inplace = True)"
   ]
  },
  {
   "cell_type": "code",
   "execution_count": 6,
   "id": "2e3ccab5",
   "metadata": {},
   "outputs": [
    {
     "name": "stdout",
     "output_type": "stream",
     "text": [
      "    연령 남녀   소속\n",
      "준서  22  남  인천대\n",
      "지연  21  여  경기대\n",
      "성철  20  남  부산대\n"
     ]
    }
   ],
   "source": [
    "print(df)"
   ]
  },
  {
   "cell_type": "markdown",
   "id": "c0308fe6",
   "metadata": {},
   "source": [
    "- inplace = True를 쓰지 않으면 기존 객체가 변경되지 않음\n",
    "- inplace = True를 쓰면 기존 객체에 반영"
   ]
  },
  {
   "cell_type": "markdown",
   "id": "23ad0a2f",
   "metadata": {},
   "source": [
    "### 행 / 열 삭제(drop)\n",
    "- 행 / 열 삭제 시 drop() 함수 사용\n",
    "- 행을 삭제할 때 축(asix) 옵션으로 axis = 0 혹은 입력X\n",
    "- 열을 삭제할 때 축(axis) 옵션으로 axis = 1 입력<br>\n",
    "\n",
    "`행 삭제: DataFrame 객체.drop(행 인덱스 또는 배열, axis=0)`<br>\n",
    "`열 삭제: DataFrame 객체.drop(열 이름 또는 배열, axis=1)`"
   ]
  },
  {
   "cell_type": "markdown",
   "id": "70e86576",
   "metadata": {},
   "source": [
    "### 행 삭제 예제"
   ]
  },
  {
   "cell_type": "code",
   "execution_count": 7,
   "id": "2db1ce67",
   "metadata": {},
   "outputs": [],
   "source": [
    "import pandas as pd\n",
    "\n",
    "# 딕셔너리 생성\n",
    "exam_data={'국어': [70,90,80], '수학': [90,85,80], '영어': [100,80,90], '음악': [70,90,100]}\n",
    "\n",
    "# 딕셔너리 데이터프레임으로 전환, 행 인덱스 이름 설정\n",
    "df = pd.DataFrame(exam_data, index=['인서', '형준', '소진'])\n",
    "\n",
    "# 데이터프레임 df를 복제하여 변수 df2dp wjwkd\n",
    "df2 = df\n",
    "\n",
    "# 데이터 프레임 df를 복제하여 변수 df3에 저장\n",
    "df3 = df"
   ]
  },
  {
   "cell_type": "code",
   "execution_count": 8,
   "id": "bed5ade7",
   "metadata": {},
   "outputs": [
    {
     "name": "stdout",
     "output_type": "stream",
     "text": [
      "2290941165968\n",
      "2290941165968\n",
      "2290941165968\n"
     ]
    }
   ],
   "source": [
    "print(id(df))\n",
    "print(id(df2))\n",
    "print(id(df3))"
   ]
  },
  {
   "cell_type": "code",
   "execution_count": 9,
   "id": "bb2ec780",
   "metadata": {},
   "outputs": [
    {
     "data": {
      "text/html": [
       "<div>\n",
       "<style scoped>\n",
       "    .dataframe tbody tr th:only-of-type {\n",
       "        vertical-align: middle;\n",
       "    }\n",
       "\n",
       "    .dataframe tbody tr th {\n",
       "        vertical-align: top;\n",
       "    }\n",
       "\n",
       "    .dataframe thead th {\n",
       "        text-align: right;\n",
       "    }\n",
       "</style>\n",
       "<table border=\"1\" class=\"dataframe\">\n",
       "  <thead>\n",
       "    <tr style=\"text-align: right;\">\n",
       "      <th></th>\n",
       "      <th>국어</th>\n",
       "      <th>수학</th>\n",
       "      <th>영어</th>\n",
       "      <th>음악</th>\n",
       "    </tr>\n",
       "  </thead>\n",
       "  <tbody>\n",
       "    <tr>\n",
       "      <th>형준</th>\n",
       "      <td>90</td>\n",
       "      <td>85</td>\n",
       "      <td>80</td>\n",
       "      <td>90</td>\n",
       "    </tr>\n",
       "    <tr>\n",
       "      <th>소진</th>\n",
       "      <td>80</td>\n",
       "      <td>80</td>\n",
       "      <td>90</td>\n",
       "      <td>100</td>\n",
       "    </tr>\n",
       "  </tbody>\n",
       "</table>\n",
       "</div>"
      ],
      "text/plain": [
       "    국어  수학  영어   음악\n",
       "형준  90  85  80   90\n",
       "소진  80  80  90  100"
      ]
     },
     "execution_count": 9,
     "metadata": {},
     "output_type": "execute_result"
    }
   ],
   "source": [
    "# df2의 1개 행(row) 제거\n",
    "df2.drop(['인서'], axis=0)"
   ]
  },
  {
   "cell_type": "code",
   "execution_count": 10,
   "id": "92a1fc51",
   "metadata": {},
   "outputs": [
    {
     "data": {
      "text/html": [
       "<div>\n",
       "<style scoped>\n",
       "    .dataframe tbody tr th:only-of-type {\n",
       "        vertical-align: middle;\n",
       "    }\n",
       "\n",
       "    .dataframe tbody tr th {\n",
       "        vertical-align: top;\n",
       "    }\n",
       "\n",
       "    .dataframe thead th {\n",
       "        text-align: right;\n",
       "    }\n",
       "</style>\n",
       "<table border=\"1\" class=\"dataframe\">\n",
       "  <thead>\n",
       "    <tr style=\"text-align: right;\">\n",
       "      <th></th>\n",
       "      <th>국어</th>\n",
       "      <th>수학</th>\n",
       "      <th>영어</th>\n",
       "      <th>음악</th>\n",
       "    </tr>\n",
       "  </thead>\n",
       "  <tbody>\n",
       "    <tr>\n",
       "      <th>인서</th>\n",
       "      <td>70</td>\n",
       "      <td>90</td>\n",
       "      <td>100</td>\n",
       "      <td>70</td>\n",
       "    </tr>\n",
       "  </tbody>\n",
       "</table>\n",
       "</div>"
      ],
      "text/plain": [
       "    국어  수학   영어  음악\n",
       "인서  70  90  100  70"
      ]
     },
     "execution_count": 10,
     "metadata": {},
     "output_type": "execute_result"
    }
   ],
   "source": [
    "# df2의 2개 행(row) 제거\n",
    "df3.drop(['형준', '소진'], axis = 0)"
   ]
  },
  {
   "cell_type": "markdown",
   "id": "d201cd66",
   "metadata": {},
   "source": [
    "### 열 삭제 예제"
   ]
  },
  {
   "cell_type": "code",
   "execution_count": 11,
   "id": "fee759f9",
   "metadata": {},
   "outputs": [],
   "source": [
    "import pandas as pd\n",
    "\n",
    "# 딕셔너리 생성\n",
    "exam_data={'국어': [70,90,80], '수학': [90,85,80], '영어': [100,80,90], '음악': [70,90,100]}\n",
    "\n",
    "# 딕셔너리 데이터프레임으로 전환, 행 인덱스 이름 설정\n",
    "df = pd.DataFrame(exam_data, index=['인서', '형준', '소진'])\n",
    "\n",
    "# 데이터프레임 df를 복제하여 변수 df2dp wjwkd\n",
    "df2 = df\n",
    "\n",
    "# 데이터 프레임 df를 복제하여 변수 df3에 저장\n",
    "df3 = df"
   ]
  },
  {
   "cell_type": "code",
   "execution_count": 12,
   "id": "5ae101e8",
   "metadata": {},
   "outputs": [
    {
     "name": "stdout",
     "output_type": "stream",
     "text": [
      "    국어  수학   영어   음악\n",
      "인서  70  90  100   70\n",
      "형준  90  85   80   90\n",
      "소진  80  80   90  100\n"
     ]
    }
   ],
   "source": [
    "print(df)"
   ]
  },
  {
   "cell_type": "code",
   "execution_count": 13,
   "id": "84c018f0",
   "metadata": {},
   "outputs": [
    {
     "data": {
      "text/html": [
       "<div>\n",
       "<style scoped>\n",
       "    .dataframe tbody tr th:only-of-type {\n",
       "        vertical-align: middle;\n",
       "    }\n",
       "\n",
       "    .dataframe tbody tr th {\n",
       "        vertical-align: top;\n",
       "    }\n",
       "\n",
       "    .dataframe thead th {\n",
       "        text-align: right;\n",
       "    }\n",
       "</style>\n",
       "<table border=\"1\" class=\"dataframe\">\n",
       "  <thead>\n",
       "    <tr style=\"text-align: right;\">\n",
       "      <th></th>\n",
       "      <th>수학</th>\n",
       "      <th>영어</th>\n",
       "      <th>음악</th>\n",
       "    </tr>\n",
       "  </thead>\n",
       "  <tbody>\n",
       "    <tr>\n",
       "      <th>인서</th>\n",
       "      <td>90</td>\n",
       "      <td>100</td>\n",
       "      <td>70</td>\n",
       "    </tr>\n",
       "    <tr>\n",
       "      <th>형준</th>\n",
       "      <td>85</td>\n",
       "      <td>80</td>\n",
       "      <td>90</td>\n",
       "    </tr>\n",
       "    <tr>\n",
       "      <th>소진</th>\n",
       "      <td>80</td>\n",
       "      <td>90</td>\n",
       "      <td>100</td>\n",
       "    </tr>\n",
       "  </tbody>\n",
       "</table>\n",
       "</div>"
      ],
      "text/plain": [
       "    수학   영어   음악\n",
       "인서  90  100   70\n",
       "형준  85   80   90\n",
       "소진  80   90  100"
      ]
     },
     "execution_count": 13,
     "metadata": {},
     "output_type": "execute_result"
    }
   ],
   "source": [
    "# df2의 1개 열(colums) 삭제\n",
    "df2.drop('국어', axis=1)"
   ]
  },
  {
   "cell_type": "code",
   "execution_count": 14,
   "id": "94db904c",
   "metadata": {},
   "outputs": [
    {
     "data": {
      "text/html": [
       "<div>\n",
       "<style scoped>\n",
       "    .dataframe tbody tr th:only-of-type {\n",
       "        vertical-align: middle;\n",
       "    }\n",
       "\n",
       "    .dataframe tbody tr th {\n",
       "        vertical-align: top;\n",
       "    }\n",
       "\n",
       "    .dataframe thead th {\n",
       "        text-align: right;\n",
       "    }\n",
       "</style>\n",
       "<table border=\"1\" class=\"dataframe\">\n",
       "  <thead>\n",
       "    <tr style=\"text-align: right;\">\n",
       "      <th></th>\n",
       "      <th>국어</th>\n",
       "      <th>수학</th>\n",
       "    </tr>\n",
       "  </thead>\n",
       "  <tbody>\n",
       "    <tr>\n",
       "      <th>인서</th>\n",
       "      <td>70</td>\n",
       "      <td>90</td>\n",
       "    </tr>\n",
       "    <tr>\n",
       "      <th>형준</th>\n",
       "      <td>90</td>\n",
       "      <td>85</td>\n",
       "    </tr>\n",
       "    <tr>\n",
       "      <th>소진</th>\n",
       "      <td>80</td>\n",
       "      <td>80</td>\n",
       "    </tr>\n",
       "  </tbody>\n",
       "</table>\n",
       "</div>"
      ],
      "text/plain": [
       "    국어  수학\n",
       "인서  70  90\n",
       "형준  90  85\n",
       "소진  80  80"
      ]
     },
     "execution_count": 14,
     "metadata": {},
     "output_type": "execute_result"
    }
   ],
   "source": [
    "# df2의 2개 열(colums) 삭제\n",
    "df2.drop(['영어','음악'], axis=1)"
   ]
  },
  {
   "cell_type": "markdown",
   "id": "772105a5",
   "metadata": {},
   "source": [
    "### 행 선택\n",
    "데이터 시각화 부분에서 기준이 될 행을 선택할 수 있음\n",
    "- 인덱스 이름을 기준으로 행을 선택할 시 loc 이용\n",
    " - 범위 지정 시 범위 끝 포함\n",
    "- 정수형 위치 인덱스를 기준으로 행을 선택할 시 iloc 이용\n",
    " - 범위 지정 시 범위 끝 미포함"
   ]
  },
  {
   "cell_type": "code",
   "execution_count": 15,
   "id": "3777211c",
   "metadata": {},
   "outputs": [],
   "source": [
    "import pandas as pd\n",
    "\n",
    "exam_data = {'국어' : [70, 90, 80], '수학' : [90, 85, 80], '영어' : [100, 80, 90], '음악' : [70, 90, 100]}\n",
    "df = pd.DataFrame(exam_data, index=['인서', '연정', '린하'])"
   ]
  },
  {
   "cell_type": "code",
   "execution_count": 16,
   "id": "1b6f7bc3",
   "metadata": {},
   "outputs": [],
   "source": [
    "# 행 인덱스 이름을 사용하여 행 1개 선택\n",
    "label1 = df.loc['인서']\n",
    "position1 = df.iloc[0]"
   ]
  },
  {
   "cell_type": "code",
   "execution_count": 17,
   "id": "1a08e0d7",
   "metadata": {},
   "outputs": [
    {
     "name": "stdout",
     "output_type": "stream",
     "text": [
      "국어     70\n",
      "수학     90\n",
      "영어    100\n",
      "음악     70\n",
      "Name: 인서, dtype: int64\n"
     ]
    }
   ],
   "source": [
    "print(label1)"
   ]
  },
  {
   "cell_type": "code",
   "execution_count": 18,
   "id": "35dd62d2",
   "metadata": {},
   "outputs": [
    {
     "name": "stdout",
     "output_type": "stream",
     "text": [
      "국어     70\n",
      "수학     90\n",
      "영어    100\n",
      "음악     70\n",
      "Name: 인서, dtype: int64\n"
     ]
    }
   ],
   "source": [
    "print(position1)"
   ]
  },
  {
   "cell_type": "code",
   "execution_count": 22,
   "id": "5cde9c6c",
   "metadata": {},
   "outputs": [
    {
     "name": "stdout",
     "output_type": "stream",
     "text": [
      "<class 'pandas.core.series.Series'>\n"
     ]
    }
   ],
   "source": [
    "print(type(position1))"
   ]
  },
  {
   "cell_type": "markdown",
   "id": "0ff704f5",
   "metadata": {},
   "source": [
    "- 행 1개 선택 시 시리즈 형태로 출력"
   ]
  },
  {
   "cell_type": "code",
   "execution_count": 23,
   "id": "f41b5a44",
   "metadata": {},
   "outputs": [],
   "source": [
    "# 행 인덱스 이름을 사용하여 행 2개 선택\n",
    "label2 = df.loc[['연정','린하']]\n",
    "position2 = df.iloc[[1,2]]"
   ]
  },
  {
   "cell_type": "code",
   "execution_count": 24,
   "id": "3b1b73ea",
   "metadata": {},
   "outputs": [
    {
     "name": "stdout",
     "output_type": "stream",
     "text": [
      "    국어  수학  영어   음악\n",
      "연정  90  85  80   90\n",
      "린하  80  80  90  100\n"
     ]
    }
   ],
   "source": [
    "print(label2)"
   ]
  },
  {
   "cell_type": "code",
   "execution_count": 25,
   "id": "73a27d72",
   "metadata": {},
   "outputs": [
    {
     "name": "stdout",
     "output_type": "stream",
     "text": [
      "    국어  수학  영어   음악\n",
      "연정  90  85  80   90\n",
      "린하  80  80  90  100\n"
     ]
    }
   ],
   "source": [
    "print(position2)"
   ]
  },
  {
   "cell_type": "code",
   "execution_count": 26,
   "id": "fff1d54e",
   "metadata": {},
   "outputs": [
    {
     "name": "stdout",
     "output_type": "stream",
     "text": [
      "<class 'pandas.core.frame.DataFrame'>\n"
     ]
    }
   ],
   "source": [
    "print(type(position2))"
   ]
  },
  {
   "cell_type": "markdown",
   "id": "a12ab056",
   "metadata": {},
   "source": [
    "- 행 2개 이상 선택 시 데이터 프레임 형태로 출력"
   ]
  },
  {
   "cell_type": "code",
   "execution_count": 27,
   "id": "a0742c60",
   "metadata": {},
   "outputs": [],
   "source": [
    "# 행 인덱스 이름을 사용하여 행 여러 개 선택\n",
    "label3 = df.loc['인서':'연정']\n",
    "position3 = df.iloc[:1]"
   ]
  },
  {
   "cell_type": "code",
   "execution_count": 28,
   "id": "fc851c55",
   "metadata": {},
   "outputs": [
    {
     "name": "stdout",
     "output_type": "stream",
     "text": [
      "    국어  수학   영어  음악\n",
      "인서  70  90  100  70\n",
      "연정  90  85   80  90\n"
     ]
    }
   ],
   "source": [
    "print(label3)"
   ]
  },
  {
   "cell_type": "code",
   "execution_count": 29,
   "id": "1e052106",
   "metadata": {},
   "outputs": [
    {
     "name": "stdout",
     "output_type": "stream",
     "text": [
      "    국어  수학   영어  음악\n",
      "인서  70  90  100  70\n"
     ]
    }
   ],
   "source": [
    "print(position3)"
   ]
  },
  {
   "cell_type": "markdown",
   "id": "1581cce9",
   "metadata": {},
   "source": [
    "### 열 선택\n",
    "- 열은 정수형 위치 인덱스라는 개념이 존재 X"
   ]
  },
  {
   "cell_type": "code",
   "execution_count": 30,
   "id": "936081d2",
   "metadata": {},
   "outputs": [],
   "source": [
    "import pandas as pd\n",
    "\n",
    "exam_data = {'국어' : [70, 90, 80], '수학' : [90, 85, 80], '영어' : [100, 80, 90], '음악' : [70, 90, 100]}\n",
    "df = pd.DataFrame(exam_data, index=['요셉', '성훈', '동호'])"
   ]
  },
  {
   "cell_type": "code",
   "execution_count": 33,
   "id": "dac1ee01",
   "metadata": {},
   "outputs": [
    {
     "name": "stdout",
     "output_type": "stream",
     "text": [
      "요셉    90\n",
      "성훈    85\n",
      "동호    80\n",
      "Name: 수학, dtype: int64\n"
     ]
    }
   ],
   "source": [
    "# '수학' 점수 데이터만 선택(열 선택)\n",
    "math = df['수학']\n",
    "print(math)"
   ]
  },
  {
   "cell_type": "code",
   "execution_count": 34,
   "id": "d8098561",
   "metadata": {},
   "outputs": [
    {
     "name": "stdout",
     "output_type": "stream",
     "text": [
      "요셉    100\n",
      "성훈     80\n",
      "동호     90\n",
      "Name: 영어, dtype: int64\n"
     ]
    }
   ],
   "source": [
    "# '영어' 점수 데이터만 선택(열 선택)\n",
    "english = df.영어\n",
    "print(english)"
   ]
  },
  {
   "cell_type": "code",
   "execution_count": 35,
   "id": "4dfe3596",
   "metadata": {},
   "outputs": [
    {
     "name": "stdout",
     "output_type": "stream",
     "text": [
      "    국어   음악\n",
      "요셉  70   70\n",
      "성훈  90   90\n",
      "동호  80  100\n"
     ]
    }
   ],
   "source": [
    "# 열 2개 선택\n",
    "kor_music = df[['국어','음악']]\n",
    "print(kor_music)"
   ]
  },
  {
   "cell_type": "markdown",
   "id": "12f517dd",
   "metadata": {},
   "source": [
    "### 원소 선택\n",
    "- 데이터프레임의 행 인덱스와 열 이름을 [행,열] 형식의 2차원 좌표로 입력하여 원소 위치를 지정<br>\n",
    " `인덱스 이름: DataFrame객체.loc[행 인덱스 이름, 열 이름]`<br>\n",
    " `정수 위치 인덱스: DataFrame 객체.iloc[행 번호, 열 번호]`<br>\n",
    " - ioc와 iloc는 행 때문에 사용"
   ]
  },
  {
   "cell_type": "code",
   "execution_count": 36,
   "id": "ed61c0c1",
   "metadata": {},
   "outputs": [],
   "source": [
    "import pandas as pd\n",
    "\n",
    "exam_data = {'이름' : ['용준', '수빈', '재영'],\n",
    "             '국어' : [70, 90, 80],\n",
    "             '수학' : [90, 85, 80], \n",
    "             '영어' : [100, 80, 90], \n",
    "             '음악' : [70, 90, 100]}\n",
    "df = pd.DataFrame(exam_data)"
   ]
  },
  {
   "cell_type": "code",
   "execution_count": 37,
   "id": "2f3ab6cb",
   "metadata": {},
   "outputs": [
    {
     "name": "stdout",
     "output_type": "stream",
     "text": [
      "   이름  국어  수학   영어   음악\n",
      "0  용준  70  90  100   70\n",
      "1  수빈  90  85   80   90\n",
      "2  재영  80  80   90  100\n"
     ]
    }
   ],
   "source": [
    "print(df)"
   ]
  },
  {
   "cell_type": "code",
   "execution_count": 38,
   "id": "a66663eb",
   "metadata": {},
   "outputs": [
    {
     "name": "stdout",
     "output_type": "stream",
     "text": [
      "    국어  수학   영어   음악\n",
      "이름                  \n",
      "용준  70  90  100   70\n",
      "수빈  90  85   80   90\n",
      "재영  80  80   90  100\n"
     ]
    }
   ],
   "source": [
    "# '이름'열을 새로운 인덱스로 지정, df 객체에 변경 사항 저장\n",
    "df.set_index('이름', inplace = True)\n",
    "print(df)"
   ]
  },
  {
   "cell_type": "code",
   "execution_count": 39,
   "id": "088698f5",
   "metadata": {},
   "outputs": [
    {
     "name": "stdout",
     "output_type": "stream",
     "text": [
      "Index(['용준', '수빈', '재영'], dtype='object', name='이름')\n"
     ]
    }
   ],
   "source": [
    "print(df.index)"
   ]
  },
  {
   "cell_type": "code",
   "execution_count": 40,
   "id": "c95f8ef2",
   "metadata": {},
   "outputs": [
    {
     "name": "stdout",
     "output_type": "stream",
     "text": [
      "Index(['국어', '수학', '영어', '음악'], dtype='object')\n"
     ]
    }
   ],
   "source": [
    "print(df.columns)"
   ]
  },
  {
   "cell_type": "code",
   "execution_count": 42,
   "id": "fcfee90f",
   "metadata": {},
   "outputs": [
    {
     "name": "stdout",
     "output_type": "stream",
     "text": [
      "100\n"
     ]
    }
   ],
   "source": [
    "# 데이터프레임 df의 특정 원소 1개 선택('용준'의 '영어' 점수)\n",
    "a = df.loc['용준','영어']\n",
    "print(a)"
   ]
  },
  {
   "cell_type": "code",
   "execution_count": 43,
   "id": "0adffc45",
   "metadata": {},
   "outputs": [
    {
     "name": "stdout",
     "output_type": "stream",
     "text": [
      "100\n"
     ]
    }
   ],
   "source": [
    "# 데이터프레임 df의 특정 원소 1개 선택('용준'의 '영어' 점수)\n",
    "b = df.iloc[0,2]\n",
    "print(b)"
   ]
  },
  {
   "cell_type": "code",
   "execution_count": 45,
   "id": "bf54ae02",
   "metadata": {},
   "outputs": [
    {
     "name": "stdout",
     "output_type": "stream",
     "text": [
      "국어    90\n",
      "수학    85\n",
      "Name: 수빈, dtype: int64\n"
     ]
    }
   ],
   "source": [
    "# 데이터프레임 df의 특정 원소 2개 선택('수빈'의 '국어', '수학' 점수)\n",
    "c = df.loc['수빈',['국어','수학']]\n",
    "print(c)"
   ]
  },
  {
   "cell_type": "code",
   "execution_count": 46,
   "id": "648d2c5d",
   "metadata": {},
   "outputs": [
    {
     "name": "stdout",
     "output_type": "stream",
     "text": [
      "국어    90\n",
      "수학    85\n",
      "Name: 수빈, dtype: int64\n"
     ]
    }
   ],
   "source": [
    "# 데이터프레임 df의 특정 원소 2개 선택('수빈'의 '국어', '수학' 점수)\n",
    "d = df.iloc[1, [0, 1]]\n",
    "print(d)"
   ]
  },
  {
   "cell_type": "code",
   "execution_count": 47,
   "id": "0fdd5df8",
   "metadata": {},
   "outputs": [
    {
     "name": "stdout",
     "output_type": "stream",
     "text": [
      "국어    90\n",
      "수학    85\n",
      "Name: 수빈, dtype: int64\n"
     ]
    }
   ],
   "source": [
    "# 데이터프레임 df의 특정 원소 2개 선택('수빈'의 '국어', '수학' 점수)\n",
    "e = df.loc['수빈', '국어':'수학']\n",
    "print(e)"
   ]
  },
  {
   "cell_type": "code",
   "execution_count": 48,
   "id": "6814fccb",
   "metadata": {},
   "outputs": [
    {
     "name": "stdout",
     "output_type": "stream",
     "text": [
      "국어    90\n",
      "수학    85\n",
      "Name: 수빈, dtype: int64\n"
     ]
    }
   ],
   "source": [
    "# 데이터프레임 df의 특정 원소 2개 선택('수빈'의 '국어', '수학' 점수)\n",
    "f = df.iloc[1, 0:2]\n",
    "print(f)"
   ]
  },
  {
   "cell_type": "code",
   "execution_count": 49,
   "id": "a1bf7682",
   "metadata": {},
   "outputs": [
    {
     "name": "stdout",
     "output_type": "stream",
     "text": [
      "    영어   음악\n",
      "이름         \n",
      "수빈  80   90\n",
      "재영  90  100\n"
     ]
    }
   ],
   "source": [
    "# 데이터프레임 df의 2개 이상의 행과 열에 속하는 원소들 선택('수빈', '재영'의 '영어', '음악' 점수)\n",
    "g = df.loc[['수빈', '재영'], ['영어', '음악']]\n",
    "print(g)"
   ]
  },
  {
   "cell_type": "code",
   "execution_count": 50,
   "id": "779ea5f5",
   "metadata": {},
   "outputs": [
    {
     "name": "stdout",
     "output_type": "stream",
     "text": [
      "    영어   음악\n",
      "이름         \n",
      "수빈  80   90\n",
      "재영  90  100\n"
     ]
    }
   ],
   "source": [
    "# 데이터프레임 df의 2개 이상의 행과 열에 속하는 원소들 선택('수빈', '재영'의 '영어', '음악' 점수)\n",
    "h = df.iloc[[1, 2], [2, 3]]\n",
    "print(h)"
   ]
  },
  {
   "cell_type": "code",
   "execution_count": 51,
   "id": "46f6af8d",
   "metadata": {},
   "outputs": [
    {
     "name": "stdout",
     "output_type": "stream",
     "text": [
      "    영어   음악\n",
      "이름         \n",
      "수빈  80   90\n",
      "재영  90  100\n"
     ]
    }
   ],
   "source": [
    "# 데이터프레임 df의 2개 이상의 행과 열에 속하는 원소들 선택('수빈', '재영'의 '영어', '음악' 점수)\n",
    "i = df.loc['수빈':'재영', '영어':'음악']\n",
    "print(i)"
   ]
  },
  {
   "cell_type": "code",
   "execution_count": 55,
   "id": "a095f2d6",
   "metadata": {},
   "outputs": [
    {
     "name": "stdout",
     "output_type": "stream",
     "text": [
      "    영어   음악\n",
      "이름         \n",
      "수빈  80   90\n",
      "재영  90  100\n"
     ]
    }
   ],
   "source": [
    "# 데이터프레임 df의 2개 이상의 행과 열에 속하는 원소들 선택('수빈', '재영'의 '영어', '음악' 점수)\n",
    "j = df.iloc[1:, 2:]\n",
    "print(j)"
   ]
  },
  {
   "cell_type": "markdown",
   "id": "8efc5256",
   "metadata": {},
   "source": [
    "### 행 인덱스의 이름을 바꿀 경우 index.rename() 함수 사용"
   ]
  },
  {
   "cell_type": "code",
   "execution_count": 56,
   "id": "e35d19b5",
   "metadata": {},
   "outputs": [
    {
     "name": "stdout",
     "output_type": "stream",
     "text": [
      "    국어  수학   영어   음악\n",
      "이름                  \n",
      "용준  70  90  100   70\n",
      "수빈  90  85   80   90\n",
      "재영  80  80   90  100\n"
     ]
    }
   ],
   "source": [
    "print(df)"
   ]
  },
  {
   "cell_type": "code",
   "execution_count": 57,
   "id": "3a2a0cbc",
   "metadata": {},
   "outputs": [],
   "source": [
    "df.index.rename('성명',inplace=True)"
   ]
  },
  {
   "cell_type": "code",
   "execution_count": 58,
   "id": "ef44c98b",
   "metadata": {},
   "outputs": [
    {
     "name": "stdout",
     "output_type": "stream",
     "text": [
      "    국어  수학   영어   음악\n",
      "성명                  \n",
      "용준  70  90  100   70\n",
      "수빈  90  85   80   90\n",
      "재영  80  80   90  100\n"
     ]
    }
   ],
   "source": [
    "print(df)"
   ]
  },
  {
   "cell_type": "markdown",
   "id": "2c3395f7",
   "metadata": {},
   "source": [
    "### 직접 지정한 행 인덱스를 해제할 경우 reset_index() 사용"
   ]
  },
  {
   "cell_type": "code",
   "execution_count": 61,
   "id": "6b7879ba",
   "metadata": {},
   "outputs": [],
   "source": [
    "df.reset_index('성명', inplace = True)"
   ]
  },
  {
   "cell_type": "code",
   "execution_count": 62,
   "id": "afbc1207",
   "metadata": {},
   "outputs": [
    {
     "name": "stdout",
     "output_type": "stream",
     "text": [
      "   성명  국어  수학   영어   음악\n",
      "0  용준  70  90  100   70\n",
      "1  수빈  90  85   80   90\n",
      "2  재영  80  80   90  100\n"
     ]
    }
   ],
   "source": [
    "print(df)"
   ]
  },
  {
   "cell_type": "markdown",
   "id": "27df84be",
   "metadata": {},
   "source": [
    "### 행 인덱스 이름 지정(index.name)"
   ]
  },
  {
   "cell_type": "code",
   "execution_count": 69,
   "id": "7af1cc07",
   "metadata": {},
   "outputs": [],
   "source": [
    "import pandas as pd\n",
    "\n",
    "exam_data = {'이름' : ['용준', '수빈', '재영'],\n",
    "             '국어' : [70, 90, 80],\n",
    "             '수학' : [90, 85, 80], \n",
    "             '영어' : [100, 80, 90], \n",
    "             '음악' : [70, 90, 100]}\n",
    "df = pd.DataFrame(exam_data)"
   ]
  },
  {
   "cell_type": "code",
   "execution_count": 70,
   "id": "4570e803",
   "metadata": {},
   "outputs": [
    {
     "name": "stdout",
     "output_type": "stream",
     "text": [
      "   이름  국어  수학   영어   음악\n",
      "0  용준  70  90  100   70\n",
      "1  수빈  90  85   80   90\n",
      "2  재영  80  80   90  100\n"
     ]
    }
   ],
   "source": [
    "print(df)"
   ]
  },
  {
   "cell_type": "code",
   "execution_count": 71,
   "id": "b9846ba9",
   "metadata": {},
   "outputs": [
    {
     "name": "stdout",
     "output_type": "stream",
     "text": [
      "        이름  국어  수학   영어   음악\n",
      "number                      \n",
      "0       용준  70  90  100   70\n",
      "1       수빈  90  85   80   90\n",
      "2       재영  80  80   90  100\n"
     ]
    }
   ],
   "source": [
    "df.index.name = \"number\"\n",
    "print(df)"
   ]
  },
  {
   "cell_type": "markdown",
   "id": "e6e87a55",
   "metadata": {},
   "source": [
    "### 열 추가\n",
    "`DataFrame 객체['추가하려는 열 이름'] = 데이터 값`"
   ]
  },
  {
   "cell_type": "code",
   "execution_count": 72,
   "id": "739ae558",
   "metadata": {},
   "outputs": [],
   "source": [
    "import pandas as pd\n",
    "\n",
    "exam_data = {'이름' : ['건국', '예진', '원준'],\n",
    "             '국어' : [70, 90, 80],\n",
    "             '수학' : [90, 85, 80], \n",
    "             '영어' : [100, 80, 90], \n",
    "             '음악' : [70, 90, 100]}\n",
    "df = pd.DataFrame(exam_data)"
   ]
  },
  {
   "cell_type": "code",
   "execution_count": 76,
   "id": "2d77c14a",
   "metadata": {},
   "outputs": [],
   "source": [
    "# 데이터프레임 df에 '체육' 점수 열(column) 추가\n",
    "df['체육']:[80,70,75]"
   ]
  },
  {
   "cell_type": "code",
   "execution_count": 78,
   "id": "e74a3ffa",
   "metadata": {},
   "outputs": [
    {
     "name": "stdout",
     "output_type": "stream",
     "text": [
      "   이름  국어  수학   영어   음악\n",
      "0  건국  70  90  100   70\n",
      "1  예진  90  85   80   90\n",
      "2  원준  80  80   90  100\n"
     ]
    }
   ],
   "source": [
    "print(df)"
   ]
  },
  {
   "cell_type": "markdown",
   "id": "72419745",
   "metadata": {},
   "source": [
    "### 행 추가\n",
    "- 추가하려는 행 이름과 데이터 값을 loc 인덱서를 사용하여 입력<br>\n",
    "`DataFrame 객체.loc['새로운 행 이름'] = 데이터 값`"
   ]
  },
  {
   "cell_type": "code",
   "execution_count": 79,
   "id": "5ccf3e1b",
   "metadata": {},
   "outputs": [],
   "source": [
    "import pandas as pd\n",
    "\n",
    "exam_data = {'이름' : ['재윤', '상범', '수지'],\n",
    "             '국어' : [70, 90, 80],\n",
    "             '수학' : [90, 85, 80], \n",
    "             '영어' : [100, 80, 90], \n",
    "             '음악' : [70, 90, 100]}\n",
    "df = pd.DataFrame(exam_data)"
   ]
  },
  {
   "cell_type": "code",
   "execution_count": 80,
   "id": "a7be2795",
   "metadata": {},
   "outputs": [
    {
     "name": "stdout",
     "output_type": "stream",
     "text": [
      "   이름  국어  수학   영어   음악\n",
      "0  재윤  70  90  100   70\n",
      "1  상범  90  85   80   90\n",
      "2  수지  80  80   90  100\n"
     ]
    }
   ],
   "source": [
    "print(df)"
   ]
  },
  {
   "cell_type": "code",
   "execution_count": 81,
   "id": "881382f5",
   "metadata": {
    "scrolled": true
   },
   "outputs": [
    {
     "name": "stdout",
     "output_type": "stream",
     "text": [
      "   이름  국어  수학   영어   음악\n",
      "0  재윤  70  90  100   70\n",
      "1  상범  90  85   80   90\n",
      "2  수지  80  80   90  100\n",
      "3   0   0   0    0    0\n"
     ]
    }
   ],
   "source": [
    "# 새로운 행(row) 추가 - 같은 원소 값 입력\n",
    "df.loc[3] = 0\n",
    "print(df)"
   ]
  },
  {
   "cell_type": "code",
   "execution_count": 83,
   "id": "c746e5b6",
   "metadata": {},
   "outputs": [
    {
     "name": "stdout",
     "output_type": "stream",
     "text": [
      "   이름   국어  수학   영어   음악\n",
      "0  재윤   70  90  100   70\n",
      "1  상범   90  85   80   90\n",
      "2  수지   80  80   90  100\n",
      "3   0    0   0    0    0\n",
      "4  한결  100  75   85   80\n"
     ]
    }
   ],
   "source": [
    "# 새로운 행(row) 추가 - 원소 값 여러 개의 배열 입력\n",
    "df.loc[4] = ['한결', 100, 75, 85, 80]\n",
    "print(df)"
   ]
  },
  {
   "cell_type": "code",
   "execution_count": 84,
   "id": "ee72e02f",
   "metadata": {},
   "outputs": [],
   "source": [
    "# 새로운 행(row) 추가 - 기존 행 복사\n",
    "df.loc[5] = df.loc[3]"
   ]
  },
  {
   "cell_type": "code",
   "execution_count": 85,
   "id": "44f2b884",
   "metadata": {},
   "outputs": [
    {
     "name": "stdout",
     "output_type": "stream",
     "text": [
      "   이름   국어  수학   영어   음악\n",
      "0  재윤   70  90  100   70\n",
      "1  상범   90  85   80   90\n",
      "2  수지   80  80   90  100\n",
      "3   0    0   0    0    0\n",
      "4  한결  100  75   85   80\n",
      "5   0    0   0    0    0\n"
     ]
    }
   ],
   "source": [
    "print(df)"
   ]
  },
  {
   "cell_type": "markdown",
   "id": "b5e02bfb",
   "metadata": {},
   "source": [
    "### 원소 값 변경\n",
    "`DataFrame 객체의 일부분 또는 원소를 선택 = 새로운 값`"
   ]
  },
  {
   "cell_type": "code",
   "execution_count": 90,
   "id": "11592822",
   "metadata": {},
   "outputs": [],
   "source": [
    "import pandas as pd\n",
    "\n",
    "exam_data = {'이름' : ['예진', '지우', '진석'],\n",
    "             '국어' : [70, 90, 80],\n",
    "             '수학' : [90, 85, 80], \n",
    "             '영어' : [100, 80, 90], \n",
    "             '음악' : [70, 90, 100]}\n",
    "df = pd.DataFrame(exam_data)"
   ]
  },
  {
   "cell_type": "code",
   "execution_count": 91,
   "id": "78409642",
   "metadata": {},
   "outputs": [
    {
     "name": "stdout",
     "output_type": "stream",
     "text": [
      "   이름  국어  수학   영어   음악\n",
      "0  예진  70  90  100   70\n",
      "1  지우  90  85   80   90\n",
      "2  진석  80  80   90  100\n"
     ]
    }
   ],
   "source": [
    "print(df)"
   ]
  },
  {
   "cell_type": "code",
   "execution_count": 92,
   "id": "16a8ebc9",
   "metadata": {},
   "outputs": [
    {
     "name": "stdout",
     "output_type": "stream",
     "text": [
      "    국어  수학   영어   음악\n",
      "이름                  \n",
      "예진  70  90  100   70\n",
      "지우  90  85   80   90\n",
      "진석  80  80   90  100\n"
     ]
    }
   ],
   "source": [
    "# '이름'열을 새로운 인덱스로 지정, df 객체에 변경 사항 저장\n",
    "df.set_index('이름',inplace = True)\n",
    "print(df)"
   ]
  },
  {
   "cell_type": "code",
   "execution_count": 94,
   "id": "3567d7a0",
   "metadata": {},
   "outputs": [
    {
     "name": "stdout",
     "output_type": "stream",
     "text": [
      "Index(['예진', '지우', '진석'], dtype='object', name='이름')\n"
     ]
    }
   ],
   "source": [
    "print(df.index)"
   ]
  },
  {
   "cell_type": "code",
   "execution_count": 95,
   "id": "6e426953",
   "metadata": {},
   "outputs": [],
   "source": [
    "# 데이터프레임 df의 특정 원소를 변경('예진'의 '음악' 점수)\n",
    "df.iloc[0, 3] = 80"
   ]
  },
  {
   "cell_type": "code",
   "execution_count": 96,
   "id": "70632cfb",
   "metadata": {},
   "outputs": [
    {
     "name": "stdout",
     "output_type": "stream",
     "text": [
      "    국어  수학   영어   음악\n",
      "이름                  \n",
      "예진  70  90  100   80\n",
      "지우  90  85   80   90\n",
      "진석  80  80   90  100\n"
     ]
    }
   ],
   "source": [
    "print(df)"
   ]
  },
  {
   "cell_type": "code",
   "execution_count": 97,
   "id": "3d4f8306",
   "metadata": {},
   "outputs": [
    {
     "name": "stdout",
     "output_type": "stream",
     "text": [
      "    국어  수학   영어   음악\n",
      "이름                  \n",
      "예진  70  90  100   90\n",
      "지우  90  85   80   90\n",
      "진석  80  80   90  100\n"
     ]
    }
   ],
   "source": [
    "# 데이터프레임 df의 특정 원소를 변경('예진'의 '음악' 점수)\n",
    "df.iloc[0][3] = 90\n",
    "print(df)"
   ]
  },
  {
   "cell_type": "code",
   "execution_count": 98,
   "id": "fbe1999a",
   "metadata": {},
   "outputs": [
    {
     "name": "stdout",
     "output_type": "stream",
     "text": [
      "    국어  수학   영어   음악\n",
      "이름                  \n",
      "예진  70  90  100   85\n",
      "지우  90  85   80   90\n",
      "진석  80  80   90  100\n"
     ]
    }
   ],
   "source": [
    "# 데이터프레임 df의 특정 원소를 변경('예진'의 '음악' 점수)\n",
    "df.loc['예진', '음악'] = 85\n",
    "print(df)"
   ]
  },
  {
   "cell_type": "code",
   "execution_count": 99,
   "id": "5cc0f196",
   "metadata": {},
   "outputs": [
    {
     "name": "stdout",
     "output_type": "stream",
     "text": [
      "    국어  수학   영어   음악\n",
      "이름                  \n",
      "예진  70  90  100  100\n",
      "지우  90  85   80   90\n",
      "진석  80  80   90  100\n"
     ]
    }
   ],
   "source": [
    "# 데이터프레임 df의 특정 원소를 변경('예진'의 '음악' 점수)\n",
    "df.loc['예진']['음악'] = 100\n",
    "print(df)"
   ]
  },
  {
   "cell_type": "code",
   "execution_count": 100,
   "id": "0dddf71e",
   "metadata": {},
   "outputs": [
    {
     "name": "stdout",
     "output_type": "stream",
     "text": [
      "    국어   수학   영어   음악\n",
      "이름                   \n",
      "예진  70   90  100  100\n",
      "지우  90  100  100   90\n",
      "진석  80   80   90  100\n"
     ]
    }
   ],
   "source": [
    "# 데이터프레임 df의 원소 여러 개 변경('지우'의 '수학', '영어' 점수)\n",
    "df.loc['지우', ['수학', '영어']] = 100\n",
    "print(df)"
   ]
  },
  {
   "cell_type": "code",
   "execution_count": 101,
   "id": "a886397e",
   "metadata": {},
   "outputs": [
    {
     "name": "stdout",
     "output_type": "stream",
     "text": [
      "     국어   수학   영어   음악\n",
      "이름                    \n",
      "예진   70   90  100  100\n",
      "지우   90  100  100   90\n",
      "진석  100   95   90  100\n"
     ]
    }
   ],
   "source": [
    "# 데이터프레임 df의 원소 여러 개 변경('진석'의 '국어', '수학' 점수)\n",
    "df.loc['진석', ['국어', '수학']] = 100, 95\n",
    "print(df)"
   ]
  },
  {
   "cell_type": "markdown",
   "id": "f689eb14",
   "metadata": {},
   "source": [
    "### 행, 열의 위치 바꾸기(transpose)\n",
    "- 선형대수학의 전치행렬과 같은 개념<br>\n",
    "`행, 열 바꾸기: DataFrame 객체.transpose() or DataFrame 객체.T`"
   ]
  },
  {
   "cell_type": "code",
   "execution_count": 105,
   "id": "b1b1b050",
   "metadata": {},
   "outputs": [],
   "source": [
    "import pandas as pd\n",
    "\n",
    "exam_data = {'이름' : ['지연', '유림', '정수'],\n",
    "             '국어' : [70, 90, 80],\n",
    "             '수학' : [90, 85, 80], \n",
    "             '영어' : [100, 80, 90], \n",
    "             '음악' : [70, 90, 100]}\n",
    "df = pd.DataFrame(exam_data)"
   ]
  },
  {
   "cell_type": "code",
   "execution_count": 106,
   "id": "28d8aa0c",
   "metadata": {},
   "outputs": [
    {
     "name": "stdout",
     "output_type": "stream",
     "text": [
      "    국어  수학   영어   음악\n",
      "이름                  \n",
      "지연  70  90  100   70\n",
      "유림  90  85   80   90\n",
      "정수  80  80   90  100\n"
     ]
    }
   ],
   "source": [
    "# '이름'열을 새로운 인덱스로 지정, df 객체에 변경 사항 저장\n",
    "df.set_index('이름',inplace = True)\n",
    "print(df)"
   ]
  },
  {
   "cell_type": "code",
   "execution_count": 107,
   "id": "fdb716f2",
   "metadata": {},
   "outputs": [
    {
     "name": "stdout",
     "output_type": "stream",
     "text": [
      "이름   지연  유림   정수\n",
      "국어   70  90   80\n",
      "수학   90  85   80\n",
      "영어  100  80   90\n",
      "음악   70  90  100\n"
     ]
    }
   ],
   "source": [
    "# 데이터프레임 df를 전치하기\n",
    "df = df.transpose()\n",
    "print(df)"
   ]
  },
  {
   "cell_type": "code",
   "execution_count": 108,
   "id": "63b0c8f3",
   "metadata": {},
   "outputs": [
    {
     "name": "stdout",
     "output_type": "stream",
     "text": [
      "Index(['국어', '수학', '영어', '음악'], dtype='object')\n"
     ]
    }
   ],
   "source": [
    "print(df.index)"
   ]
  },
  {
   "cell_type": "code",
   "execution_count": 109,
   "id": "8dc06179",
   "metadata": {},
   "outputs": [
    {
     "name": "stdout",
     "output_type": "stream",
     "text": [
      "    국어  수학   영어   음악\n",
      "이름                  \n",
      "지연  70  90  100   70\n",
      "유림  90  85   80   90\n",
      "정수  80  80   90  100\n"
     ]
    }
   ],
   "source": [
    "# 데이터프레임 df를 다시 전치하기\n",
    "df = df.T\n",
    "print(df)"
   ]
  },
  {
   "cell_type": "markdown",
   "id": "8372fde3",
   "metadata": {},
   "source": [
    "### 인덱스 활용(set_index)\n",
    "특정 열을 행 인덱스로 설정\n",
    "- set_index() 함수를 사용하여 데이터프레임의 특정 열을 행 인덱스로 설정"
   ]
  },
  {
   "cell_type": "code",
   "execution_count": 120,
   "id": "fa774b00",
   "metadata": {},
   "outputs": [
    {
     "name": "stdout",
     "output_type": "stream",
     "text": [
      "   이름  국어  수학   영어   음악\n",
      "0  린하  70  90  100   70\n",
      "1  인서  90  85   80   90\n",
      "2  광열  80  80   90  100\n"
     ]
    }
   ],
   "source": [
    "import pandas as pd\n",
    "\n",
    "exam_data = {'이름' : ['린하', '인서', '광열'],\n",
    "             '국어' : [70, 90, 80],\n",
    "             '수학' : [90, 85, 80], \n",
    "             '영어' : [100, 80, 90], \n",
    "             '음악' : [70, 90, 100]}\n",
    "df = pd.DataFrame(exam_data)\n",
    "print(df)"
   ]
  },
  {
   "cell_type": "code",
   "execution_count": 121,
   "id": "26817ec6",
   "metadata": {},
   "outputs": [
    {
     "name": "stdout",
     "output_type": "stream",
     "text": [
      "    국어  수학   영어   음악\n",
      "이름                  \n",
      "린하  70  90  100   70\n",
      "인서  90  85   80   90\n",
      "광열  80  80   90  100\n"
     ]
    }
   ],
   "source": [
    "# 특정 열을 데이터프레임의 행 인덱스로 설정\n",
    "ndf = df.set_index('이름')\n",
    "print(ndf)"
   ]
  },
  {
   "cell_type": "markdown",
   "id": "d1d8d818",
   "metadata": {},
   "source": [
    "'이름'열을 새로운 인덱스로 지정하는 방법\n",
    "\n",
    "- 기존 객체에 변경 사항 저장<br>\n",
    "`df.set_index('이름', inplace = True)`\n",
    "\n",
    "- 새로운 객체에 변경 사항 저장<br>\n",
    "`ndf = df.set_index('이름')`"
   ]
  },
  {
   "cell_type": "code",
   "execution_count": 123,
   "id": "631c738c",
   "metadata": {},
   "outputs": [
    {
     "name": "stdout",
     "output_type": "stream",
     "text": [
      "     국어  수학   영어\n",
      "음악              \n",
      "70   70  90  100\n",
      "90   90  85   80\n",
      "100  80  80   90\n"
     ]
    }
   ],
   "source": [
    "# 특정 열을 데이터프레임의 행 인덱스로 설정\n",
    "ndf2 = ndf.set_index('음악')\n",
    "print(ndf2)"
   ]
  },
  {
   "cell_type": "markdown",
   "id": "eb8244d4",
   "metadata": {},
   "source": [
    "- 기존 \"이름\"행 인덱스는 제거가 된 것으로 확인"
   ]
  },
  {
   "cell_type": "code",
   "execution_count": 125,
   "id": "2001b060",
   "metadata": {},
   "outputs": [
    {
     "name": "stdout",
     "output_type": "stream",
     "text": [
      "    음악  국어  수학   영어\n",
      "0   70  70  90  100\n",
      "1   90  90  85   80\n",
      "2  100  80  80   90\n"
     ]
    }
   ],
   "source": [
    "# 행 인덱스를 리세\n",
    "ndf3 = ndf2.reset_index('음악')\n",
    "print(ndf3)"
   ]
  },
  {
   "cell_type": "markdown",
   "id": "cf0f7797",
   "metadata": {},
   "source": [
    "- 행 인덱스를 리셋해주어도 전에 지정해 놓았던 행 인덱스가 다시 적용되지는 않음(이름 인덱스가 돌아오지 않음)"
   ]
  },
  {
   "cell_type": "code",
   "execution_count": 126,
   "id": "8d32ed14",
   "metadata": {},
   "outputs": [
    {
     "name": "stdout",
     "output_type": "stream",
     "text": [
      "        국어   음악\n",
      "수학 영어          \n",
      "90 100  70   70\n",
      "85 80   90   90\n",
      "80 90   80  100\n"
     ]
    }
   ],
   "source": [
    "# 특정 열 2개를 데이터프레임의 행 인덱스로 설정\n",
    "ndf4 = ndf.set_index(['수학','영어'])\n",
    "print(ndf4)"
   ]
  },
  {
   "cell_type": "markdown",
   "id": "769a5aee",
   "metadata": {},
   "source": [
    "- 두 개의 열을 행 인덱스로 지정 가능"
   ]
  },
  {
   "cell_type": "markdown",
   "id": "66442d77",
   "metadata": {},
   "source": [
    "### 행 인덱스 재배열(reindex)\n",
    "- reindex() 함수를 사용하여 데이터프레임의 행 인덱스를 새로운 배열로 재지정 가능<br>\n",
    "`새로운 배열로 행 인덱스 재지정: DataFrame 객체.reindex()`\n",
    "- 기존 데이터프레임에 존재하지 않는 행 인덱스가 새로 추가되는 경우 해당 행의 데이터 값은 NaN 값이 입력됨"
   ]
  },
  {
   "cell_type": "code",
   "execution_count": 127,
   "id": "984b5c65",
   "metadata": {},
   "outputs": [],
   "source": [
    "import pandas as pd\n",
    "\n",
    "# key:value 를 쌍으로 갖는 딕셔너리를 생성, 변수 dict_data에 저장\n",
    "dict_data = {'c0' : [1, 2, 3], 'c1' : [4, 5, 6], 'c2' : [7, 8, 9], 'c3' : [10, 11, 12], 'c4' : [13, 14, 15]}\n",
    "\n",
    "# 판다스 DataFrame() 함수로 딕셔너리를 데이터프레임으로 변환, 변수 df에 저장\n",
    "df = pd.DataFrame(dict_data, index = ['r0', 'r1', 'r2'])"
   ]
  },
  {
   "cell_type": "code",
   "execution_count": 128,
   "id": "3dfa5c18",
   "metadata": {},
   "outputs": [
    {
     "name": "stdout",
     "output_type": "stream",
     "text": [
      "    c0  c1  c2  c3  c4\n",
      "r0   1   4   7  10  13\n",
      "r1   2   5   8  11  14\n",
      "r2   3   6   9  12  15\n"
     ]
    }
   ],
   "source": [
    "print(df)"
   ]
  },
  {
   "cell_type": "code",
   "execution_count": 129,
   "id": "8f1af3ff",
   "metadata": {},
   "outputs": [],
   "source": [
    "# 행 인덱스 재배열로 사용될 변수를 지정\n",
    "new_index = ['r0', 'r1']\n",
    "new_index2 = ['r3', 'r4', 'r5']\n",
    "new_index3 = ['r0', 'r1', 'r2', 'r3', 'r4']"
   ]
  },
  {
   "cell_type": "code",
   "execution_count": 130,
   "id": "fc1cc33d",
   "metadata": {},
   "outputs": [
    {
     "name": "stdout",
     "output_type": "stream",
     "text": [
      "    c0  c1  c2  c3  c4\n",
      "r0   1   4   7  10  13\n",
      "r1   2   5   8  11  14\n"
     ]
    }
   ],
   "source": [
    "# 행 인덱스를 ['r0', 'r1']로 재지정\n",
    "ndf = df.reindex(new_index)\n",
    "print(ndf)"
   ]
  },
  {
   "cell_type": "code",
   "execution_count": 131,
   "id": "60bb8038",
   "metadata": {},
   "outputs": [
    {
     "name": "stdout",
     "output_type": "stream",
     "text": [
      "    c0  c1  c2  c3  c4\n",
      "r3 NaN NaN NaN NaN NaN\n",
      "r4 NaN NaN NaN NaN NaN\n",
      "r5 NaN NaN NaN NaN NaN\n"
     ]
    }
   ],
   "source": [
    "# 행 인덱스를 ['r3', 'r4', 'r5']로 재지정\n",
    "ndf2 = df.reindex(new_index2)\n",
    "print(ndf2)"
   ]
  },
  {
   "cell_type": "markdown",
   "id": "e78cd767",
   "metadata": {},
   "source": [
    "- 새로운 행 인덱스로 재지정 할 경우 원소 값이 없으므로 NaN이 표기됨"
   ]
  },
  {
   "cell_type": "code",
   "execution_count": 132,
   "id": "89646057",
   "metadata": {},
   "outputs": [
    {
     "name": "stdout",
     "output_type": "stream",
     "text": [
      "     c0   c1   c2    c3    c4\n",
      "r0  1.0  4.0  7.0  10.0  13.0\n",
      "r1  2.0  5.0  8.0  11.0  14.0\n",
      "r2  3.0  6.0  9.0  12.0  15.0\n",
      "r3  NaN  NaN  NaN   NaN   NaN\n",
      "r4  NaN  NaN  NaN   NaN   NaN\n"
     ]
    }
   ],
   "source": [
    "# 행 인덱스를 ['r0', 'r1', 'r2', 'r3', 'r4']로 재지정\n",
    "ndf3 = df.reindex(new_index3)\n",
    "print(ndf3)"
   ]
  },
  {
   "cell_type": "code",
   "execution_count": 135,
   "id": "38e76142",
   "metadata": {},
   "outputs": [],
   "source": [
    "# 열 순서 변경\n",
    "# columns 옵션 사용\n",
    "ndf4 = ndf3.reindex(columns = ['c1', 'c0', 'c2', 'c3', 'c4','c5'])"
   ]
  },
  {
   "cell_type": "code",
   "execution_count": 136,
   "id": "65134cdc",
   "metadata": {},
   "outputs": [
    {
     "name": "stdout",
     "output_type": "stream",
     "text": [
      "     c1   c0   c2    c3    c4  c5\n",
      "r0  4.0  1.0  7.0  10.0  13.0 NaN\n",
      "r1  5.0  2.0  8.0  11.0  14.0 NaN\n",
      "r2  6.0  3.0  9.0  12.0  15.0 NaN\n",
      "r3  NaN  NaN  NaN   NaN   NaN NaN\n",
      "r4  NaN  NaN  NaN   NaN   NaN NaN\n"
     ]
    }
   ],
   "source": [
    "print(ndf4)"
   ]
  },
  {
   "cell_type": "markdown",
   "id": "42f1a703",
   "metadata": {},
   "source": [
    "### 행 인덱스 초기화(reset_index)\n",
    "- reset_index() 함수를 활용하여 행 인덱스를 정수형 위치 인덱스로 초기화(기존 행 인덱스는 열로 이동)<br>\n",
    "`정수형 위치 인덱스로 초기화: DataFrame 객체.reset_index()`"
   ]
  },
  {
   "cell_type": "code",
   "execution_count": 137,
   "id": "ff990e92",
   "metadata": {},
   "outputs": [],
   "source": [
    "import pandas as pd\n",
    "\n",
    "# key:value 를 쌍으로 갖는 딕셔너리를 생성, 변수 dict_data에 저장\n",
    "dict_data = {'c0' : [1, 2, 3], 'c1' : [4, 5, 6], 'c2' : [7, 8, 9], 'c3' : [10, 11, 12], 'c4' : [13, 14, 15]}\n",
    "\n",
    "# 판다스 DataFrame() 함수로 딕셔너리를 데이터프레임으로 변환, 변수 df에 저장\n",
    "df = pd.DataFrame(dict_data, index = ['r0', 'r1', 'r2'])"
   ]
  },
  {
   "cell_type": "code",
   "execution_count": 138,
   "id": "0600a217",
   "metadata": {},
   "outputs": [
    {
     "name": "stdout",
     "output_type": "stream",
     "text": [
      "    c0  c1  c2  c3  c4\n",
      "r0   1   4   7  10  13\n",
      "r1   2   5   8  11  14\n",
      "r2   3   6   9  12  15\n"
     ]
    }
   ],
   "source": [
    "print(df)"
   ]
  },
  {
   "cell_type": "code",
   "execution_count": 139,
   "id": "1875c953",
   "metadata": {},
   "outputs": [
    {
     "name": "stdout",
     "output_type": "stream",
     "text": [
      "  index  c0  c1  c2  c3  c4\n",
      "0    r0   1   4   7  10  13\n",
      "1    r1   2   5   8  11  14\n",
      "2    r2   3   6   9  12  15\n"
     ]
    }
   ],
   "source": [
    "# 행 인덱스를 정수형으로 초기화\n",
    "ndf = df.reset_index()\n",
    "print(ndf)"
   ]
  },
  {
   "cell_type": "code",
   "execution_count": 140,
   "id": "cc7bd2fb",
   "metadata": {},
   "outputs": [
    {
     "name": "stdout",
     "output_type": "stream",
     "text": [
      "       c0  c1  c2  c3  c4\n",
      "index                    \n",
      "r0      1   4   7  10  13\n",
      "r1      2   5   8  11  14\n",
      "r2      3   6   9  12  15\n"
     ]
    }
   ],
   "source": [
    "ndf2 = ndf.set_index('index')\n",
    "print(ndf2)"
   ]
  },
  {
   "cell_type": "markdown",
   "id": "be01a572",
   "metadata": {},
   "source": [
    "### 행 인덱스를 기준으로 데이터프레임 정렬(sort_index)\n",
    "- sort_index() 함수를 사용하여 행 인덱스를 기준으로 데이터프레임의 값을 정렬\n",
    " - ascending 옵션을 사용하여 오름차순 혹은 내림차순으로 설정<br>\n",
    "   True: 오름차순 정렬<br>\n",
    "   False: 내림차순 정렬<br>\n",
    "   `행 인덱스 기준 정렬: DataFrame 객체.sort_index()`"
   ]
  },
  {
   "cell_type": "code",
   "execution_count": 141,
   "id": "85f7ae95",
   "metadata": {},
   "outputs": [
    {
     "name": "stdout",
     "output_type": "stream",
     "text": [
      "    c0  c1  c2  c3  c4\n",
      "r0   1   6   7  10  13\n",
      "r1   2   4   8  11  14\n",
      "r2   3   5   9  12  15\n"
     ]
    }
   ],
   "source": [
    "import pandas as pd\n",
    "\n",
    "# key:value 를 쌍으로 갖는 딕셔너리를 생성, 변수 dict_data에 저장\n",
    "dict_data = {'c0' : [1, 2, 3], 'c1' : [6, 4, 5], 'c2' : [7, 8, 9], 'c3' : [10, 11, 12], 'c4' : [13, 14, 15]}\n",
    "\n",
    "# 판다스 DataFrame() 함수로 딕셔너리를 데이터프레임으로 변환, 변수 df에 저장\n",
    "df = pd.DataFrame(dict_data, index = ['r0', 'r1', 'r2'])\n",
    "print(df)"
   ]
  },
  {
   "cell_type": "code",
   "execution_count": 144,
   "id": "a0816862",
   "metadata": {},
   "outputs": [
    {
     "data": {
      "text/html": [
       "<div>\n",
       "<style scoped>\n",
       "    .dataframe tbody tr th:only-of-type {\n",
       "        vertical-align: middle;\n",
       "    }\n",
       "\n",
       "    .dataframe tbody tr th {\n",
       "        vertical-align: top;\n",
       "    }\n",
       "\n",
       "    .dataframe thead th {\n",
       "        text-align: right;\n",
       "    }\n",
       "</style>\n",
       "<table border=\"1\" class=\"dataframe\">\n",
       "  <thead>\n",
       "    <tr style=\"text-align: right;\">\n",
       "      <th></th>\n",
       "      <th>c0</th>\n",
       "      <th>c1</th>\n",
       "      <th>c2</th>\n",
       "      <th>c3</th>\n",
       "      <th>c4</th>\n",
       "    </tr>\n",
       "  </thead>\n",
       "  <tbody>\n",
       "    <tr>\n",
       "      <th>r2</th>\n",
       "      <td>3</td>\n",
       "      <td>5</td>\n",
       "      <td>9</td>\n",
       "      <td>12</td>\n",
       "      <td>15</td>\n",
       "    </tr>\n",
       "    <tr>\n",
       "      <th>r1</th>\n",
       "      <td>2</td>\n",
       "      <td>4</td>\n",
       "      <td>8</td>\n",
       "      <td>11</td>\n",
       "      <td>14</td>\n",
       "    </tr>\n",
       "    <tr>\n",
       "      <th>r0</th>\n",
       "      <td>1</td>\n",
       "      <td>6</td>\n",
       "      <td>7</td>\n",
       "      <td>10</td>\n",
       "      <td>13</td>\n",
       "    </tr>\n",
       "  </tbody>\n",
       "</table>\n",
       "</div>"
      ],
      "text/plain": [
       "    c0  c1  c2  c3  c4\n",
       "r2   3   5   9  12  15\n",
       "r1   2   4   8  11  14\n",
       "r0   1   6   7  10  13"
      ]
     },
     "execution_count": 144,
     "metadata": {},
     "output_type": "execute_result"
    }
   ],
   "source": [
    "# 내림차순으로 행 인덱스 정렬\n",
    "df.sort_index(ascending=False)"
   ]
  },
  {
   "cell_type": "code",
   "execution_count": 145,
   "id": "16ca1f6f",
   "metadata": {},
   "outputs": [
    {
     "data": {
      "text/html": [
       "<div>\n",
       "<style scoped>\n",
       "    .dataframe tbody tr th:only-of-type {\n",
       "        vertical-align: middle;\n",
       "    }\n",
       "\n",
       "    .dataframe tbody tr th {\n",
       "        vertical-align: top;\n",
       "    }\n",
       "\n",
       "    .dataframe thead th {\n",
       "        text-align: right;\n",
       "    }\n",
       "</style>\n",
       "<table border=\"1\" class=\"dataframe\">\n",
       "  <thead>\n",
       "    <tr style=\"text-align: right;\">\n",
       "      <th></th>\n",
       "      <th>c0</th>\n",
       "      <th>c1</th>\n",
       "      <th>c2</th>\n",
       "      <th>c3</th>\n",
       "      <th>c4</th>\n",
       "    </tr>\n",
       "  </thead>\n",
       "  <tbody>\n",
       "    <tr>\n",
       "      <th>r0</th>\n",
       "      <td>1</td>\n",
       "      <td>6</td>\n",
       "      <td>7</td>\n",
       "      <td>10</td>\n",
       "      <td>13</td>\n",
       "    </tr>\n",
       "    <tr>\n",
       "      <th>r1</th>\n",
       "      <td>2</td>\n",
       "      <td>4</td>\n",
       "      <td>8</td>\n",
       "      <td>11</td>\n",
       "      <td>14</td>\n",
       "    </tr>\n",
       "    <tr>\n",
       "      <th>r2</th>\n",
       "      <td>3</td>\n",
       "      <td>5</td>\n",
       "      <td>9</td>\n",
       "      <td>12</td>\n",
       "      <td>15</td>\n",
       "    </tr>\n",
       "  </tbody>\n",
       "</table>\n",
       "</div>"
      ],
      "text/plain": [
       "    c0  c1  c2  c3  c4\n",
       "r0   1   6   7  10  13\n",
       "r1   2   4   8  11  14\n",
       "r2   3   5   9  12  15"
      ]
     },
     "execution_count": 145,
     "metadata": {},
     "output_type": "execute_result"
    }
   ],
   "source": [
    "# 오름차순으로 행 인덱스 정렬\n",
    "df.sort_index() # ascending=True"
   ]
  },
  {
   "cell_type": "markdown",
   "id": "3927ca6b",
   "metadata": {},
   "source": [
    "### 특정 열의 데이터 값을 기준으로 데이터프레임 정렬(sort_values)\n",
    "- sort_values() 함수를 사용하여 특정 열의 데이터를 기준으로 데이터프레임의 값을 정렬\n",
    " - ascending 옵션을 사용하여 오름차순 혹은 내림차순으로 설정<br>\n",
    "   True: 오름차순 정렬<br>\n",
    "   False: 내림차순 정렬<br>\n",
    "   `열 인덱스 기준 정렬: DataFrame 객체.sort_values()`"
   ]
  },
  {
   "cell_type": "code",
   "execution_count": 148,
   "id": "00cdc6f0",
   "metadata": {},
   "outputs": [
    {
     "name": "stdout",
     "output_type": "stream",
     "text": [
      "    c0  c1  c2  c3  c4\n",
      "r0   1   6   7  10  13\n",
      "r2   3   5   9  12  15\n",
      "r1   2   4   8  11  14\n"
     ]
    }
   ],
   "source": [
    "# c1 열을 기준으로 내림차순 정렬\n",
    "ndf = df.sort_values(by='c1', ascending=False)\n",
    "print(ndf)"
   ]
  },
  {
   "cell_type": "code",
   "execution_count": 149,
   "id": "ed557a91",
   "metadata": {},
   "outputs": [
    {
     "name": "stdout",
     "output_type": "stream",
     "text": [
      "    c0  c1  c2  c3  c4\n",
      "r1   2   4   8  11  14\n",
      "r2   3   5   9  12  15\n",
      "r0   1   6   7  10  13\n"
     ]
    }
   ],
   "source": [
    "# c1 열을 기준으로 오름차순 정렬\n",
    "ndf = df.sort_values(by='c1', ascending=True)\n",
    "print(ndf)"
   ]
  },
  {
   "cell_type": "markdown",
   "id": "b34260ea",
   "metadata": {},
   "source": [
    "많은 열 중에 특정 열 2개의 위치를 바꾸고 싶은 경우?\n",
    "1. reindex로 새로운 열 배열이 지정된 데이터프레임을 생성\n",
    "2. 바뀐 데이터프레임과 나눠진 기존  데이터프레임을 결합(concat 사용)"
   ]
  },
  {
   "cell_type": "code",
   "execution_count": null,
   "id": "458f6a4c",
   "metadata": {},
   "outputs": [],
   "source": []
  }
 ],
 "metadata": {
  "kernelspec": {
   "display_name": "Python 3 (ipykernel)",
   "language": "python",
   "name": "python3"
  },
  "language_info": {
   "codemirror_mode": {
    "name": "ipython",
    "version": 3
   },
   "file_extension": ".py",
   "mimetype": "text/x-python",
   "name": "python",
   "nbconvert_exporter": "python",
   "pygments_lexer": "ipython3",
   "version": "3.9.7"
  }
 },
 "nbformat": 4,
 "nbformat_minor": 5
}
